{
 "cells": [
  {
   "cell_type": "code",
   "execution_count": 192,
   "metadata": {},
   "outputs": [
    {
     "data": {
      "text/plain": [
       "{'key1': 1,\n",
       " 'key2': '2',\n",
       " 'key3': [3, 3, 3],\n",
       " 'key4': (4, 4, 4),\n",
       " 'key5': 5,\n",
       " (0, 1): 6}"
      ]
     },
     "execution_count": 192,
     "metadata": {},
     "output_type": "execute_result"
    }
   ],
   "source": [
    "#DICTIONARIES IN PYTHON\n",
    "#Create a dictionaty\n",
    "Dict = {'key1':1, 'key2':'2', 'key3':[3,3,3], 'key4':(4,4,4,),('key5'): 5, (0,1):6}\n",
    "Dict"
   ]
  },
  {
   "cell_type": "code",
   "execution_count": 193,
   "metadata": {},
   "outputs": [
    {
     "data": {
      "text/plain": [
       "[3, 3, 3]"
      ]
     },
     "execution_count": 193,
     "metadata": {},
     "output_type": "execute_result"
    }
   ],
   "source": [
    "#Key can be string:\n",
    "Dict[\"key1\"]\n",
    "Dict[\"key3\"]"
   ]
  },
  {
   "cell_type": "code",
   "execution_count": 194,
   "metadata": {},
   "outputs": [
    {
     "data": {
      "text/plain": [
       "6"
      ]
     },
     "execution_count": 194,
     "metadata": {},
     "output_type": "execute_result"
    }
   ],
   "source": [
    "#Keys can be immutable object such as a tuple:\n",
    "#Access to the value by the key\n",
    "Dict[(0,1)]"
   ]
  },
  {
   "cell_type": "code",
   "execution_count": 195,
   "metadata": {},
   "outputs": [
    {
     "data": {
      "text/plain": [
       "{}"
      ]
     },
     "execution_count": 195,
     "metadata": {},
     "output_type": "execute_result"
    }
   ],
   "source": [
    "#Each key is separated from its value by a colon \":\". Commas separate the items, and the whole dictionary is enclosed in curly braces.\n",
    "#An empty dictionary without any items is written with just two curly braces, like this \"{}\".\n",
    "{}"
   ]
  },
  {
   "cell_type": "code",
   "execution_count": 196,
   "metadata": {},
   "outputs": [
    {
     "data": {
      "text/plain": [
       "{'Thriller': '1982',\n",
       " 'Black in Black': '1980',\n",
       " 'The Dark Side of the Moon': '1973',\n",
       " 'The Bodyguard': '1992',\n",
       " 'The Bat Out of the Hell': '1977',\n",
       " 'Their Greatest Hits(1971-1975)': '1976',\n",
       " 'Saturday Night Fever': '1977',\n",
       " 'Rumors': '1977'}"
      ]
     },
     "execution_count": 196,
     "metadata": {},
     "output_type": "execute_result"
    }
   ],
   "source": [
    "#Create a sample dictionary  $each key separated from its vlue by colon(:)/Commas separate the items, and the whole dictionary closed by curly braces.\n",
    "release_year_dict={'Thriller':'1982','Black in Black':'1980',\\\n",
    "'The Dark Side of the Moon':'1973','The Bodyguard':'1992',\\\n",
    "'The Bat Out of the Hell':'1977','Their Greatest Hits(1971-1975)':'1976',\\\n",
    "'Saturday Night Fever':'1977', 'Rumors':'1977'}\n",
    "release_year_dict\n"
   ]
  },
  {
   "cell_type": "code",
   "execution_count": 197,
   "metadata": {},
   "outputs": [
    {
     "data": {
      "text/plain": [
       "'1982'"
      ]
     },
     "execution_count": 197,
     "metadata": {},
     "output_type": "execute_result"
    }
   ],
   "source": [
    "#You can retrieve the values based on the names:(qayta chaqirib olish)\n",
    "#Get value by keys\n",
    "release_year_dict['Thriller']"
   ]
  },
  {
   "cell_type": "code",
   "execution_count": 198,
   "metadata": {},
   "outputs": [
    {
     "data": {
      "text/plain": [
       "'1992'"
      ]
     },
     "execution_count": 198,
     "metadata": {},
     "output_type": "execute_result"
    }
   ],
   "source": [
    "#Get the value by key\n",
    "release_year_dict['The Bodyguard']\n"
   ]
  },
  {
   "cell_type": "code",
   "execution_count": 199,
   "metadata": {},
   "outputs": [
    {
     "data": {
      "text/plain": [
       "dict_keys(['Thriller', 'Black in Black', 'The Dark Side of the Moon', 'The Bodyguard', 'The Bat Out of the Hell', 'Their Greatest Hits(1971-1975)', 'Saturday Night Fever', 'Rumors'])"
      ]
     },
     "execution_count": 199,
     "metadata": {},
     "output_type": "execute_result"
    }
   ],
   "source": [
    "#Now let us retrive the keys of the dictionary using the method #keys():\n",
    "#Get all the keys in dictionary\n",
    "release_year_dict.keys()"
   ]
  },
  {
   "cell_type": "code",
   "execution_count": 200,
   "metadata": {},
   "outputs": [
    {
     "data": {
      "text/plain": [
       "dict_values(['1982', '1980', '1973', '1992', '1977', '1976', '1977', '1977'])"
      ]
     },
     "execution_count": 200,
     "metadata": {},
     "output_type": "execute_result"
    }
   ],
   "source": [
    "#You can retrive the values the method #values():\n",
    "#Get all the values in dictionary\n",
    "release_year_dict.values()"
   ]
  },
  {
   "cell_type": "code",
   "execution_count": 201,
   "metadata": {},
   "outputs": [
    {
     "data": {
      "text/plain": [
       "{'Thriller': '1982',\n",
       " 'Black in Black': '1980',\n",
       " 'The Dark Side of the Moon': '1973',\n",
       " 'The Bodyguard': '1992',\n",
       " 'The Bat Out of the Hell': '1977',\n",
       " 'Their Greatest Hits(1971-1975)': '1976',\n",
       " 'Saturday Night Fever': '1977',\n",
       " 'Rumors': '1977',\n",
       " 'Graduation': '2007'}"
      ]
     },
     "execution_count": 201,
     "metadata": {},
     "output_type": "execute_result"
    }
   ],
   "source": [
    "#we can add entry:\n",
    "#Append value with into dictionary\n",
    "release_year_dict['Graduation']='2007'\n",
    "release_year_dict"
   ]
  },
  {
   "cell_type": "code",
   "execution_count": 202,
   "metadata": {},
   "outputs": [
    {
     "data": {
      "text/plain": [
       "{'Black in Black': '1980',\n",
       " 'The Dark Side of the Moon': '1973',\n",
       " 'The Bodyguard': '1992',\n",
       " 'The Bat Out of the Hell': '1977',\n",
       " 'Their Greatest Hits(1971-1975)': '1976',\n",
       " 'Saturday Night Fever': '1977',\n",
       " 'Rumors': '1977'}"
      ]
     },
     "execution_count": 202,
     "metadata": {},
     "output_type": "execute_result"
    }
   ],
   "source": [
    "#we can delete an entry:\n",
    "# Delete entry by keys:\n",
    "del(release_year_dict['Thriller'])\n",
    "del(release_year_dict['Graduation'])\n",
    "release_year_dict"
   ]
  },
  {
   "cell_type": "code",
   "execution_count": 203,
   "metadata": {},
   "outputs": [
    {
     "data": {
      "text/plain": [
       "False"
      ]
     },
     "execution_count": 203,
     "metadata": {},
     "output_type": "execute_result"
    }
   ],
   "source": [
    "# We can verufy if an element is in dictionary:\n",
    "#Verify the key is in dictionary:\n",
    "'The bodyguard' in release_year_dict"
   ]
  },
  {
   "cell_type": "code",
   "execution_count": 204,
   "metadata": {},
   "outputs": [
    {
     "data": {
      "text/plain": [
       "True"
      ]
     },
     "execution_count": 204,
     "metadata": {},
     "output_type": "execute_result"
    }
   ],
   "source": [
    "'Saturday Night Fever' in release_year_dict"
   ]
  },
  {
   "cell_type": "code",
   "execution_count": 205,
   "metadata": {},
   "outputs": [
    {
     "data": {
      "text/plain": [
       "{'The Bodyguard': '1992', 'Saturday Night Fever': '1977'}"
      ]
     },
     "execution_count": 205,
     "metadata": {},
     "output_type": "execute_result"
    }
   ],
   "source": [
    "# Quiz on  Dictionary\n",
    "# Question sample dictionary\n",
    "soundtrack_dic={'The Bodyguard':'1992','Saturday Night Fever':'1977'}\n",
    "soundtrack_dic"
   ]
  },
  {
   "cell_type": "code",
   "execution_count": 206,
   "metadata": {},
   "outputs": [
    {
     "data": {
      "text/plain": [
       "dict_keys(['The Bodyguard', 'Saturday Night Fever'])"
      ]
     },
     "execution_count": 206,
     "metadata": {},
     "output_type": "execute_result"
    }
   ],
   "source": [
    "# a) In dictionary sountrac_dic what are the keys?\n",
    "# Write your code below and press Shift+Enter to execute:\n",
    "soundtrack_dic.keys()\n"
   ]
  },
  {
   "cell_type": "code",
   "execution_count": 207,
   "metadata": {},
   "outputs": [
    {
     "data": {
      "text/plain": [
       "dict_values(['1992', '1977'])"
      ]
     },
     "execution_count": 207,
     "metadata": {},
     "output_type": "execute_result"
    }
   ],
   "source": [
    "# In the Dictionary soundtrack_dic what are the values?\n",
    "soundtrack_dic.values()"
   ]
  },
  {
   "cell_type": "code",
   "execution_count": 208,
   "metadata": {},
   "outputs": [
    {
     "data": {
      "text/plain": [
       "{'Black in Black': '50', 'The Bodyguard': '50', 'Thriller': '51'}"
      ]
     },
     "execution_count": 208,
     "metadata": {},
     "output_type": "execute_result"
    }
   ],
   "source": [
    "album_sales_dict={'Black in Black':'50', 'The Bodyguard':'50','Thriller':'51'}\n",
    "album_sales_dict"
   ]
  },
  {
   "cell_type": "code",
   "execution_count": 209,
   "metadata": {},
   "outputs": [
    {
     "data": {
      "text/plain": [
       "'51'"
      ]
     },
     "execution_count": 209,
     "metadata": {},
     "output_type": "execute_result"
    }
   ],
   "source": [
    "# b) use the dictionary to find the total sales of Thriller:\n",
    "album_sales_dict['Thriller']"
   ]
  },
  {
   "cell_type": "code",
   "execution_count": 210,
   "metadata": {},
   "outputs": [
    {
     "data": {
      "text/plain": [
       "dict_keys(['Black in Black', 'The Bodyguard', 'Thriller'])"
      ]
     },
     "execution_count": 210,
     "metadata": {},
     "output_type": "execute_result"
    }
   ],
   "source": [
    "# c) Find the names of the album from the dictionary using method keys()\n",
    "album_sales_dict.keys()"
   ]
  },
  {
   "cell_type": "code",
   "execution_count": 211,
   "metadata": {},
   "outputs": [
    {
     "data": {
      "text/plain": [
       "dict_values(['50', '50', '51'])"
      ]
     },
     "execution_count": 211,
     "metadata": {},
     "output_type": "execute_result"
    }
   ],
   "source": [
    "# Find the values of the recording sales from the dictionary using method values:\n",
    "album_sales_dict.values()"
   ]
  },
  {
   "cell_type": "code",
   "execution_count": 212,
   "metadata": {},
   "outputs": [],
   "source": [
    "# SENARIO iNVENTORY STORE \n",
    "# The inventory store scenario project utilizes a dictionary-based approach to develop a robust system for \n",
    "# managing and tracking inventory in a retail store.\n",
    "# Note:- You will be working with two product details.\n",
    "inventory = {}"
   ]
  },
  {
   "cell_type": "code",
   "execution_count": 213,
   "metadata": {},
   "outputs": [],
   "source": [
    "#Task-2 Store the first product details in variable\n",
    "#Product Name= Mobile phone\n",
    "#Product Quantity= 5\n",
    "#Product price= 20000\n",
    "#Product Release Year= 2020\n",
    "ProductNo1='Mobile Phone'\n",
    "ProductNo1_quantity=5\n",
    "ProductNo1_price = 2000\n",
    "ProductNo1_releaseYear=2020"
   ]
  },
  {
   "cell_type": "code",
   "execution_count": 214,
   "metadata": {},
   "outputs": [],
   "source": [
    "#Add details in the inventory\n",
    "inventory[\"ProductNo1\"]= ProductNo1\n",
    "inventory['ProductNo1_quantity']=ProductNo1_quantity\n",
    "inventory['ProductNo1_price']=ProductNo1_price\n",
    "inventory['ProductNo1_releaseYear']=ProductNo1_releaseYear"
   ]
  },
  {
   "cell_type": "code",
   "execution_count": 215,
   "metadata": {},
   "outputs": [],
   "source": [
    "#Task-4 Store the second product details in a variable.\n",
    "#Product Name= \"Laptop\"\n",
    "#Product Quantity= 10\n",
    "#Product price = 50000\n",
    "#Product Release Year= 2023\n",
    "ProductNo2='Laptop'\n",
    "ProductNo2_quantity=10\n",
    "ProductNo2_price=5000\n",
    "ProductNo2_releaseYear=2023"
   ]
  },
  {
   "cell_type": "code",
   "execution_count": 216,
   "metadata": {},
   "outputs": [],
   "source": [
    "inventory['ProductNo2']=ProductNo2\n",
    "inventory['ProductNo2_quantity']=ProductNo2_quantity\n",
    "inventory['ProductNo2_price']=ProductNo2_price\n",
    "inventory['ProductNo2_releaseYear']=ProductNo2_releaseYear\n"
   ]
  },
  {
   "cell_type": "code",
   "execution_count": 217,
   "metadata": {},
   "outputs": [
    {
     "name": "stdout",
     "output_type": "stream",
     "text": [
      "{'ProductNo1': 'Mobile Phone', 'ProductNo1_quantity': 5, 'ProductNo1_price': 2000, 'ProductNo1_releaseYear': 2020, 'ProductNo2': 'Laptop', 'ProductNo2_quantity': 10, 'ProductNo2_price': 5000, 'ProductNo2_releaseYear': 2023}\n"
     ]
    }
   ],
   "source": [
    "# Task-6 Display the Products present in the inventory\n",
    "print(inventory)"
   ]
  },
  {
   "cell_type": "code",
   "execution_count": 218,
   "metadata": {},
   "outputs": [
    {
     "data": {
      "text/plain": [
       "True"
      ]
     },
     "execution_count": 218,
     "metadata": {},
     "output_type": "execute_result"
    }
   ],
   "source": [
    "#Task-7 Check if ProductNo1_releaseYear and ProductNo2_releaseYear is in the inventory\n",
    "'ProductNo1_releaseYear' in inventory\n",
    "'ProductNo2_releaseYear' in inventory"
   ]
  },
  {
   "cell_type": "code",
   "execution_count": 219,
   "metadata": {},
   "outputs": [],
   "source": [
    "#Task-8 Delete release year of both the products from the inventory\n",
    "del(inventory['ProductNo1_releaseYear'])\n",
    "del(inventory['ProductNo2_releaseYear'])"
   ]
  }
 ],
 "metadata": {
  "kernelspec": {
   "display_name": "Python 3",
   "language": "python",
   "name": "python3"
  },
  "language_info": {
   "name": "python",
   "version": "3.13.1"
  }
 },
 "nbformat": 4,
 "nbformat_minor": 2
}
