{
 "cells": [
  {
   "cell_type": "code",
   "execution_count": 45,
   "metadata": {},
   "outputs": [],
   "source": [
    "#Sets in Python\n",
    "# A set is the unique collection of unordered elements.\n",
    "#  It is defined by values separated by a comma inside braces { }. \n",
    "# The elements are immutable and can be of any data type. \n",
    "# The set is mutable, and the elements can be added or removed. The set is unordered, so the elements are not indexed. \n",
    "# The set is iterable, and the elements can be accessed using a loop.\n",
    "#  The set is used to perform mathematical operations like union, intersection, difference, and symmetric difference. \n",
    "# The set is created using the set() constructor or by enclosing the elements inside braces { }.\n",
    "#  The set is represented by the class set.\n",
    "\n",
    "\n",
    "#Creating a set\n",
    "#The set is created by enclosing the elements inside braces { }.\n",
    "# The set is created using the set() constructor.\n",
    "# The set is created by passing the list to the set() constructor.\n",
    "# The set is created by passing the tuple to the set() constructor.\n",
    "# The set is created by passing the string to the set() constructor.\n",
    "# The set is created by passing the range() to the set() constructor.\n",
    "# The set is created by passing the dictionary to the set() constructor.\n",
    "# The set is created by passing the set to the set() constructor.\n",
    "# The set is created by passing the frozen set to the set() constructor.\n"
   ]
  },
  {
   "cell_type": "code",
   "execution_count": 46,
   "metadata": {},
   "outputs": [
    {
     "data": {
      "text/plain": [
       "{'R&B', 'disco', 'hard rock', 'pop', 'rock', 'soul'}"
      ]
     },
     "execution_count": 46,
     "metadata": {},
     "output_type": "execute_result"
    }
   ],
   "source": [
    "# Create a set\n",
    "set1={'pop','rock','soul','hard rock','rock','R&B','rock','disco'} #set of strings\n",
    "set1"
   ]
  },
  {
   "cell_type": "code",
   "execution_count": 47,
   "metadata": {},
   "outputs": [
    {
     "data": {
      "text/plain": [
       "{'00:42:19',\n",
       " 10.0,\n",
       " 1982,\n",
       " '30-Nov-82',\n",
       " 46.0,\n",
       " 65,\n",
       " None,\n",
       " 'The Bodyguard',\n",
       " 'Thriller',\n",
       " 'pop, RockR&B'}"
      ]
     },
     "execution_count": 47,
     "metadata": {},
     "output_type": "execute_result"
    }
   ],
   "source": [
    "# You can also create a set from a list as folows\n",
    "# Conver list to set\n",
    "\n",
    "album_list= ['The Bodyguard', 'Thriller', 1982, '00:42:19', \\\n",
    " 'pop, Rock' 'R&B', 46.0, 65, '30-Nov-82', None, 10.0]\n",
    "album_set=set(album_list)\n",
    "album_set\n"
   ]
  },
  {
   "cell_type": "code",
   "execution_count": 48,
   "metadata": {},
   "outputs": [
    {
     "data": {
      "text/plain": [
       "{'R&B',\n",
       " 'disco',\n",
       " 'folk rock',\n",
       " 'hard rock',\n",
       " 'pop',\n",
       " 'progressive rock',\n",
       " 'rock',\n",
       " 'soft rock',\n",
       " 'soul'}"
      ]
     },
     "execution_count": 48,
     "metadata": {},
     "output_type": "execute_result"
    }
   ],
   "source": [
    "#Now lets create a set of geners:\n",
    "# Conver list to set\n",
    "music_geners=set(['pop','pop','rock','folk rock','hard rock','soul',\\\n",
    "'progressive rock','soft rock','R&B','disco'])\n",
    "music_geners"
   ]
  },
  {
   "cell_type": "code",
   "execution_count": 49,
   "metadata": {},
   "outputs": [
    {
     "data": {
      "text/plain": [
       "{'AC/DC', 'Back in Black', 'Thriller'}"
      ]
     },
     "execution_count": 49,
     "metadata": {},
     "output_type": "execute_result"
    }
   ],
   "source": [
    "\n",
    "# Set Operations \n",
    "# Let us go over set of operations, as these can be used to change the set. \n",
    "A=set(['Thriller','Back in Black','AC/DC'])\n",
    "A"
   ]
  },
  {
   "cell_type": "code",
   "execution_count": 50,
   "metadata": {},
   "outputs": [
    {
     "data": {
      "text/plain": [
       "{'AC/DC', 'Back in Black', 'NCYNC', 'Thriller'}"
      ]
     },
     "execution_count": 50,
     "metadata": {},
     "output_type": "execute_result"
    }
   ],
   "source": [
    "# We can add the element using #add() method:\n",
    "# Add element to set\n",
    "A.add('NCYNC')\n",
    "A"
   ]
  },
  {
   "cell_type": "code",
   "execution_count": 51,
   "metadata": {},
   "outputs": [
    {
     "data": {
      "text/plain": [
       "{'AC/DC', 'Back in Black', 'NCYNC', 'Thriller'}"
      ]
     },
     "execution_count": 51,
     "metadata": {},
     "output_type": "execute_result"
    }
   ],
   "source": [
    "# If we add the same element twice, nothing will happen as there can be no duplicates in a set:\n",
    "# Try to add duplicate element to the set:\n",
    "A.add('NCYNC')\n",
    "A"
   ]
  },
  {
   "cell_type": "code",
   "execution_count": 52,
   "metadata": {},
   "outputs": [
    {
     "data": {
      "text/plain": [
       "{'AC/DC', 'Back in Black', 'Thriller'}"
      ]
     },
     "execution_count": 52,
     "metadata": {},
     "output_type": "execute_result"
    }
   ],
   "source": [
    "# We can remove an element from a set using the remove method:\n",
    "A.remove('NCYNC')\n",
    "A\n"
   ]
  },
  {
   "cell_type": "code",
   "execution_count": 53,
   "metadata": {},
   "outputs": [
    {
     "data": {
      "text/plain": [
       "({'AC/DC', 'Back in Black', 'Thriller'},\n",
       " {'AC/DC', 'Back in Black', 'The dark side of the moon'})"
      ]
     },
     "execution_count": 53,
     "metadata": {},
     "output_type": "execute_result"
    }
   ],
   "source": [
    "# Set Logic operations \n",
    "# Remember that with sets you can check the \n",
    "# difference between sets, as well as the symmetric differmces, intersection and union:\n",
    "# Samle set:\n",
    "album_set1=set(['Thriller', 'AC/DC', 'Back in Black',])\n",
    "album_set2=set(['AC/DC','Back in Black','The dark side of the moon'])\n",
    "#Print two sets:\n",
    "album_set1,album_set2"
   ]
  },
  {
   "cell_type": "code",
   "execution_count": 54,
   "metadata": {},
   "outputs": [
    {
     "data": {
      "text/plain": [
       "{'AC/DC', 'Back in Black'}"
      ]
     },
     "execution_count": 54,
     "metadata": {},
     "output_type": "execute_result"
    }
   ],
   "source": [
    "# As both sets contain AC/DC and Back in Black we represent these common elements with the intersection of two circles:\n",
    "# You can find the intersection of two sets as folow using &:\n",
    "intersection=album_set1&album_set2\n",
    "intersection"
   ]
  },
  {
   "cell_type": "code",
   "execution_count": 55,
   "metadata": {},
   "outputs": [
    {
     "data": {
      "text/plain": [
       "{'Thriller'}"
      ]
     },
     "execution_count": 55,
     "metadata": {},
     "output_type": "execute_result"
    }
   ],
   "source": [
    "# You can find all the elements  that are only contained in album_set1 using the differmce method:\n",
    "album_set1.difference(album_set2)"
   ]
  },
  {
   "cell_type": "code",
   "execution_count": 56,
   "metadata": {},
   "outputs": [
    {
     "data": {
      "text/plain": [
       "{'The dark side of the moon'}"
      ]
     },
     "execution_count": 56,
     "metadata": {},
     "output_type": "execute_result"
    }
   ],
   "source": [
    "# Elements in album_set2 but not in album_set1 is given by:\n",
    "album_set2.difference(album_set1)"
   ]
  },
  {
   "cell_type": "code",
   "execution_count": 57,
   "metadata": {},
   "outputs": [
    {
     "data": {
      "text/plain": [
       "{'AC/DC', 'Back in Black'}"
      ]
     },
     "execution_count": 57,
     "metadata": {},
     "output_type": "execute_result"
    }
   ],
   "source": [
    "# You can also find the intersection of album_list1 and album_list2, using the intersections method:\n",
    "# Use the intersection method to find the intersection of album list1 and list2\n",
    "album_set1.intersection(album_set2)"
   ]
  },
  {
   "cell_type": "code",
   "execution_count": 58,
   "metadata": {},
   "outputs": [
    {
     "data": {
      "text/plain": [
       "{'AC/DC', 'Back in Black', 'The dark side of the moon', 'Thriller'}"
      ]
     },
     "execution_count": 58,
     "metadata": {},
     "output_type": "execute_result"
    }
   ],
   "source": [
    "# The union corresponds to all elements in both sets, which is represented by the coloring both circles:\n",
    "# Find the union of two sets:\n",
    "album_set1.union(album_set2)"
   ]
  },
  {
   "cell_type": "code",
   "execution_count": 59,
   "metadata": {},
   "outputs": [
    {
     "data": {
      "text/plain": [
       "False"
      ]
     },
     "execution_count": 59,
     "metadata": {},
     "output_type": "execute_result"
    }
   ],
   "source": [
    "# You can check if a set is a superset or subset of another set, respectively like this:\n",
    "\n",
    "# Check if superset:\n",
    "set(album_set1).issuperset(album_set2)"
   ]
  },
  {
   "cell_type": "code",
   "execution_count": 60,
   "metadata": {},
   "outputs": [
    {
     "data": {
      "text/plain": [
       "False"
      ]
     },
     "execution_count": 60,
     "metadata": {},
     "output_type": "execute_result"
    }
   ],
   "source": [
    "# Check if subset:\n",
    "set(album_set2).issubset(album_set1)"
   ]
  },
  {
   "cell_type": "code",
   "execution_count": null,
   "metadata": {},
   "outputs": [
    {
     "data": {
      "text/plain": [
       "True"
      ]
     },
     "execution_count": 3,
     "metadata": {},
     "output_type": "execute_result"
    }
   ],
   "source": [
    "# Here is an example where issubset() and issuperset() return true:\n",
    "\n",
    "# Check if subset\n",
    "\n",
    "set({'Back in Black', 'AC/DC'}).issubset(album_set1)\n"
   ]
  },
  {
   "cell_type": "code",
   "execution_count": 4,
   "metadata": {},
   "outputs": [
    {
     "data": {
      "text/plain": [
       "True"
      ]
     },
     "execution_count": 4,
     "metadata": {},
     "output_type": "execute_result"
    }
   ],
   "source": [
    "# Check if superset\n",
    "album_set1.issuperset({'Back in Black','AC/DC'})"
   ]
  },
  {
   "cell_type": "code",
   "execution_count": 6,
   "metadata": {},
   "outputs": [
    {
     "data": {
      "text/plain": [
       "{'electronic music', 'house', 'rap'}"
      ]
     },
     "execution_count": 6,
     "metadata": {},
     "output_type": "execute_result"
    }
   ],
   "source": [
    "# Quiz on Sets\n",
    "L = ('rap', 'house','electronic music','rap')\n",
    "L_set=set(L)\n",
    "L_set"
   ]
  },
  {
   "cell_type": "code",
   "execution_count": 7,
   "metadata": {},
   "outputs": [
    {
     "data": {
      "text/plain": [
       "{'electronic music', 'house', 'rap'}"
      ]
     },
     "execution_count": 7,
     "metadata": {},
     "output_type": "execute_result"
    }
   ],
   "source": [
    "set(['rap', 'house','electronic music','rap'])"
   ]
  },
  {
   "cell_type": "code",
   "execution_count": 10,
   "metadata": {},
   "outputs": [
    {
     "name": "stdout",
     "output_type": "stream",
     "text": [
      "the sum of A list: 6\n",
      "the sum of B list: 3\n"
     ]
    },
    {
     "data": {
      "text/plain": [
       "False"
      ]
     },
     "execution_count": 10,
     "metadata": {},
     "output_type": "execute_result"
    }
   ],
   "source": [
    "A = [1, 2, 2, 1]\n",
    "B = set([1,2,2,1])\n",
    "print('the sum of A list:', sum(A))\n",
    "print('the sum of B list:', sum(B))\n",
    "sum(A)==sum(B)"
   ]
  },
  {
   "cell_type": "code",
   "execution_count": 13,
   "metadata": {},
   "outputs": [
    {
     "data": {
      "text/plain": [
       "{'AC/DC', 'Back in Black', 'The Dark sde of the Moon', 'Thriller'}"
      ]
     },
     "execution_count": 13,
     "metadata": {},
     "output_type": "execute_result"
    }
   ],
   "source": [
    "album_set1 =set(['Thriller','AC/DC','Back in Black'])\n",
    "album_set2=set(['AC/DC','Back in Black','The Dark sde of the Moon'])\n",
    "album_set3=album_set1.union(album_set2)\n",
    "album_set3"
   ]
  },
  {
   "cell_type": "code",
   "execution_count": 14,
   "metadata": {},
   "outputs": [
    {
     "data": {
      "text/plain": [
       "True"
      ]
     },
     "execution_count": 14,
     "metadata": {},
     "output_type": "execute_result"
    }
   ],
   "source": [
    "album_set1.issubset(album_set3)"
   ]
  },
  {
   "cell_type": "code",
   "execution_count": 15,
   "metadata": {},
   "outputs": [
    {
     "data": {
      "text/plain": [
       "True"
      ]
     },
     "execution_count": 15,
     "metadata": {},
     "output_type": "execute_result"
    }
   ],
   "source": [
    "album_set3.issuperset(album_set2)"
   ]
  },
  {
   "cell_type": "code",
   "execution_count": 16,
   "metadata": {},
   "outputs": [
    {
     "data": {
      "text/plain": [
       "True"
      ]
     },
     "execution_count": 16,
     "metadata": {},
     "output_type": "execute_result"
    }
   ],
   "source": [
    "album_set3.issuperset(album_set1)"
   ]
  }
 ],
 "metadata": {
  "kernelspec": {
   "display_name": "Python 3",
   "language": "python",
   "name": "python3"
  },
  "language_info": {
   "codemirror_mode": {
    "name": "ipython",
    "version": 3
   },
   "file_extension": ".py",
   "mimetype": "text/x-python",
   "name": "python",
   "nbconvert_exporter": "python",
   "pygments_lexer": "ipython3",
   "version": "3.13.2"
  }
 },
 "nbformat": 4,
 "nbformat_minor": 2
}
