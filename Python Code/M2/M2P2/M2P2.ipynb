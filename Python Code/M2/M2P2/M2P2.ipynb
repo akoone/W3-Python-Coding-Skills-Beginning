{
 "cells": [
  {
   "cell_type": "code",
   "execution_count": 1,
   "metadata": {},
   "outputs": [
    {
     "data": {
      "text/plain": [
       "{'key1': 1,\n",
       " 'key2': 2,\n",
       " 'key3': [3, 3, 3],\n",
       " 'key4': (4, 4, 4),\n",
       " 'key5': 5,\n",
       " (0, 1): 6}"
      ]
     },
     "execution_count": 1,
     "metadata": {},
     "output_type": "execute_result"
    }
   ],
   "source": [
    "#Doctionaries in Python\n",
    "# Create a Dictionary and perform operations on the Dictionary\n",
    "# Dictinaries cosis of keys and values/Instead of being indexed numerically like a list, dictionaries have keys. These keys are the keys that are used to eccess values within a dictionary\n",
    "#Social security number will be keys and details of the people will be values associated with it:\n",
    "# Create a dictionary and access the elements:\n",
    "dict = {'key1':1, 'key2':2,'key3':[3,3,3], 'key4':(4,4,4), ('key5'):5, (0,1):6}\n",
    "dict"
   ]
  },
  {
   "cell_type": "code",
   "execution_count": null,
   "metadata": {},
   "outputs": [],
   "source": []
  }
 ],
 "metadata": {
  "kernelspec": {
   "display_name": "Python 3",
   "language": "python",
   "name": "python3"
  },
  "language_info": {
   "name": "python",
   "version": "3.13.2"
  }
 },
 "nbformat": 4,
 "nbformat_minor": 2
}
