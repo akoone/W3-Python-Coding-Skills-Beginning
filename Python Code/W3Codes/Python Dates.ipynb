{
 "cells": [
  {
   "cell_type": "code",
   "execution_count": 1,
   "id": "1973abdf",
   "metadata": {},
   "outputs": [],
   "source": [
    "# Python Daytme\n",
    "\n",
    "# A date in Python is not a data type of its own, but we can import a module named datetime to work with dates as date objects.\n"
   ]
  },
  {
   "cell_type": "code",
   "execution_count": 2,
   "id": "20057366",
   "metadata": {},
   "outputs": [
    {
     "name": "stdout",
     "output_type": "stream",
     "text": [
      "2025-05-10 00:43:37.311241\n"
     ]
    }
   ],
   "source": [
    "import datetime\n",
    "\n",
    "x=datetime.datetime.now()\n",
    "print(x)"
   ]
  },
  {
   "cell_type": "code",
   "execution_count": 7,
   "id": "c99df1a4",
   "metadata": {},
   "outputs": [
    {
     "name": "stdout",
     "output_type": "stream",
     "text": [
      "47\n",
      "Saturday\n"
     ]
    }
   ],
   "source": [
    "# Date Output \n",
    "# When we execute the code from the example above the result will be:\n",
    "# Rerurn the year and name of weekdays:\n",
    "# \n",
    "# \n",
    "import datetime\n",
    "\n",
    "x=datetime.datetime.now()\n",
    "\n",
    "print(x.minute)\n",
    "print(x.strftime(\"%A\"))"
   ]
  },
  {
   "cell_type": "code",
   "execution_count": 9,
   "id": "f232b41d",
   "metadata": {},
   "outputs": [
    {
     "name": "stdout",
     "output_type": "stream",
     "text": [
      "2020-05-17 00:00:00\n"
     ]
    }
   ],
   "source": [
    "# Creating Date Pbjects\n",
    "\n",
    "# To create a date, we can use the datetime() class (constructor) of the datetime module.\n",
    "# The datetime() class requires three parameters to create a date: year, month, day:\n",
    "\n",
    "import datetime\n",
    "\n",
    "\n",
    "x=datetime.datetime(2020,5,17)\n",
    "\n",
    "print(x)"
   ]
  },
  {
   "cell_type": "code",
   "execution_count": 15,
   "id": "5a765ded",
   "metadata": {},
   "outputs": [
    {
     "name": "stdout",
     "output_type": "stream",
     "text": [
      "June\n"
     ]
    }
   ],
   "source": [
    "# The strfrime() Method\n",
    "\n",
    "\n",
    "# The datetime object has a method for formattinf date objects into readible strings.\n",
    "# The method is called srtftime(), and takes one parameter, format, to specify the format of the returned string:\n",
    "\n",
    "\n",
    "import datetime\n",
    "\n",
    "x= datetime.datetime(2018,6,1)\n",
    "\n",
    "print(x.strftime(\"%B\"))"
   ]
  },
  {
   "cell_type": "code",
   "execution_count": null,
   "id": "7ba488a8",
   "metadata": {},
   "outputs": [],
   "source": []
  }
 ],
 "metadata": {
  "kernelspec": {
   "display_name": "Python 3",
   "language": "python",
   "name": "python3"
  },
  "language_info": {
   "codemirror_mode": {
    "name": "ipython",
    "version": 3
   },
   "file_extension": ".py",
   "mimetype": "text/x-python",
   "name": "python",
   "nbconvert_exporter": "python",
   "pygments_lexer": "ipython3",
   "version": "3.13.3"
  }
 },
 "nbformat": 4,
 "nbformat_minor": 5
}
