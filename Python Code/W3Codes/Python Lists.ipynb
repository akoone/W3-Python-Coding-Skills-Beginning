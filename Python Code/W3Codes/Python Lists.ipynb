{
 "cells": [
  {
   "cell_type": "code",
   "execution_count": 1,
   "metadata": {},
   "outputs": [],
   "source": [
    "#Python Lists"
   ]
  },
  {
   "cell_type": "code",
   "execution_count": null,
   "metadata": {},
   "outputs": [],
   "source": [
    "mylist=['apple', 'banana','cherry']\n",
    "\n",
    "# Lists are used to store multiple items in a single variable.\n"
   ]
  },
  {
   "cell_type": "code",
   "execution_count": 3,
   "metadata": {},
   "outputs": [
    {
     "name": "stdout",
     "output_type": "stream",
     "text": [
      "['apple', 'banana', 'cherry']\n"
     ]
    }
   ],
   "source": [
    "thislist=['apple', 'banana', 'cherry']\n",
    "print(thislist)"
   ]
  },
  {
   "cell_type": "code",
   "execution_count": 4,
   "metadata": {},
   "outputs": [],
   "source": [
    "# List items are ordered, changable, and allow duplicate values.\n"
   ]
  },
  {
   "cell_type": "code",
   "execution_count": 5,
   "metadata": {},
   "outputs": [],
   "source": [
    "# Changable\n",
    "# The list is changable, meaning that we can change, add, and remove items in a list after it has been created:\n"
   ]
  },
  {
   "cell_type": "code",
   "execution_count": 6,
   "metadata": {},
   "outputs": [
    {
     "name": "stdout",
     "output_type": "stream",
     "text": [
      "['apple', 'banana', 'cherry', 'apple', 'cherry']\n"
     ]
    }
   ],
   "source": [
    "# Allow duplicates\n",
    "# Since lists are indexed, lists can have items with the same value:\n",
    "# Lists allow duplicate values:\n",
    "thislist=['apple', 'banana','cherry','apple','cherry']\n",
    "print(thislist)"
   ]
  },
  {
   "cell_type": "code",
   "execution_count": 7,
   "metadata": {},
   "outputs": [
    {
     "name": "stdout",
     "output_type": "stream",
     "text": [
      "3\n"
     ]
    }
   ],
   "source": [
    "# List Lenth\n",
    "\n",
    "# To determine how many items a list has, use the len() function:\n",
    "# Print the number of items in the list:\n",
    "\n",
    "thislist=['apple', 'banana','cherry']\n",
    "print(len(thislist))"
   ]
  },
  {
   "cell_type": "code",
   "execution_count": 8,
   "metadata": {},
   "outputs": [],
   "source": [
    "# List items - Data Types\n",
    "# List itms can be of any data type:\n",
    "# Str, int, bool data types:\n",
    "# A list contain different data types:\n"
   ]
  },
  {
   "cell_type": "code",
   "execution_count": 9,
   "metadata": {},
   "outputs": [
    {
     "ename": "SyntaxError",
     "evalue": "invalid syntax (2104134557.py, line 3)",
     "output_type": "error",
     "traceback": [
      "\u001b[1;36m  Cell \u001b[1;32mIn[9], line 3\u001b[1;36m\u001b[0m\n\u001b[1;33m    <class 'list'>\u001b[0m\n\u001b[1;37m    ^\u001b[0m\n\u001b[1;31mSyntaxError\u001b[0m\u001b[1;31m:\u001b[0m invalid syntax\n"
     ]
    }
   ],
   "source": [
    "# type()\n",
    "# From Python's perspective, lists are defined as objects with the data type 'list':\n",
    "<class 'list'>"
   ]
  },
  {
   "cell_type": "code",
   "execution_count": 11,
   "metadata": {},
   "outputs": [
    {
     "name": "stdout",
     "output_type": "stream",
     "text": [
      "<class 'list'>\n"
     ]
    }
   ],
   "source": [
    "mylist=['apple', 'banana', 'cherry']\n",
    "print(type(mylist))"
   ]
  },
  {
   "cell_type": "code",
   "execution_count": 12,
   "metadata": {},
   "outputs": [
    {
     "name": "stdout",
     "output_type": "stream",
     "text": [
      "['apple', 'banana', 'cherry']\n"
     ]
    }
   ],
   "source": [
    "# The list() Constructor\n",
    "# It is also possible to use the list() constructor when creating a new list.\n",
    "\n",
    "thislist=list(('apple','banana','cherry'))\n",
    "print(thislist)"
   ]
  },
  {
   "cell_type": "code",
   "execution_count": 13,
   "metadata": {},
   "outputs": [
    {
     "data": {
      "text/plain": [
       "'\\nlist\\ntuple\\nset\\ndictionary\\n'"
      ]
     },
     "execution_count": 13,
     "metadata": {},
     "output_type": "execute_result"
    }
   ],
   "source": [
    "# Python Collections (Arrays)\n",
    "# there are 4 collection data types in the Python programming language:\n",
    "'''\n",
    "list\n",
    "tuple\n",
    "set\n",
    "dictionary\n",
    "'''"
   ]
  },
  {
   "cell_type": "code",
   "execution_count": 14,
   "metadata": {},
   "outputs": [],
   "source": [
    "# Python - Access List Items\n",
    "# Access Itmes\n",
    "#List items are indexed and you can access them by referring to the index number:\n"
   ]
  },
  {
   "cell_type": "code",
   "execution_count": 15,
   "metadata": {},
   "outputs": [],
   "source": [
    "# Negative Indexing"
   ]
  },
  {
   "cell_type": "code",
   "execution_count": 17,
   "metadata": {},
   "outputs": [
    {
     "name": "stdout",
     "output_type": "stream",
     "text": [
      "['cherry', 'orange', 'kiwi']\n"
     ]
    }
   ],
   "source": [
    "# Range of Indexes\n",
    "# You can specify a range of indexes by specifying where to start and where to end the range\n",
    "# When specifyinh the range, the return value will be new list with specified items:\n",
    "thislist=['apple', 'banana','cherry', 'orange','kiwi', 'melon', 'mango']\n",
    "print(thislist[2:5])"
   ]
  },
  {
   "cell_type": "code",
   "execution_count": 19,
   "metadata": {},
   "outputs": [
    {
     "name": "stdout",
     "output_type": "stream",
     "text": [
      "['apple', 'banana', 'cherry', 'orange']\n",
      "['cherry', 'orange', 'kiwi', 'melon', 'mango']\n"
     ]
    }
   ],
   "source": [
    "# By leaving out the start value, the range will start at the first item:\n",
    "#By leaving out the end value, the range will go on the end of the list:\n",
    "print(thislist[:4])\n",
    "print(thislist[2:])"
   ]
  },
  {
   "cell_type": "code",
   "execution_count": 20,
   "metadata": {},
   "outputs": [
    {
     "name": "stdout",
     "output_type": "stream",
     "text": [
      "['orange', 'kiwi', 'melon']\n"
     ]
    }
   ],
   "source": [
    "# Range of Negative Indexes\n",
    "# Specify negative indexes if you want to start the search end of the list:\n",
    "print(thislist[-4:-1])"
   ]
  },
  {
   "cell_type": "code",
   "execution_count": 21,
   "metadata": {},
   "outputs": [
    {
     "name": "stdout",
     "output_type": "stream",
     "text": [
      "Yes, 'apple' in the fruits list\n"
     ]
    }
   ],
   "source": [
    "# Check if the item exist\n",
    "# to determine if a specified item is present in alist use the in keyword:\n",
    "\n",
    "thislist=['apple', 'banana','cherry']\n",
    "if 'apple' in thislist:\n",
    "    print(\"Yes, 'apple' in the fruits list\")"
   ]
  },
  {
   "cell_type": "code",
   "execution_count": 22,
   "metadata": {},
   "outputs": [
    {
     "name": "stdout",
     "output_type": "stream",
     "text": [
      "['apple', 'blackcurrant', 'cherry']\n"
     ]
    }
   ],
   "source": [
    "# Python - Change List Items\n",
    "\n",
    "# Change Item Value\n",
    "# To change the value of a specific item, refer to the index number:\n",
    "\n",
    "#Change the second item:\n",
    "\n",
    "thislist=['apple','banana','cherry']\n",
    "thislist[1]='blackcurrant'\n",
    "print(thislist)"
   ]
  },
  {
   "cell_type": "code",
   "execution_count": 23,
   "metadata": {},
   "outputs": [
    {
     "name": "stdout",
     "output_type": "stream",
     "text": [
      "['apple', 'blabkcurrant', 'watermelon', 'orange', 'kiwi', 'mango']\n"
     ]
    }
   ],
   "source": [
    "# Change a Range of Item Values\n",
    "# To change the values of items with a specific range, \n",
    "# define a list with new values, and refer to the range of \n",
    "# index numbers where you want to insert the new values:\n",
    "thislist=['apple','banana','cherry','orange','kiwi','mango']\n",
    "thislist[1:3]=['blabkcurrant','watermelon']\n",
    "print(thislist)"
   ]
  },
  {
   "cell_type": "code",
   "execution_count": 24,
   "metadata": {},
   "outputs": [
    {
     "name": "stdout",
     "output_type": "stream",
     "text": [
      "['apple', 'blackcurrant', 'watermelon', 'cherry']\n"
     ]
    }
   ],
   "source": [
    "# If you insert more items than you replace, the new items will be \n",
    "# inserted where you specified, and the remaining items will move accordingly:\n",
    "# Change the second value by replacing it with two new values:\n",
    "thislist=['apple','banana','cherry']\n",
    "thislist[1:2]=['blackcurrant','watermelon']\n",
    "print(thislist)"
   ]
  },
  {
   "cell_type": "code",
   "execution_count": 25,
   "metadata": {},
   "outputs": [
    {
     "name": "stdout",
     "output_type": "stream",
     "text": [
      "['apple', 'watermelon']\n"
     ]
    }
   ],
   "source": [
    "# If you insert less items thab you replace, the new items will be inserted where you specified, and the remaining items will move accordingly:\n",
    "thislist=['apple','banana','cherry']\n",
    "thislist[1:3]=['watermelon']\n",
    "print(thislist)"
   ]
  },
  {
   "cell_type": "code",
   "execution_count": 26,
   "metadata": {},
   "outputs": [
    {
     "name": "stdout",
     "output_type": "stream",
     "text": [
      "['apple', 'banana', 'watermelon', 'cherry']\n"
     ]
    }
   ],
   "source": [
    "# Insert Items\n",
    "\n",
    "# To insert a new list item, without replacing any of the existing values, we can use insert() method.\n",
    "# the insert() method inserts an item at the specified index:\n",
    "# Insert 'watermelon' as the third element:\n",
    "thislist=['apple', 'banana','cherry']\n",
    "thislist.insert(2,'watermelon')\n",
    "print(thislist)"
   ]
  },
  {
   "cell_type": "code",
   "execution_count": 27,
   "metadata": {},
   "outputs": [
    {
     "name": "stdout",
     "output_type": "stream",
     "text": [
      "['apple', 'banana', 'cherry', 'orange']\n"
     ]
    }
   ],
   "source": [
    "# Python - Add List Items\n",
    "# Append Items\n",
    "# To add an item to the end of the list, use the append() method.\n",
    "\n",
    "\n",
    "thislist=['apple','banana','cherry']\n",
    "thislist.append('orange')\n",
    "print(thislist)"
   ]
  },
  {
   "cell_type": "code",
   "execution_count": 28,
   "metadata": {},
   "outputs": [
    {
     "name": "stdout",
     "output_type": "stream",
     "text": [
      "['apple', 'orange', 'banana', 'cherry']\n"
     ]
    }
   ],
   "source": [
    "# Insert items\n",
    "# To insert a list item at a specific index, use the insert() method.\n",
    "# The insert() method inserts an item at the specific index:\n",
    "thislist=['apple', 'banana', 'cherry']\n",
    "thislist.insert(1,'orange')\n",
    "print(thislist)"
   ]
  },
  {
   "cell_type": "code",
   "execution_count": 29,
   "metadata": {},
   "outputs": [
    {
     "name": "stdout",
     "output_type": "stream",
     "text": [
      "['apple', 'banana', 'cherry', 'mango', 'pineapple', 'papaya']\n"
     ]
    }
   ],
   "source": [
    "# Extend List\n",
    "# To append elements from another list to the current list, use the extend() method.\n",
    "# Add the element tropical to thislist:\n",
    "\n",
    "thislist=['apple','banana','cherry']\n",
    "tropical=['mango','pineapple','papaya']\n",
    "thislist.extend(tropical)\n",
    "print(thislist)"
   ]
  },
  {
   "cell_type": "code",
   "execution_count": 30,
   "metadata": {},
   "outputs": [
    {
     "name": "stdout",
     "output_type": "stream",
     "text": [
      "['apple', 'banana', 'cherry', 'kiwi', 'orange']\n"
     ]
    }
   ],
   "source": [
    "# Add any Iterable\n",
    "# The extend() method does not have to append lists, you can add any iterable object(tuples,sets,dictionaries ect.).\n",
    "# Add elements of a tuple to a list:\n",
    "thislist=['apple','banana','cherry']\n",
    "thistuple=['kiwi','orange']\n",
    "thislist.extend(thistuple)\n",
    "print(thislist)"
   ]
  },
  {
   "cell_type": "code",
   "execution_count": 31,
   "metadata": {},
   "outputs": [
    {
     "name": "stdout",
     "output_type": "stream",
     "text": [
      "['apple', 'cherry']\n"
     ]
    }
   ],
   "source": [
    "# Python - Remove List Items\n",
    "\n",
    "# remove specified item\n",
    "\n",
    "thislist=['apple','banana','cherry']\n",
    "thislist.remove('banana')\n",
    "print(thislist)"
   ]
  },
  {
   "cell_type": "code",
   "execution_count": 32,
   "metadata": {},
   "outputs": [
    {
     "name": "stdout",
     "output_type": "stream",
     "text": [
      "['apple', 'cherry']\n"
     ]
    }
   ],
   "source": [
    "# Remmove Specified Index\n",
    "#the pop() method removes the specified index.\n",
    "\n",
    "thislist=['apple','banana','cherry']\n",
    "thislist.pop(1)\n",
    "print(thislist)"
   ]
  },
  {
   "cell_type": "code",
   "execution_count": 33,
   "metadata": {},
   "outputs": [
    {
     "name": "stdout",
     "output_type": "stream",
     "text": [
      "['apple', 'banana']\n"
     ]
    }
   ],
   "source": [
    "# If you do not specify the index, the pop() method removes the last item.\n",
    "thislist=['apple','banana','cherry']\n",
    "thislist.pop()\n",
    "print(thislist)"
   ]
  },
  {
   "cell_type": "code",
   "execution_count": 34,
   "metadata": {},
   "outputs": [
    {
     "name": "stdout",
     "output_type": "stream",
     "text": [
      "['banana', 'cherry']\n"
     ]
    }
   ],
   "source": [
    "# The del keyword also removes the specified index:\n",
    "thislist=['apple','banana','cherry']\n",
    "del thislist[0]\n",
    "print(thislist)"
   ]
  },
  {
   "cell_type": "code",
   "execution_count": 38,
   "metadata": {},
   "outputs": [],
   "source": [
    "# The del keyword can also delete the list completely.\n",
    "\n",
    "thislist=['apple','banana','cherry']\n",
    "del thislist\n"
   ]
  },
  {
   "cell_type": "code",
   "execution_count": 39,
   "metadata": {},
   "outputs": [
    {
     "name": "stdout",
     "output_type": "stream",
     "text": [
      "[]\n"
     ]
    }
   ],
   "source": [
    "# Clear the list\n",
    "# the clear() empties the list.append\n",
    "# the list still remains, but has no content.\n",
    "thislist=['apple','banana','cherry']\n",
    "thislist.clear()\n",
    "print(thislist)"
   ]
  },
  {
   "cell_type": "code",
   "execution_count": 45,
   "metadata": {},
   "outputs": [
    {
     "name": "stdout",
     "output_type": "stream",
     "text": [
      "apple\n",
      "banana\n",
      "cherry\n"
     ]
    }
   ],
   "source": [
    "# Python - Loop Lists\n",
    "# Loop Through a List\n",
    "# You can loop through the list items by using a for loop:\n",
    "thislist=['apple','banana','cherry']\n",
    "for fruits in thislist:\n",
    "    print(fruits)"
   ]
  },
  {
   "cell_type": "code",
   "execution_count": 47,
   "metadata": {},
   "outputs": [
    {
     "name": "stdout",
     "output_type": "stream",
     "text": [
      "apple\n",
      "banana\n",
      "cherry\n"
     ]
    }
   ],
   "source": [
    "# Loop through the index Numbers\n",
    "# You can also loop through the list items by reffering to their index number.\n",
    "thislist=['apple','banana','cherry']\n",
    "for fruits in range(len(thislist)):\n",
    "    print(thislist[fruits])"
   ]
  },
  {
   "cell_type": "code",
   "execution_count": 48,
   "metadata": {},
   "outputs": [
    {
     "name": "stdout",
     "output_type": "stream",
     "text": [
      "apple\n",
      "banana\n",
      "cherry\n"
     ]
    }
   ],
   "source": [
    "# Using a While Loop\n",
    "thislist=['apple','banana','cherry']\n",
    "i=0\n",
    "while i<len(thislist):\n",
    "    print(thislist[i])\n",
    "    i=i+1"
   ]
  },
  {
   "cell_type": "code",
   "execution_count": 49,
   "metadata": {},
   "outputs": [
    {
     "name": "stdout",
     "output_type": "stream",
     "text": [
      "apple\n",
      "banana\n",
      "cherry\n"
     ]
    },
    {
     "data": {
      "text/plain": [
       "[None, None, None]"
      ]
     },
     "execution_count": 49,
     "metadata": {},
     "output_type": "execute_result"
    }
   ],
   "source": [
    "# Looping Using List Comprehension\n",
    "thislist=['apple','banana','cherry']\n",
    "[print(x) for x in thislist]"
   ]
  },
  {
   "cell_type": "code",
   "execution_count": 50,
   "metadata": {},
   "outputs": [
    {
     "name": "stdout",
     "output_type": "stream",
     "text": [
      "['apple']\n",
      "['apple', 'banana']\n",
      "['apple', 'banana', 'mango']\n"
     ]
    }
   ],
   "source": [
    "# Python - List Comprehension\n",
    "\n",
    "# List Comprehension\n",
    "fruits = ['apple','banana','cherry','kiwi','mango']\n",
    "newlist=[]\n",
    "for x in fruits:\n",
    "    if 'a' in x:\n",
    "        newlist.append(x)\n",
    "        print(newlist)"
   ]
  },
  {
   "cell_type": "code",
   "execution_count": null,
   "metadata": {},
   "outputs": [],
   "source": []
  }
 ],
 "metadata": {
  "kernelspec": {
   "display_name": "Python 3",
   "language": "python",
   "name": "python3"
  },
  "language_info": {
   "codemirror_mode": {
    "name": "ipython",
    "version": 3
   },
   "file_extension": ".py",
   "mimetype": "text/x-python",
   "name": "python",
   "nbconvert_exporter": "python",
   "pygments_lexer": "ipython3",
   "version": "3.13.2"
  }
 },
 "nbformat": 4,
 "nbformat_minor": 2
}
