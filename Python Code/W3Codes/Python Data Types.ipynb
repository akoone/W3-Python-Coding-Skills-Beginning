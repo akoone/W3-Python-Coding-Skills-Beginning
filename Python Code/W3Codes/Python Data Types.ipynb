{
 "cells": [
  {
   "cell_type": "code",
   "execution_count": 36,
   "metadata": {},
   "outputs": [
    {
     "data": {
      "text/plain": [
       "'\\nText Type:\\tstr\\nNumeric Types:\\tint, float, complex\\nSequence Types:\\tlist, tuple, range\\nMapping Type:\\tdict\\nSet Types:\\tset, frozenset\\nBoolean Type:\\tbool\\nBinary Types:\\tbytes, bytearray, memoryview\\nNone Type:\\tNoneType'"
      ]
     },
     "execution_count": 36,
     "metadata": {},
     "output_type": "execute_result"
    }
   ],
   "source": [
    "\n",
    "#Build-in Data Types\n",
    "'''Variables can store data of different types, and different types can do different things.\n",
    "\n",
    "Python has the following data types built-in by default, in these categories:'''\n",
    "\n",
    "'''\n",
    "Text Type:\tstr\n",
    "Numeric Types:\tint, float, complex\n",
    "Sequence Types:\tlist, tuple, range\n",
    "Mapping Type:\tdict\n",
    "Set Types:\tset, frozenset\n",
    "Boolean Type:\tbool\n",
    "Binary Types:\tbytes, bytearray, memoryview\n",
    "None Type:\tNoneType'''"
   ]
  },
  {
   "cell_type": "code",
   "execution_count": 37,
   "metadata": {},
   "outputs": [
    {
     "name": "stdout",
     "output_type": "stream",
     "text": [
      "<class 'int'>\n"
     ]
    }
   ],
   "source": [
    "# Getting the Data Type\n",
    "# You ca get the data type of any object by using the type() function:\n",
    "\n",
    "x=5\n",
    "print(type(x))"
   ]
  },
  {
   "cell_type": "code",
   "execution_count": 38,
   "metadata": {},
   "outputs": [
    {
     "name": "stdout",
     "output_type": "stream",
     "text": [
      "<class 'str'>\n",
      "<class 'int'>\n",
      "<class 'float'>\n",
      "<class 'complex'>\n",
      "<class 'list'>\n",
      "<class 'tuple'>\n",
      "<class 'range'>\n",
      "<class 'dict'>\n",
      "<class 'set'>\n",
      "<class 'frozenset'>\n",
      "<class 'bool'>\n",
      "<class 'bytes'>\n",
      "<class 'bytearray'>\n",
      "<class 'memoryview'>\n",
      "<class 'NoneType'>\n"
     ]
    }
   ],
   "source": [
    "# Setting the data type\n",
    "\n",
    "# In python, the data type is set when you assign a value to a variable:\n",
    "\n",
    "x='Hello World'\n",
    "print(type(x))\n",
    "x=20\n",
    "print(type(x))\n",
    "x=20.5\n",
    "print(type(x))\n",
    "x=1j\n",
    "print(type(x))\n",
    "x=['apple','banaba','cherry']\n",
    "print(type(x))\n",
    "x=('apple','banaba','cherry')\n",
    "print(type(x))\n",
    "x=range(6)\n",
    "print(type(x))\n",
    "x={'name':'John','age':30}\n",
    "print(type(x))\n",
    "x={'apple','banaba','cherry'}\n",
    "print(type(x))\n",
    "x=frozenset({'apple','banana','cherry'})\n",
    "print(type(x))\n",
    "x=True\n",
    "print(type(x))\n",
    "x=b'Hello'\n",
    "print(type(x))\n",
    "x=bytearray(5)\n",
    "print(type(x))\n",
    "x=memoryview(bytes(5))\n",
    "print(type(x))\n",
    "x=None\n",
    "print(type(x))"
   ]
  },
  {
   "cell_type": "code",
   "execution_count": 39,
   "metadata": {},
   "outputs": [
    {
     "name": "stdout",
     "output_type": "stream",
     "text": [
      "Hello World\n",
      "20\n",
      "20.5\n",
      "1j\n",
      "['apple', 'banaba', 'cherry']\n",
      "('apple', 'banana', 'cherry')\n",
      "range(0, 6)\n",
      "{'name': 'John', 'age': 36}\n",
      "{'apple', 'cherry', 'banana'}\n",
      "frozenset({'apple', 'cherry', 'banana'})\n",
      "True\n",
      "b'\\x00\\x00\\x00\\x00\\x00'\n",
      "bytearray(b'\\x00\\x00\\x00\\x00\\x00')\n",
      "<memory at 0x0000023689DBD840>\n"
     ]
    }
   ],
   "source": [
    "# Setting the Specific Data Types\n",
    "\n",
    "# If you want to specify data type, you can use the following constructor function:\n",
    "\n",
    "x= str('Hello World')\n",
    "print(x)\n",
    "x=int(20)\n",
    "print(x)\n",
    "x=float(20.5)\n",
    "print(x)\n",
    "x=complex(1j)\n",
    "print(x)\n",
    "x=list(('apple','banaba','cherry'))\n",
    "print(x)\n",
    "x=tuple(('apple','banana','cherry'))\n",
    "print(x)\n",
    "x= range(6)\n",
    "print(x)\n",
    "x=dict(name='John', age=36)\n",
    "print(x)\n",
    "x=set(('apple','banana','cherry'))\n",
    "print(x)\n",
    "x=frozenset(('apple','banana','cherry'))\n",
    "print(x)\n",
    "x=bool(5)\n",
    "print(x)\n",
    "x=bytes(5)\n",
    "print(x)\n",
    "x=bytearray(5)\n",
    "print(x)\n",
    "x=memoryview(bytes(5))\n",
    "print(x)"
   ]
  },
  {
   "cell_type": "code",
   "execution_count": null,
   "metadata": {},
   "outputs": [],
   "source": []
  }
 ],
 "metadata": {
  "kernelspec": {
   "display_name": "Python 3",
   "language": "python",
   "name": "python3"
  },
  "language_info": {
   "codemirror_mode": {
    "name": "ipython",
    "version": 3
   },
   "file_extension": ".py",
   "mimetype": "text/x-python",
   "name": "python",
   "nbconvert_exporter": "python",
   "pygments_lexer": "ipython3",
   "version": "3.13.2"
  }
 },
 "nbformat": 4,
 "nbformat_minor": 2
}
