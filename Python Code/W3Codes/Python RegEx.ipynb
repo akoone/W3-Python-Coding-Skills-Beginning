{
 "cells": [
  {
   "cell_type": "code",
   "execution_count": 20,
   "id": "0a4de013",
   "metadata": {},
   "outputs": [
    {
     "name": "stdout",
     "output_type": "stream",
     "text": [
      "YES! I have a match!\n"
     ]
    }
   ],
   "source": [
    "# Python RegEx or regular expression, is a sequence of characters that forms a search pattern.\n",
    "# RegEx can be used to chech if a string contains the specified search pattern.\n",
    "\n",
    "import re\n",
    "\n",
    "txt='The rain in Spain'\n",
    "x=re.search('^The.*Spain$', txt)\n",
    "\n",
    "\n",
    "if x:\n",
    "    print('YES! I have a match!')\n",
    "else:\n",
    "    print('No Match')"
   ]
  },
  {
   "cell_type": "code",
   "execution_count": 21,
   "id": "c142ad20",
   "metadata": {},
   "outputs": [
    {
     "name": "stdout",
     "output_type": "stream",
     "text": [
      "['ai', 'ai']\n"
     ]
    }
   ],
   "source": [
    "# RegEx Functions\n",
    "# The re module offers a set of functions that allows us to search a string for a match:\n",
    "\n",
    "\n",
    "\n",
    "# The findall() Functions\n",
    "# The findall() functions returns a list containing all matches\n",
    "\n",
    "\n",
    "import re\n",
    "\n",
    "txt='The rain in Spain'\n",
    "x=re.findall('ai',txt)\n",
    "print(x)\n",
    "\n",
    "\n",
    "# The list contains the matches in the order they are found.\n",
    "# If no matches are found, an empty list is returned"
   ]
  },
  {
   "cell_type": "code",
   "execution_count": 22,
   "id": "97c85243",
   "metadata": {},
   "outputs": [
    {
     "name": "stdout",
     "output_type": "stream",
     "text": [
      "[]\n"
     ]
    }
   ],
   "source": [
    "import re\n",
    "\n",
    "\n",
    "txt='The rain in Spain'\n",
    "x=re.findall('Portugal', txt)\n",
    "\n",
    "print(x)"
   ]
  },
  {
   "cell_type": "code",
   "execution_count": 23,
   "id": "a226fb01",
   "metadata": {},
   "outputs": [
    {
     "name": "stdout",
     "output_type": "stream",
     "text": [
      "The first  white-space character is located in positions: 3\n"
     ]
    },
    {
     "name": "stderr",
     "output_type": "stream",
     "text": [
      "<>:7: SyntaxWarning: invalid escape sequence '\\s'\n",
      "<>:7: SyntaxWarning: invalid escape sequence '\\s'\n",
      "C:\\Users\\hpple\\AppData\\Local\\Temp\\ipykernel_23136\\3502117302.py:7: SyntaxWarning: invalid escape sequence '\\s'\n",
      "  x=re.search('\\s', txt )\n"
     ]
    }
   ],
   "source": [
    "#The search() function\n",
    "\n",
    "\n",
    "import re\n",
    "\n",
    "txt='The rain in Spain'\n",
    "x=re.search('\\s', txt )\n",
    "print('The first  white-space character is located in positions:', \n",
    "x.start())"
   ]
  },
  {
   "cell_type": "code",
   "execution_count": 24,
   "id": "0bd4b19c",
   "metadata": {},
   "outputs": [
    {
     "name": "stdout",
     "output_type": "stream",
     "text": [
      "None\n"
     ]
    }
   ],
   "source": [
    "# If no matches are found, the value None is returned:\n",
    "\n",
    "import re \n",
    "\n",
    "txt='The rain in Spain'\n",
    "x=re.search('Portugal', txt)\n",
    "print(x)"
   ]
  },
  {
   "cell_type": "code",
   "execution_count": 25,
   "id": "b4202c05",
   "metadata": {},
   "outputs": [
    {
     "name": "stdout",
     "output_type": "stream",
     "text": [
      "['The', 'rain', 'in', 'Spain']\n"
     ]
    },
    {
     "name": "stderr",
     "output_type": "stream",
     "text": [
      "<>:6: SyntaxWarning: invalid escape sequence '\\s'\n",
      "<>:6: SyntaxWarning: invalid escape sequence '\\s'\n",
      "C:\\Users\\hpple\\AppData\\Local\\Temp\\ipykernel_23136\\3319964677.py:6: SyntaxWarning: invalid escape sequence '\\s'\n",
      "  x=re.split('\\s', txt)\n"
     ]
    }
   ],
   "source": [
    "# The split() function returns a list where the string has been split at each metch:\n",
    "\n",
    "\n",
    "import re\n",
    "txt='The rain in Spain'\n",
    "x=re.split('\\s', txt)\n",
    "print(x)"
   ]
  },
  {
   "cell_type": "code",
   "execution_count": 30,
   "id": "3d065172",
   "metadata": {},
   "outputs": [
    {
     "name": "stdout",
     "output_type": "stream",
     "text": [
      "['Tha', 'rain', 'in', 'Spain']\n"
     ]
    },
    {
     "name": "stderr",
     "output_type": "stream",
     "text": [
      "<>:6: SyntaxWarning: invalid escape sequence '\\s'\n",
      "<>:6: SyntaxWarning: invalid escape sequence '\\s'\n",
      "C:\\Users\\hpple\\AppData\\Local\\Temp\\ipykernel_23136\\1306044233.py:6: SyntaxWarning: invalid escape sequence '\\s'\n",
      "  x=re.split('\\s', txt, 5)\n",
      "C:\\Users\\hpple\\AppData\\Local\\Temp\\ipykernel_23136\\1306044233.py:6: DeprecationWarning: 'maxsplit' is passed as positional argument\n",
      "  x=re.split('\\s', txt, 5)\n"
     ]
    }
   ],
   "source": [
    "# You can control the number of occurance bt specifying the maxsplit parameter:\n",
    "\n",
    "import re\n",
    "\n",
    "txt='Tha rain in Spain'\n",
    "x=re.split('\\s', txt, 5)\n",
    "print(x)"
   ]
  },
  {
   "cell_type": "code",
   "execution_count": 32,
   "id": "f352bf75",
   "metadata": {},
   "outputs": [
    {
     "name": "stdout",
     "output_type": "stream",
     "text": [
      "TheandrainandinandSpain\n"
     ]
    },
    {
     "name": "stderr",
     "output_type": "stream",
     "text": [
      "<>:6: SyntaxWarning: invalid escape sequence '\\s'\n",
      "<>:6: SyntaxWarning: invalid escape sequence '\\s'\n",
      "C:\\Users\\hpple\\AppData\\Local\\Temp\\ipykernel_23136\\3352073490.py:6: SyntaxWarning: invalid escape sequence '\\s'\n",
      "  x=re.sub('\\s','and', txt)\n"
     ]
    }
   ],
   "source": [
    "# The sub() function replaces the matcjes with the text of your choice:\n",
    "\n",
    "\n",
    "import re\n",
    "txt= 'The rain in Spain'\n",
    "x=re.sub('\\s','and', txt)\n",
    "print(x)"
   ]
  },
  {
   "cell_type": "code",
   "execution_count": 33,
   "id": "3dac33fb",
   "metadata": {},
   "outputs": [
    {
     "name": "stdout",
     "output_type": "stream",
     "text": [
      "The9rain9in Spain\n"
     ]
    },
    {
     "name": "stderr",
     "output_type": "stream",
     "text": [
      "<>:6: SyntaxWarning: invalid escape sequence '\\s'\n",
      "<>:6: SyntaxWarning: invalid escape sequence '\\s'\n",
      "C:\\Users\\hpple\\AppData\\Local\\Temp\\ipykernel_23136\\1220019356.py:6: SyntaxWarning: invalid escape sequence '\\s'\n",
      "  x=re.sub('\\s','9', txt,2)\n",
      "C:\\Users\\hpple\\AppData\\Local\\Temp\\ipykernel_23136\\1220019356.py:6: DeprecationWarning: 'count' is passed as positional argument\n",
      "  x=re.sub('\\s','9', txt,2)\n"
     ]
    }
   ],
   "source": [
    "# You can control the number of replacement by specifying the count parameter:\n",
    "\n",
    "\n",
    "import re\n",
    "txt='The rain in Spain'\n",
    "x=re.sub('\\s','9', txt,2)\n",
    "print(x)"
   ]
  },
  {
   "cell_type": "code",
   "execution_count": 34,
   "id": "c6414499",
   "metadata": {},
   "outputs": [
    {
     "name": "stdout",
     "output_type": "stream",
     "text": [
      "<re.Match object; span=(5, 7), match='ai'>\n"
     ]
    }
   ],
   "source": [
    "# Match Object is an object containing information about the search and the result.\n",
    "\n",
    "\n",
    "import re\n",
    "\n",
    "txt='The rain in Spain'\n",
    "x=re.search('ai', txt)\n",
    "print(x)"
   ]
  },
  {
   "cell_type": "code",
   "execution_count": 36,
   "id": "65d8ad1d",
   "metadata": {},
   "outputs": [
    {
     "name": "stdout",
     "output_type": "stream",
     "text": [
      "(12, 17)\n"
     ]
    }
   ],
   "source": [
    "import re\n",
    "\n",
    "txt='The rain in Spain'\n",
    "x=re.search(r'\\bS\\w+', txt)\n",
    "print(x.span())"
   ]
  },
  {
   "cell_type": "code",
   "execution_count": 38,
   "id": "c378d6fc",
   "metadata": {},
   "outputs": [
    {
     "name": "stdout",
     "output_type": "stream",
     "text": [
      "The rain in Spain\n"
     ]
    }
   ],
   "source": [
    "import re\n",
    "\n",
    "txt='The rain in Spain'\n",
    "x=re.search(r'\\bS\\w+', txt)\n",
    "print(x.string)"
   ]
  },
  {
   "cell_type": "code",
   "execution_count": null,
   "id": "a2745589",
   "metadata": {},
   "outputs": [
    {
     "name": "stdout",
     "output_type": "stream",
     "text": [
      "Spain\n"
     ]
    },
    {
     "ename": "",
     "evalue": "",
     "output_type": "error",
     "traceback": [
      "\u001b[1;31mThe Kernel crashed while executing code in the current cell or a previous cell. \n",
      "\u001b[1;31mPlease review the code in the cell(s) to identify a possible cause of the failure. \n",
      "\u001b[1;31mClick <a href='https://aka.ms/vscodeJupyterKernelCrash'>here</a> for more info. \n",
      "\u001b[1;31mView Jupyter <a href='command:jupyter.viewOutput'>log</a> for further details."
     ]
    }
   ],
   "source": [
    "import re\n",
    "\n",
    "\n",
    "txt='The rain in Spain'\n",
    "x=re.search(r'\\bS\\w+',txt)\n",
    "print(x.group())"
   ]
  },
  {
   "cell_type": "code",
   "execution_count": null,
   "id": "83813305",
   "metadata": {},
   "outputs": [],
   "source": []
  }
 ],
 "metadata": {
  "kernelspec": {
   "display_name": "Python 3",
   "language": "python",
   "name": "python3"
  },
  "language_info": {
   "codemirror_mode": {
    "name": "ipython",
    "version": 3
   },
   "file_extension": ".py",
   "mimetype": "text/x-python",
   "name": "python",
   "nbconvert_exporter": "python",
   "pygments_lexer": "ipython3",
   "version": "3.13.3"
  }
 },
 "nbformat": 4,
 "nbformat_minor": 5
}
