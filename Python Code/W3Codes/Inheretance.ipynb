{
 "cells": [
  {
   "cell_type": "code",
   "execution_count": 1,
   "id": "d8802486",
   "metadata": {},
   "outputs": [
    {
     "name": "stdout",
     "output_type": "stream",
     "text": [
      "John Doe\n"
     ]
    }
   ],
   "source": [
    "# Python Inheretence\n",
    "\n",
    "# Inheretence allows us to define a class that inherits all the methods and properties from another class.\n",
    "# Parent class is the class being inherited from, also called base class.\n",
    "# Child class is the class that inheritis from another class, also called derived class.\n",
    "# Any class can be a parent class, so the suntax is the same as creating any other class.\n",
    "# \n",
    "# \n",
    "\n",
    "\n",
    "class Person:\n",
    "    def __init__(self, fname, lname):\n",
    "        self.firstname=fname\n",
    "        self.lastname=lname\n",
    "\n",
    "\n",
    "    def printname(self):\n",
    "        print(self.firstname, self.lastname)\n",
    "\n",
    "\n",
    "\n",
    "x=Person('John','Doe')\n",
    "x.printname()\n"
   ]
  },
  {
   "cell_type": "code",
   "execution_count": 5,
   "id": "3d57ee04",
   "metadata": {},
   "outputs": [
    {
     "name": "stdout",
     "output_type": "stream",
     "text": [
      "Mike Olsen\n"
     ]
    }
   ],
   "source": [
    "# Create a Child Class\n",
    "# To create a class that inherits the functionality from another class, send parent class as a parameter when creating a child class:\n",
    "# \n",
    "# \n",
    "# \n",
    "class Student(Person):\n",
    "    pass\n",
    "\n",
    "# Now the Student class has the same properties and methods as Person class:\n",
    "\n",
    "\n",
    "x=Student('Mike', 'Olsen')\n",
    "x.printname()"
   ]
  },
  {
   "cell_type": "code",
   "execution_count": null,
   "id": "e2039226",
   "metadata": {},
   "outputs": [],
   "source": [
    "# Add the    __init__() Function\n",
    "\n",
    "\n",
    "# So far we have created a child class that inheretis the properties and methods from its parent:\n",
    "\n",
    "class Student(Person):\n",
    "    def __init__(self, fname, lname):\n",
    "        pass\n",
    "\n",
    "\n"
   ]
  },
  {
   "cell_type": "code",
   "execution_count": 13,
   "id": "79915656",
   "metadata": {},
   "outputs": [],
   "source": [
    "# When you add the __init__() function, the child class will no longer inherit the parent's __init__() function.\n",
    "# Note: The child's __init__() function overriede the inheritance of the parent's __init__() function.\n",
    "# To keep the inheritance of the parents's __init__() function, add a call to the parent's __init__() funvtion:\n",
    "\n",
    "\n",
    "class Student(Person):\n",
    "    def __init__(self, fname, lname):\n",
    "        Person.__init__(self, fname, lname)\n",
    "\n",
    "        # Now we have succesfully added the __init__() function, and kept the inheritance of the parent class, and we are ready to add functionality in the __init__() function:\n",
    "\n",
    "\n",
    "\n",
    "        "
   ]
  },
  {
   "cell_type": "code",
   "execution_count": null,
   "id": "efd19301",
   "metadata": {},
   "outputs": [],
   "source": [
    "# Use the super() Function\n",
    "\n",
    "#Python also has a super () function that will make the child class inherit all the methods and properties from its parent:\n",
    "\n",
    "\n",
    "\n",
    "class Student(Person):\n",
    "    def __init__(self, fname, lname):\n",
    "        super().__init__(fname, lname)\n",
    "\n",
    "\n",
    "        # By using the super () function, you do not have to use the name of the parent element, it will automaticall inherit the methods and properties from its parent.\n",
    "\n",
    "        "
   ]
  },
  {
   "cell_type": "code",
   "execution_count": 15,
   "id": "6d505b47",
   "metadata": {},
   "outputs": [],
   "source": [
    "# Add Properties\n",
    "\n",
    "class Student(Person):\n",
    "    def __init__(self, fname, lname):\n",
    "        super().__init__(fname, lname)\n",
    "        self.graduationyear=2019"
   ]
  },
  {
   "cell_type": "code",
   "execution_count": 16,
   "id": "9e1b6da3",
   "metadata": {},
   "outputs": [],
   "source": [
    "class Student(Person):\n",
    "    def __init__(self, fname, lname, year):\n",
    "        super().__init__(fname, lname)\n",
    "        self.graduationyear = year\n",
    "\n",
    "x = Student('Mike', 'Olsen', 2019)\n"
   ]
  },
  {
   "cell_type": "code",
   "execution_count": 18,
   "id": "19a2f0df",
   "metadata": {},
   "outputs": [
    {
     "name": "stdout",
     "output_type": "stream",
     "text": [
      "Welcome Mike Olsen to the class of 2024\n"
     ]
    }
   ],
   "source": [
    "# Add Methods \n",
    "# Add method called welcome to the Student class:\n",
    "\n",
    "\n",
    "class Student(Person):\n",
    "    def __init__ (self, fname, lname, year):\n",
    "        super().__init__(fname, lname)\n",
    "        self.graduationyear = year\n",
    "\n",
    "\n",
    "    def welcome(self):\n",
    "        print('Welcome', self.firstname, self.lastname, 'to the class of', self.graduationyear)\n",
    "x = Student(\"Mike\", \"Olsen\", 2024)\n",
    "x.welcome()\n"
   ]
  },
  {
   "cell_type": "code",
   "execution_count": null,
   "id": "be299ffc",
   "metadata": {},
   "outputs": [],
   "source": []
  }
 ],
 "metadata": {
  "kernelspec": {
   "display_name": "Python 3",
   "language": "python",
   "name": "python3"
  },
  "language_info": {
   "codemirror_mode": {
    "name": "ipython",
    "version": 3
   },
   "file_extension": ".py",
   "mimetype": "text/x-python",
   "name": "python",
   "nbconvert_exporter": "python",
   "pygments_lexer": "ipython3",
   "version": "3.13.3"
  }
 },
 "nbformat": 4,
 "nbformat_minor": 5
}
