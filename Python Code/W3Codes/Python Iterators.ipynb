{
 "cells": [
  {
   "cell_type": "code",
   "execution_count": 19,
   "id": "14bcb113",
   "metadata": {},
   "outputs": [],
   "source": [
    "# Pyhton Iterators\n",
    "# An iterator is an object that contains a countable number of value.\n",
    "#  An iterator is an object that can be iterated upon, meaning that you can traverse through through all the value.\n",
    "#Technically, in pythons, an iterator is an object which implements the iterator protocol, which consist of the methods __iter__() and __next__().\n",
    "\n",
    "\n"
   ]
  },
  {
   "cell_type": "code",
   "execution_count": 20,
   "id": "033a700f",
   "metadata": {},
   "outputs": [
    {
     "name": "stdout",
     "output_type": "stream",
     "text": [
      "apple\n",
      "banana\n",
      "cherry\n"
     ]
    }
   ],
   "source": [
    "# Iterator vs Iterable\n",
    "# Lists, tuples, dictionaries, and sets are all iterable objects. They are iterable containers which you can get an iterator form.\n",
    "# All these objects have a iter() method which is used to get an iterator: \n",
    "\n",
    "\n",
    "mytuple=('apple','banana','cherry')\n",
    "myit=iter(mytuple)\n",
    "\n",
    "\n",
    "print(next(myit))\n",
    "print(next(myit))\n",
    "print(next(myit))"
   ]
  },
  {
   "cell_type": "code",
   "execution_count": 21,
   "id": "4e2e63dd",
   "metadata": {},
   "outputs": [
    {
     "name": "stdout",
     "output_type": "stream",
     "text": [
      "b\n",
      "a\n",
      "n\n",
      "a\n",
      "n\n",
      "a\n"
     ]
    }
   ],
   "source": [
    "# Even strings are iterable objects, and can return an iterator:\n",
    "\n",
    "\n",
    "\n",
    "mystr='banana'\n",
    "myit=iter(mystr)\n",
    "\n",
    "\n",
    "print(next(myit))\n",
    "print(next(myit))\n",
    "print(next(myit))\n",
    "print(next(myit))\n",
    "print(next(myit))\n",
    "print(next(myit))\n",
    "\n",
    "\n"
   ]
  },
  {
   "cell_type": "code",
   "execution_count": 22,
   "id": "cda9d8b1",
   "metadata": {},
   "outputs": [
    {
     "name": "stdout",
     "output_type": "stream",
     "text": [
      "apple\n",
      "banana\n",
      "cherry\n"
     ]
    }
   ],
   "source": [
    "# Looping through an iterator.\n",
    "# We can also use a for loop to iterate through an iterable object:\n",
    "#\n",
    "# \n",
    "mytuple=('apple','banana','cherry')\n",
    "\n",
    "\n",
    "for x in mytuple:\n",
    "    print(x)"
   ]
  },
  {
   "cell_type": "code",
   "execution_count": 23,
   "id": "8108676d",
   "metadata": {},
   "outputs": [
    {
     "name": "stdout",
     "output_type": "stream",
     "text": [
      "b\n",
      "a\n",
      "n\n",
      "a\n",
      "n\n",
      "a\n"
     ]
    }
   ],
   "source": [
    "# Iterate character of a string:\n",
    "\n",
    "mytuple='banana'\n",
    "\n",
    "for x in mytuple:\n",
    " print(x)\n",
    "\n",
    "\n",
    "\n",
    "\n",
    " # The for loop actually creates the iterator object and executes the next() method for each loop."
   ]
  },
  {
   "cell_type": "code",
   "execution_count": 24,
   "id": "b99db490",
   "metadata": {},
   "outputs": [
    {
     "name": "stdout",
     "output_type": "stream",
     "text": [
      "1\n",
      "2\n",
      "3\n",
      "4\n",
      "5\n",
      "6\n",
      "7\n"
     ]
    }
   ],
   "source": [
    "# Create an Iterator\n",
    "\n",
    "class MyNumbers:\n",
    "    def __iter__(self):\n",
    "        self.a = 1\n",
    "        return self\n",
    "    \n",
    "    def __next__(self):\n",
    "        x=self.a\n",
    "        self.a+=1\n",
    "        return x\n",
    "    \n",
    "myclass= MyNumbers()\n",
    "myiter=iter(myclass)\n",
    "\n",
    "\n",
    "print(next(myiter))\n",
    "print(next(myiter))\n",
    "print(next(myiter))\n",
    "print(next(myiter))\n",
    "print(next(myiter))\n",
    "print(next(myiter))\n",
    "print(next(myiter))\n"
   ]
  },
  {
   "cell_type": "code",
   "execution_count": 25,
   "id": "4c1e8a44",
   "metadata": {},
   "outputs": [
    {
     "name": "stdout",
     "output_type": "stream",
     "text": [
      "1\n",
      "2\n",
      "3\n",
      "4\n",
      "5\n",
      "6\n",
      "7\n",
      "8\n",
      "9\n",
      "10\n",
      "11\n",
      "12\n",
      "13\n",
      "14\n",
      "15\n",
      "16\n",
      "17\n",
      "18\n",
      "19\n",
      "20\n"
     ]
    }
   ],
   "source": [
    "class MyNumbers:\n",
    "  def __iter__(self):\n",
    "    self.a = 1\n",
    "    return self\n",
    "\n",
    "  def __next__(self):\n",
    "    if self.a <= 20:\n",
    "      x = self.a\n",
    "      self.a += 1\n",
    "      return x\n",
    "    else:\n",
    "      raise StopIteration\n",
    "\n",
    "myclass = MyNumbers()\n",
    "myiter = iter(myclass)\n",
    "\n",
    "for x in myiter:\n",
    "  print(x)\n"
   ]
  },
  {
   "cell_type": "code",
   "execution_count": null,
   "id": "2acd031e",
   "metadata": {},
   "outputs": [],
   "source": []
  }
 ],
 "metadata": {
  "kernelspec": {
   "display_name": "Python 3",
   "language": "python",
   "name": "python3"
  },
  "language_info": {
   "codemirror_mode": {
    "name": "ipython",
    "version": 3
   },
   "file_extension": ".py",
   "mimetype": "text/x-python",
   "name": "python",
   "nbconvert_exporter": "python",
   "pygments_lexer": "ipython3",
   "version": "3.13.3"
  }
 },
 "nbformat": 4,
 "nbformat_minor": 5
}
