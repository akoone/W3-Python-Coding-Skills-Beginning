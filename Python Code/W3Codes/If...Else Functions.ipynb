{
 "cells": [
  {
   "cell_type": "code",
   "execution_count": 1,
   "metadata": {},
   "outputs": [],
   "source": [
    "# Python If ... Else \n",
    "# Python Conditions and If statements\n"
   ]
  },
  {
   "cell_type": "code",
   "execution_count": 5,
   "metadata": {},
   "outputs": [
    {
     "name": "stdout",
     "output_type": "stream",
     "text": [
      "b is greter than a\n"
     ]
    }
   ],
   "source": [
    "a=33\n",
    "b=200\n",
    "if b>a:\n",
    "    print('b is greter than a')"
   ]
  },
  {
   "cell_type": "code",
   "execution_count": null,
   "metadata": {},
   "outputs": [
    {
     "ename": "IndentationError",
     "evalue": "expected an indented block after 'if' statement on line 3 (3619236335.py, line 4)",
     "output_type": "error",
     "traceback": [
      "\u001b[1;36m  Cell \u001b[1;32mIn[8], line 4\u001b[1;36m\u001b[0m\n\u001b[1;33m    print('b is greater than a')\u001b[0m\n\u001b[1;37m    ^\u001b[0m\n\u001b[1;31mIndentationError\u001b[0m\u001b[1;31m:\u001b[0m expected an indented block after 'if' statement on line 3\n"
     ]
    }
   ],
   "source": [
    "a=33\n",
    "b=200\n",
    "if b>a:\n",
    "print('b is greater than a')\n",
    "# Here the problem is Identation is not leave out for the purpouse identify\n",
    "#  the scope in the code\n"
   ]
  },
  {
   "cell_type": "code",
   "execution_count": 10,
   "metadata": {},
   "outputs": [
    {
     "name": "stdout",
     "output_type": "stream",
     "text": [
      "a and b are equal\n"
     ]
    }
   ],
   "source": [
    "# The elif keyword is Python's way of saying \" if the previous conditions were not true, then try this condition\".\n",
    "\n",
    "a=33\n",
    "b=33\n",
    "if b>a:\n",
    "    print('b is greater than a')\n",
    "elif a==b:\n",
    "    print('a and b are equal')\n",
    "\n",
    "# In this example a is equal to b, so the first condition is not true, but the elif condition is true, so we print to screen that \" a and b are equal\".\n"
   ]
  },
  {
   "cell_type": "code",
   "execution_count": 11,
   "metadata": {},
   "outputs": [
    {
     "name": "stdout",
     "output_type": "stream",
     "text": [
      "a is greater than b\n"
     ]
    }
   ],
   "source": [
    "# The else keyword catches anything which isn't caught by the preceding conditions.\n",
    "\n",
    "a=200\n",
    "b=33\n",
    "if b>a:\n",
    "    print('b is greater than a')\n",
    "elif a==b:\n",
    "    print ('a and b are equal')\n",
    "else:\n",
    "    print ('a is greater than b')"
   ]
  },
  {
   "cell_type": "code",
   "execution_count": 14,
   "metadata": {},
   "outputs": [
    {
     "name": "stdout",
     "output_type": "stream",
     "text": [
      "b is not greater than a\n"
     ]
    }
   ],
   "source": [
    "# You can also have an !else without the !elif:\n",
    "\n",
    "a=200\n",
    "b=33\n",
    "if b>a:\n",
    "    print ('b is greater than a')\n",
    "else:\n",
    "    print('b is not greater than a')"
   ]
  },
  {
   "cell_type": "code",
   "execution_count": 15,
   "metadata": {},
   "outputs": [
    {
     "name": "stdout",
     "output_type": "stream",
     "text": [
      "a is greater than b\n"
     ]
    }
   ],
   "source": [
    "# Short Hand If\n",
    "# If you have only one statement to execute, you can put it on the same line as the !if statement:\n",
    "if a>b: print('a is greater than b')"
   ]
  },
  {
   "cell_type": "code",
   "execution_count": 16,
   "metadata": {},
   "outputs": [
    {
     "name": "stdout",
     "output_type": "stream",
     "text": [
      "B\n"
     ]
    }
   ],
   "source": [
    "# Short Hand of If ... Else\n",
    "# If you have only one statement to execute, one for if, and one for else, you can put it all on the same line:\n",
    "a=2\n",
    "b=330\n",
    "print('A') if a>b else print('B')"
   ]
  },
  {
   "cell_type": "code",
   "execution_count": 19,
   "metadata": {},
   "outputs": [
    {
     "name": "stdout",
     "output_type": "stream",
     "text": [
      "=\n"
     ]
    }
   ],
   "source": [
    "# This technique is known as Ternary Operations, or Conditional Expressions.\n",
    "# You can also have multiple else statements on the same line:\n",
    "\n",
    "a=330\n",
    "b=330\n",
    "print('A') if a>b else print('=') if a==b else print ('B')"
   ]
  },
  {
   "cell_type": "code",
   "execution_count": 21,
   "metadata": {},
   "outputs": [
    {
     "name": "stdout",
     "output_type": "stream",
     "text": [
      "Both conditions are True\n"
     ]
    }
   ],
   "source": [
    "#And Keyword is a logical operator, and is used to combine conditional statements:\n",
    "# Test if a is greater than b, AND if c is greater than a:\n",
    "\n",
    "a=200\n",
    "b=33\n",
    "c=500\n",
    "\n",
    "if a>b and c>a:\n",
    " print('Both conditions are True')"
   ]
  },
  {
   "cell_type": "code",
   "execution_count": 23,
   "metadata": {},
   "outputs": [
    {
     "name": "stdout",
     "output_type": "stream",
     "text": [
      "At least on of the condition is True\n"
     ]
    }
   ],
   "source": [
    "# The !or keyword is a logical operator, and is used to combine conditional statement:\n",
    "# Test if a is greater than b, OR if a is greater than c:\n",
    "\n",
    "a=200\n",
    "b=33\n",
    "c=500\n",
    "if a>b or a>c:\n",
    "    print(\"At least on of the condition is True\")"
   ]
  },
  {
   "cell_type": "code",
   "execution_count": 25,
   "metadata": {},
   "outputs": [
    {
     "name": "stdout",
     "output_type": "stream",
     "text": [
      "A is not greater than B\n"
     ]
    }
   ],
   "source": [
    "# The !not keyword is a logical operator, and is used to reverse the result of the conditional statement:\n",
    "# Test if a is NOT greater than b:\n",
    "\n",
    "a=33\n",
    "b=200\n",
    "if not a>b:\n",
    "    print('A is not greater than B')"
   ]
  },
  {
   "cell_type": "code",
   "execution_count": 29,
   "metadata": {},
   "outputs": [
    {
     "name": "stdout",
     "output_type": "stream",
     "text": [
      "Above ten,\n",
      "and also above 20!\n"
     ]
    }
   ],
   "source": [
    "# Nested If \n",
    "# You have if statement inside if statement, this is called nested if statements.\n",
    "\n",
    "\n",
    "x=41\n",
    "if x>10:\n",
    " print('Above ten,')\n",
    "if x>20:\n",
    "    print('and also above 20!')\n",
    "else:\n",
    "   print('but not above 20')"
   ]
  },
  {
   "cell_type": "code",
   "execution_count": 35,
   "metadata": {},
   "outputs": [],
   "source": [
    "# The !pass statement:\n",
    "# !if statement can not be empty, but if you for some reason have and if statement with no content, put in the !pass statement to avoid getting an error:\n",
    "\n",
    "\n",
    "\n",
    "a=33\n",
    "b=200\n",
    "if b>a:\n",
    "  pass"
   ]
  }
 ],
 "metadata": {
  "kernelspec": {
   "display_name": "Python 3",
   "language": "python",
   "name": "python3"
  },
  "language_info": {
   "codemirror_mode": {
    "name": "ipython",
    "version": 3
   },
   "file_extension": ".py",
   "mimetype": "text/x-python",
   "name": "python",
   "nbconvert_exporter": "python",
   "pygments_lexer": "ipython3",
   "version": "3.13.3"
  }
 },
 "nbformat": 4,
 "nbformat_minor": 2
}
