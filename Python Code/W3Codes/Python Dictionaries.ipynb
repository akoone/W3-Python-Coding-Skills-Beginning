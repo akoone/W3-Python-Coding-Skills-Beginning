{
 "cells": [
  {
   "cell_type": "code",
   "execution_count": 1,
   "metadata": {},
   "outputs": [],
   "source": [
    "#Python Dictionaries\n",
    "\n",
    "thisdic={ \n",
    "    'brand':'Ford',\n",
    "    'model':'Mustang',\n",
    "    'year':1964\n",
    "\n",
    "}"
   ]
  },
  {
   "cell_type": "code",
   "execution_count": 2,
   "metadata": {},
   "outputs": [
    {
     "name": "stdout",
     "output_type": "stream",
     "text": [
      "{'brand': 'Ford', 'model': 'Mustang', 'year': 1964}\n"
     ]
    }
   ],
   "source": [
    "# Dictionaries are used to store data values in keys: value pairs.\n",
    "# A dictionary is a collection which is ordered*, changable and do not allow duplicates.\n",
    "\n",
    "thisdic={ \n",
    "    'brand':'Ford',\n",
    "    'model':'Mustang',\n",
    "    'year':1964\n",
    "\n",
    "}\n",
    "print(thisdic)"
   ]
  },
  {
   "cell_type": "code",
   "execution_count": 4,
   "metadata": {},
   "outputs": [
    {
     "name": "stdout",
     "output_type": "stream",
     "text": [
      "Ford\n",
      "Mustang\n"
     ]
    }
   ],
   "source": [
    "# Dictionary Items\n",
    "# Dictionary items are ordered, changable, and do not allow duplicates.\n",
    "# Dictionary items are presented in key: value pairs, and can be reffered to by using the key name.\n",
    "\n",
    "thisdic={ \n",
    "    'brand':'Ford',\n",
    "    'model':'Mustang',\n",
    "    'year':1964\n",
    "\n",
    "}\n",
    "print(thisdic['brand'])\n",
    "print(thisdic['model'])"
   ]
  },
  {
   "cell_type": "code",
   "execution_count": 5,
   "metadata": {},
   "outputs": [
    {
     "name": "stdout",
     "output_type": "stream",
     "text": [
      "{'brand': 'Ford', 'model': 'Mustang', 'year': 2020}\n"
     ]
    }
   ],
   "source": [
    "# Duplicate value will overwrite existing values:\n",
    "\n",
    "thisdic={ \n",
    "    'brand':'Ford',\n",
    "    'model':'Mustang',\n",
    "    'year':1964,\n",
    "    'year':2020\n",
    "\n",
    "}\n",
    "print(thisdic)"
   ]
  },
  {
   "cell_type": "code",
   "execution_count": 8,
   "metadata": {},
   "outputs": [
    {
     "name": "stdout",
     "output_type": "stream",
     "text": [
      "Mustang\n"
     ]
    }
   ],
   "source": [
    "# Accessing Items\n",
    "\n",
    "thisdic={ \n",
    "    'brand':'Ford',\n",
    "    'model':'Mustang',\n",
    "    'year':1964\n",
    "\n",
    "}\n",
    "x=thisdic['model']\n",
    "print(x)"
   ]
  },
  {
   "cell_type": "code",
   "execution_count": 10,
   "metadata": {},
   "outputs": [
    {
     "name": "stdout",
     "output_type": "stream",
     "text": [
      "Mustang\n"
     ]
    }
   ],
   "source": [
    "# There is also a method called get() that will give the same result:\n",
    "\n",
    "x= thisdic.get('model')\n",
    "print(x)"
   ]
  },
  {
   "cell_type": "code",
   "execution_count": 11,
   "metadata": {},
   "outputs": [
    {
     "name": "stdout",
     "output_type": "stream",
     "text": [
      "dict_keys(['brand', 'model', 'year'])\n"
     ]
    }
   ],
   "source": [
    "# The keys() method will return a list of all the keys in the dictionary.\n",
    "\n",
    "x=thisdic.keys()\n",
    "print(x)"
   ]
  },
  {
   "cell_type": "code",
   "execution_count": 14,
   "metadata": {},
   "outputs": [
    {
     "name": "stdout",
     "output_type": "stream",
     "text": [
      "dict_keys(['brand', 'model', 'year'])\n",
      "dict_keys(['brand', 'model', 'year', 'color'])\n"
     ]
    }
   ],
   "source": [
    "# The list of the keys is a view of the dictionary, meaning that any changes done to the dictionary will be reflected in the keys list.\n",
    "# Add a new item to the original dictionary, and see that the keys list gets updates well:\n",
    "\n",
    "\n",
    "\n",
    "car = {\n",
    "    'brand':'Ford',\n",
    "    'model':'Mustang',\n",
    "    'year':1964\n",
    "}\n",
    "\n",
    "x=car.keys()\n",
    "\n",
    "print(x)#before the change\n",
    "\n",
    "car['color']='white'\n",
    "print(x)#after the change\n"
   ]
  },
  {
   "cell_type": "code",
   "execution_count": 16,
   "metadata": {},
   "outputs": [
    {
     "name": "stdout",
     "output_type": "stream",
     "text": [
      "dict_values(['Ford', 'Mustang', 1964])\n"
     ]
    }
   ],
   "source": [
    "# Get Values\n",
    "\n",
    "# The values() method will return a list of all the values in the dictionary.\n",
    "\n",
    "x=thisdic.values()\n",
    "print(x)"
   ]
  },
  {
   "cell_type": "code",
   "execution_count": 18,
   "metadata": {},
   "outputs": [
    {
     "name": "stdout",
     "output_type": "stream",
     "text": [
      "dict_values(['Ford', 'Mustang', '1964'])\n",
      "dict_values(['Ford', 'Mustang', 2020])\n"
     ]
    }
   ],
   "source": [
    "# The list of the values is a view of the dictionary, meaning that any changes done to the dictionary will be reflected in the values list.\n",
    "# Making a change in the original dictionary, and see that the values list gets uodated a s well\n",
    "\n",
    "car={\n",
    "    'brand':'Ford',\n",
    "    'model':'Mustang',\n",
    "    'year':'1964'\n",
    "}\n",
    "x=car.values()\n",
    "print(x)\n",
    "\n",
    "car['year']=2020\n",
    "print(x)"
   ]
  },
  {
   "cell_type": "code",
   "execution_count": 25,
   "metadata": {},
   "outputs": [
    {
     "name": "stdout",
     "output_type": "stream",
     "text": [
      "dict_values(['Ford', 'Mustang', '1964'])\n",
      "dict_values(['Ford', 'Mustang', '1964', 'red'])\n"
     ]
    }
   ],
   "source": [
    "# Add a new item to the original dictionary, and see that the values list gets updated as well:\n",
    "\n",
    "car={\n",
    "    'brand':'Ford',\n",
    "    'model':'Mustang',\n",
    "    'year':'1964'\n",
    "}\n",
    "x=car.values()\n",
    "\n",
    "print(x)\n",
    "\n",
    "car['color']='red'\n",
    "print(x)"
   ]
  },
  {
   "cell_type": "code",
   "execution_count": 27,
   "metadata": {},
   "outputs": [
    {
     "name": "stdout",
     "output_type": "stream",
     "text": [
      "dict_items([('brand', 'Ford'), ('model', 'Mustang'), ('year', 1964)])\n"
     ]
    }
   ],
   "source": [
    "# Get Items\n",
    "# The items() method will return each item in a dictionary, as tuples in a list\n",
    "\n",
    "x=thisdic.items()\n",
    "print(x)"
   ]
  },
  {
   "cell_type": "code",
   "execution_count": 28,
   "metadata": {},
   "outputs": [
    {
     "name": "stdout",
     "output_type": "stream",
     "text": [
      "Yes, 'model' is one of the keys in the thisdct dictionary\n"
     ]
    }
   ],
   "source": [
    "car={\n",
    "    'brand':'Ford',\n",
    "    'model':'Mustang',\n",
    "    'year':'1964'\n",
    "}\n",
    "if 'model' in thisdic:\n",
    "     print(\"Yes, 'model' is one of the keys in the thisdct dictionary\" )"
   ]
  },
  {
   "cell_type": "code",
   "execution_count": 33,
   "metadata": {},
   "outputs": [
    {
     "name": "stdout",
     "output_type": "stream",
     "text": [
      "{'brand': 'Ford', 'model': 'Mustang', 'year': 2018}\n"
     ]
    }
   ],
   "source": [
    "#Python Change Dictionary\n",
    "# You can change the value of a specific items by reffering to its key names:\n",
    "\n",
    "thisdic={\n",
    "    'brand':'Ford',\n",
    "    'model':'Mustang',\n",
    "    'year':'1964'\n",
    "}\n",
    "thisdic['year']=2018\n",
    "print(thisdic)"
   ]
  },
  {
   "cell_type": "code",
   "execution_count": 34,
   "metadata": {},
   "outputs": [
    {
     "name": "stdout",
     "output_type": "stream",
     "text": [
      "{'brand': 'Ford', 'model': 'Mustang', 'year': 2020}\n"
     ]
    }
   ],
   "source": [
    "# Update Dictionary\n",
    "# The update method() method will update the dictionary with the items from the given argument\n",
    "# The argument must be a dictionary, or an iterable object with keys: value pairs.\n",
    "\n",
    "thisdic={\n",
    "    'brand':'Ford',\n",
    "    'model':'Mustang',\n",
    "    'year':'1964'\n",
    "}\n",
    "thisdic.update({'year':2020})\n",
    "print(thisdic)"
   ]
  },
  {
   "cell_type": "code",
   "execution_count": 35,
   "metadata": {},
   "outputs": [
    {
     "name": "stdout",
     "output_type": "stream",
     "text": [
      "{'brand': 'Ford', 'model': 'Mustang', 'year': 1964, 'color': 'red'}\n"
     ]
    }
   ],
   "source": [
    "# Python - Add Dictionary Items\n",
    "# Adding an item to the dictionary is done by using a new index key and assigning a value to it:\n",
    "\n",
    "thisdic={\n",
    "    'brand':'Ford',\n",
    "    'model':'Mustang',\n",
    "    'year':1964\n",
    "}\n",
    "thisdic['color']='red'\n",
    "print(thisdic)"
   ]
  },
  {
   "cell_type": "code",
   "execution_count": 37,
   "metadata": {},
   "outputs": [
    {
     "name": "stdout",
     "output_type": "stream",
     "text": [
      "{'brand': 'Ford', 'model': 'Mustang', 'year': 1964, 'color': 'red'}\n"
     ]
    }
   ],
   "source": [
    "# Update dictionary \n",
    "# The update() method will update the dictionary with the items from a given argument. If the item does not exist, the item will be added\n",
    "# The argument must be a dictionary, or an interable object with key: value pairs.\n",
    "#\n",
    "thisdic={\n",
    "    'brand':'Ford',\n",
    "    'model':'Mustang',\n",
    "    'year':1964\n",
    "}\n",
    "thisdic.update({'color':'red'})\n",
    "print(thisdic)"
   ]
  },
  {
   "cell_type": "code",
   "execution_count": null,
   "metadata": {},
   "outputs": [],
   "source": []
  }
 ],
 "metadata": {
  "kernelspec": {
   "display_name": "Python 3",
   "language": "python",
   "name": "python3"
  },
  "language_info": {
   "codemirror_mode": {
    "name": "ipython",
    "version": 3
   },
   "file_extension": ".py",
   "mimetype": "text/x-python",
   "name": "python",
   "nbconvert_exporter": "python",
   "pygments_lexer": "ipython3",
   "version": "3.13.3"
  }
 },
 "nbformat": 4,
 "nbformat_minor": 2
}
