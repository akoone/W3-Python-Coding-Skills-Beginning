{
 "cells": [
  {
   "cell_type": "code",
   "execution_count": 1,
   "id": "b7c9fdce",
   "metadata": {},
   "outputs": [],
   "source": [
    "# Python functions:\n",
    "# A functions is a block of code which only runs when it is called.\n",
    "# You can pass data, known as parameters, into function.\n",
    "# A function can return data as a result.\n",
    "\n",
    "\n",
    "# Creating a Function\n",
    "# In Python a function is defined using the def keyword:\n",
    "\n",
    "def my_function():\n",
    "    print(\"Hello from a function\") \n",
    "\n"
   ]
  },
  {
   "cell_type": "code",
   "execution_count": 3,
   "id": "7ad10cb6",
   "metadata": {},
   "outputs": [
    {
     "name": "stdout",
     "output_type": "stream",
     "text": [
      "Hello from a function\n"
     ]
    }
   ],
   "source": [
    "# Calling a function\n",
    "\n",
    "# To call a function, use the function name followed by parenthesis:\n",
    "\n",
    "def my_function():\n",
    "    print(\"Hello from a function\")\n",
    "\n",
    "my_function()"
   ]
  },
  {
   "cell_type": "code",
   "execution_count": null,
   "id": "e62b6055",
   "metadata": {},
   "outputs": [
    {
     "name": "stdout",
     "output_type": "stream",
     "text": [
      "Email: Refsnes\n",
      "Tobias: Refsnes\n",
      "Linus: Refsnes\n"
     ]
    }
   ],
   "source": [
    "# Arguments\n",
    "# Information can be passed into functions as arguments.\n",
    "# Arguments are specified after the functionname, inside the parenthesis. You can add as many as arguments as you want, just separate them with a comma.\n",
    "# The following example has a function with one argument(fname). When the function is called, we pass along a first name, which is used inside the function to print the full name:\n",
    "\n",
    "def my_function(fname):\n",
    "    print(fname+' Refsnes')\n",
    "\n",
    "my_function('Email:')\n",
    "my_function('Tobias:')\n",
    "my_function('Linus:')\n",
    "\n",
    "#Arguments are often shortened to args in Python Documentation.\n"
   ]
  },
  {
   "cell_type": "code",
   "execution_count": 11,
   "id": "249e308c",
   "metadata": {},
   "outputs": [
    {
     "name": "stdout",
     "output_type": "stream",
     "text": [
      "Email Refsnes\n"
     ]
    }
   ],
   "source": [
    "#Parameters and Arguments can be used for the same thing: information that are passed into function.\n",
    "# From a function's perspective:\n",
    "#  A parameter in the variable listed inside the parethenses in the function defination.\n",
    "# An argument is the value that sent to the function when it is called.\n",
    "\n",
    "\n",
    "#Number of arguments \n",
    "# By default, a function must be called withe the correct number of arguments. Meaning that if your function expects 2 arguments, you have to call the function with 2 arguments , not more or less.\n",
    "\n",
    "# This function expects 2 arguments, and gets 2 arguments:\n",
    "\n",
    "def my_function(fname, lname):\n",
    "    print(fname+''+lname)\n",
    "\n",
    "my_function('Email',' Refsnes')"
   ]
  },
  {
   "cell_type": "code",
   "execution_count": 12,
   "id": "6a2433fe",
   "metadata": {},
   "outputs": [
    {
     "ename": "TypeError",
     "evalue": "my_function() missing 1 required positional argument: 'lname'",
     "output_type": "error",
     "traceback": [
      "\u001b[1;31m---------------------------------------------------------------------------\u001b[0m",
      "\u001b[1;31mTypeError\u001b[0m                                 Traceback (most recent call last)",
      "Cell \u001b[1;32mIn[12], line 6\u001b[0m\n\u001b[0;32m      3\u001b[0m \u001b[38;5;28;01mdef\u001b[39;00m\u001b[38;5;250m \u001b[39m\u001b[38;5;21mmy_function\u001b[39m(fname, lname):\n\u001b[0;32m      4\u001b[0m     \u001b[38;5;28mprint\u001b[39m(fname\u001b[38;5;241m+\u001b[39m\u001b[38;5;124m'\u001b[39m\u001b[38;5;124m'\u001b[39m\u001b[38;5;241m+\u001b[39mlname)\n\u001b[1;32m----> 6\u001b[0m \u001b[43mmy_function\u001b[49m\u001b[43m(\u001b[49m\u001b[38;5;124;43m'\u001b[39;49m\u001b[38;5;124;43mEmail\u001b[39;49m\u001b[38;5;124;43m'\u001b[39;49m\u001b[43m)\u001b[49m\n",
      "\u001b[1;31mTypeError\u001b[0m: my_function() missing 1 required positional argument: 'lname'"
     ]
    }
   ],
   "source": [
    "# If you try to call the function with 1 or 3 arguments, you will get an error:\n",
    "\n",
    "def my_function(fname, lname):\n",
    "    print(fname+''+lname)\n",
    "\n",
    "my_function('Email')"
   ]
  },
  {
   "cell_type": "code",
   "execution_count": 18,
   "id": "03cc5c5e",
   "metadata": {},
   "outputs": [
    {
     "name": "stdout",
     "output_type": "stream",
     "text": [
      "The youngest child is Linus\n"
     ]
    }
   ],
   "source": [
    "# Arbitrary Arguments, *args\n",
    "\n",
    "#If you dont know how many arguments that will be passed into your function, add a * before the parameter namein the function defination.\n",
    "# this way the function will receive a tuple of arguments, and can access the items accordingly:\n",
    "# If the number of arguments are unkown, add * before the parameter name:\n",
    "\n",
    "\n",
    "def my_function(*kids):\n",
    "    print('The youngest child is ' + kids[2])\n",
    "\n",
    "\n",
    "my_function('Emil','Tobias','Linus')"
   ]
  },
  {
   "cell_type": "code",
   "execution_count": 19,
   "id": "17210b4c",
   "metadata": {},
   "outputs": [
    {
     "name": "stdout",
     "output_type": "stream",
     "text": [
      "The youngest child is Linus\n"
     ]
    }
   ],
   "source": [
    "# Arbitrary arguments are often shortened to arg* in Python docuentations.\n",
    "\n",
    "# Keyword Arguments\n",
    "# You can also send arguments with the key=value syntax.\n",
    "# This way the order of the arguments do not matter.\n",
    "\n",
    "\n",
    "\n",
    "def my_function(child3,child2,child1):\n",
    "    print('The youngest child is '+child3)\n",
    "my_function(child1=\"Emil\",child2='Tobias', child3='Linus')"
   ]
  },
  {
   "cell_type": "code",
   "execution_count": 23,
   "id": "8ded1270",
   "metadata": {},
   "outputs": [
    {
     "name": "stdout",
     "output_type": "stream",
     "text": [
      "the youngest child is Linus\n"
     ]
    }
   ],
   "source": [
    "# Keyword arguments\n",
    "# You can also send arguments with the key = value syntax.\n",
    "# this way the order of the arguments does not matter.\n",
    "\n",
    "def my_function(child3,child2,child1):\n",
    "    print('the youngest child is ' +child3)\n",
    "\n",
    "my_function(child1='Emil',child2='Tobias',child3='Linus')\n",
    "\n",
    "#The phrase Keyword Arguments are often shortened to kwargs in Python documentations.\n"
   ]
  },
  {
   "cell_type": "code",
   "execution_count": 26,
   "id": "5de99c7b",
   "metadata": {},
   "outputs": [
    {
     "name": "stdout",
     "output_type": "stream",
     "text": [
      "His last name is Refsnes\n"
     ]
    }
   ],
   "source": [
    "# Arbitrary Keyword Arguments, **kwargs\n",
    "# If you do not know how many keyword arguments that will be passed into your function, add two asterisks: ** before the parameter name in the function defination.\n",
    "# This way the function will receive a dictionary of arguments, and can access the items accordingly:\n",
    "# If the number of keyword arguments is unknown, add double ** before the parameter name:\n",
    "# \n",
    "# \n",
    "# \n",
    "\n",
    "\n",
    "def my_function(**kid):\n",
    "    print(\"His last name is \" +kid['lname'])\n",
    "\n",
    "\n",
    "my_function(fname ='Tobias',lname ='Refsnes')\n"
   ]
  },
  {
   "cell_type": "code",
   "execution_count": 30,
   "id": "d999fd01",
   "metadata": {},
   "outputs": [
    {
     "name": "stdout",
     "output_type": "stream",
     "text": [
      "I am from Sweden\n",
      "I am from India\n",
      "I am from Norway\n",
      "I am from Brazil\n"
     ]
    }
   ],
   "source": [
    "# Default Parameter Value\n",
    "# the following example shows how to use a default parameter value.\n",
    "# if we call the function without argument, it uses the default value:\n",
    "\n",
    "\n",
    "def my_function(country='Norway'):\n",
    "    print('I am from ' + country)\n",
    "\n",
    "my_function('Sweden')\n",
    "my_function('India')\n",
    "my_function()\n",
    "my_function('Brazil')"
   ]
  },
  {
   "cell_type": "code",
   "execution_count": 31,
   "id": "d5d2b1c7",
   "metadata": {},
   "outputs": [
    {
     "name": "stdout",
     "output_type": "stream",
     "text": [
      "apple\n",
      "banana\n",
      "cherry\n"
     ]
    }
   ],
   "source": [
    "#Passing a List as Argument\n",
    "# You can send any data type of argument to a function(string, number, list, dictionary enct.), and it will be treated as the same data type inside the function.\n",
    "# if you send a List as an argument, it will still be a list when it reaches the function:\n",
    "# \n",
    "# \n",
    "\n",
    "\n",
    "def my_function(food):\n",
    "    for x in food:\n",
    "        print(x)\n",
    "\n",
    "\n",
    "fruits=['apple','banana','cherry']\n",
    "\n",
    "my_function(fruits)"
   ]
  },
  {
   "cell_type": "code",
   "execution_count": 32,
   "id": "c7ef766d",
   "metadata": {},
   "outputs": [
    {
     "name": "stdout",
     "output_type": "stream",
     "text": [
      "15\n",
      "25\n",
      "45\n"
     ]
    }
   ],
   "source": [
    "# Return Values\n",
    "# To let a function return a value, use the return statement:\n",
    "\n",
    "\n",
    "def my_function(x):\n",
    "    return 5*x\n",
    "print(my_function(3))\n",
    "print(my_function(5))\n",
    "print(my_function(9))\n"
   ]
  },
  {
   "cell_type": "code",
   "execution_count": 33,
   "id": "9d4a8b8b",
   "metadata": {},
   "outputs": [],
   "source": [
    "# The pass statement\n",
    "# function definations can not be empty, but if you for some reason have a function defination with no content, put the pass statement to avoid getting an error:\n",
    "\n",
    "def my_function():\n",
    "    pass"
   ]
  },
  {
   "cell_type": "code",
   "execution_count": 34,
   "id": "23a5f07a",
   "metadata": {},
   "outputs": [
    {
     "name": "stdout",
     "output_type": "stream",
     "text": [
      "3\n"
     ]
    }
   ],
   "source": [
    "# Positional-Only Arguments\n",
    "# You can specify that a function can hace ONLY positional arguments, ot only keyword arguments.\n",
    "# To specify that a function have only positional arguments, add ,/ after the arguments:\n",
    "# \n",
    "\n",
    "def my_function(x,/):\n",
    "    print(x) \n",
    "\n",
    "my_function(3)"
   ]
  },
  {
   "cell_type": "code",
   "execution_count": 36,
   "id": "0bb6aa45",
   "metadata": {},
   "outputs": [
    {
     "name": "stdout",
     "output_type": "stream",
     "text": [
      "3\n"
     ]
    }
   ],
   "source": [
    "# Without the ,/ you are actually allowed to use keyword arguments even if the function expects positional arguments:\n",
    "\n",
    "\n",
    "def my_function(x):\n",
    "    print(x)\n",
    "\n",
    "my_function(x=3)"
   ]
  },
  {
   "cell_type": "code",
   "execution_count": 38,
   "id": "1bb29dd6",
   "metadata": {},
   "outputs": [
    {
     "ename": "TypeError",
     "evalue": "my_function() got some positional-only arguments passed as keyword arguments: 'x'",
     "output_type": "error",
     "traceback": [
      "\u001b[1;31m---------------------------------------------------------------------------\u001b[0m",
      "\u001b[1;31mTypeError\u001b[0m                                 Traceback (most recent call last)",
      "Cell \u001b[1;32mIn[38], line 6\u001b[0m\n\u001b[0;32m      3\u001b[0m \u001b[38;5;28;01mdef\u001b[39;00m\u001b[38;5;250m \u001b[39m\u001b[38;5;21mmy_function\u001b[39m(x,\u001b[38;5;241m/\u001b[39m):\n\u001b[0;32m      4\u001b[0m     \u001b[38;5;28mprint\u001b[39m(x)\n\u001b[1;32m----> 6\u001b[0m \u001b[43mmy_function\u001b[49m\u001b[43m(\u001b[49m\u001b[43mx\u001b[49m\u001b[38;5;241;43m=\u001b[39;49m\u001b[38;5;241;43m3\u001b[39;49m\u001b[43m)\u001b[49m\n",
      "\u001b[1;31mTypeError\u001b[0m: my_function() got some positional-only arguments passed as keyword arguments: 'x'"
     ]
    }
   ],
   "source": [
    "# But when adding the ,/ you will get an error if you try to send a keyword argument:\n",
    "\n",
    "def my_function(x,/):\n",
    "    print(x)\n",
    "\n",
    "my_function(x=3)"
   ]
  },
  {
   "cell_type": "code",
   "execution_count": null,
   "id": "bff8d416",
   "metadata": {},
   "outputs": [
    {
     "name": "stdout",
     "output_type": "stream",
     "text": [
      "3\n",
      "3\n"
     ]
    }
   ],
   "source": [
    "# Keyword-Only Arguments\n",
    "# To specify that a function can have only keyword arguments, add*, before the argument:\n",
    "\n",
    "\n",
    "\n",
    "def my_function(*,x):\n",
    "    print(x)\n",
    "\n",
    "\n",
    "my_function(x=3)\n",
    "\n"
   ]
  },
  {
   "cell_type": "code",
   "execution_count": 41,
   "id": "c3d88138",
   "metadata": {},
   "outputs": [
    {
     "name": "stdout",
     "output_type": "stream",
     "text": [
      "3\n"
     ]
    }
   ],
   "source": [
    "# Without the *, sign you are allowed to use positionale arguments even if the function expects the keyword arguments:\n",
    "\n",
    "\n",
    "def my_function(x):\n",
    "    print(x)\n",
    "\n",
    "my_function(3)"
   ]
  },
  {
   "cell_type": "code",
   "execution_count": 43,
   "id": "c453dfc8",
   "metadata": {},
   "outputs": [
    {
     "ename": "TypeError",
     "evalue": "my_function() takes 0 positional arguments but 1 was given",
     "output_type": "error",
     "traceback": [
      "\u001b[1;31m---------------------------------------------------------------------------\u001b[0m",
      "\u001b[1;31mTypeError\u001b[0m                                 Traceback (most recent call last)",
      "Cell \u001b[1;32mIn[43], line 7\u001b[0m\n\u001b[0;32m      4\u001b[0m \u001b[38;5;28;01mdef\u001b[39;00m\u001b[38;5;250m \u001b[39m\u001b[38;5;21mmy_function\u001b[39m(\u001b[38;5;241m*\u001b[39m,x):\n\u001b[0;32m      5\u001b[0m     \u001b[38;5;28mprint\u001b[39m(x)\n\u001b[1;32m----> 7\u001b[0m \u001b[43mmy_function\u001b[49m\u001b[43m(\u001b[49m\u001b[38;5;241;43m3\u001b[39;49m\u001b[43m)\u001b[49m\n",
      "\u001b[1;31mTypeError\u001b[0m: my_function() takes 0 positional arguments but 1 was given"
     ]
    }
   ],
   "source": [
    "# But with the *, you will get an error if you try to send a positional argument:\n",
    "\n",
    "\n",
    "def my_function(*,x):\n",
    "    print(x)\n",
    "\n",
    "my_function(3)"
   ]
  },
  {
   "cell_type": "code",
   "execution_count": 44,
   "id": "a367e4c1",
   "metadata": {},
   "outputs": [
    {
     "name": "stdout",
     "output_type": "stream",
     "text": [
      "24\n"
     ]
    }
   ],
   "source": [
    "# Combine Positional-Only and Keyword-Only \n",
    "# You can combine the two argument types in the same function.\n",
    "# Any argument before the /, are positional-only, and any argumentafter the *. are keyword-only.\n",
    "# \n",
    "# \n",
    "# \n",
    "\n",
    "\n",
    "def my_function(a,b,/,*,c,d):\n",
    "    print(a+b+c+d)\n",
    "\n",
    "my_function(4,5,c=7,d=8)"
   ]
  },
  {
   "cell_type": "code",
   "execution_count": 54,
   "id": "4c1668dc",
   "metadata": {},
   "outputs": [
    {
     "name": "stdout",
     "output_type": "stream",
     "text": [
      "1\n",
      "3\n",
      "6\n",
      "10\n",
      "15\n",
      "21\n"
     ]
    },
    {
     "data": {
      "text/plain": [
       "21"
      ]
     },
     "execution_count": 54,
     "metadata": {},
     "output_type": "execute_result"
    }
   ],
   "source": [
    "# Recursion Example\n",
    "\n",
    "def tri_recursion(k):\n",
    "    if(k>0):\n",
    "        result=k+tri_recursion(k-1)\n",
    "        print(result)\n",
    "    else:\n",
    "        result=0\n",
    "    return result   \n",
    "\n",
    "\n",
    "\n",
    "    print(\"Recursion Example Results:\")\n",
    "tri_recursion(6)"
   ]
  },
  {
   "cell_type": "code",
   "execution_count": null,
   "id": "158599ec",
   "metadata": {},
   "outputs": [],
   "source": []
  }
 ],
 "metadata": {
  "kernelspec": {
   "display_name": "Python 3",
   "language": "python",
   "name": "python3"
  },
  "language_info": {
   "codemirror_mode": {
    "name": "ipython",
    "version": 3
   },
   "file_extension": ".py",
   "mimetype": "text/x-python",
   "name": "python",
   "nbconvert_exporter": "python",
   "pygments_lexer": "ipython3",
   "version": "3.13.3"
  }
 },
 "nbformat": 4,
 "nbformat_minor": 5
}
