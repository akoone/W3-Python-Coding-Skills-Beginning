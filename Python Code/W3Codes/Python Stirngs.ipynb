{
 "cells": [
  {
   "cell_type": "code",
   "execution_count": 1,
   "metadata": {},
   "outputs": [
    {
     "data": {
      "text/plain": [
       "'Strings in python are surrounded by either single quotation marks, or double quotation marks.\\n\\n\\'hello\\' is the same as \"hello\".\\n\\nYou can display a string literal with the print() function:'"
      ]
     },
     "execution_count": 1,
     "metadata": {},
     "output_type": "execute_result"
    }
   ],
   "source": [
    "# Python String\n",
    "# String\n",
    "\n",
    "'''Strings in python are surrounded by either single quotation marks, or double quotation marks.\n",
    "\n",
    "'hello' is the same as \"hello\".\n",
    "\n",
    "You can display a string literal with the print() function:'''\n"
   ]
  },
  {
   "cell_type": "code",
   "execution_count": 2,
   "metadata": {},
   "outputs": [
    {
     "name": "stdout",
     "output_type": "stream",
     "text": [
      "Hello\n",
      "Hello\n"
     ]
    }
   ],
   "source": [
    "print(\"Hello\")\n",
    "print('Hello')"
   ]
  },
  {
   "cell_type": "code",
   "execution_count": 4,
   "metadata": {},
   "outputs": [
    {
     "name": "stdout",
     "output_type": "stream",
     "text": [
      "It's alright\n",
      " He is acalled 'Johhny'\n",
      "He is called \"Johnny\"\n"
     ]
    }
   ],
   "source": [
    "# Quotes inside Quotes\n",
    "# you can use quotes inside a string, as long as they do not match the quotes surrounding the string:\n",
    "\n",
    "print(\"It's alright\")\n",
    "print(\" He is acalled 'Johhny'\")\n",
    "print('He is called \"Johnny\"')"
   ]
  },
  {
   "cell_type": "code",
   "execution_count": 6,
   "metadata": {},
   "outputs": [
    {
     "name": "stdout",
     "output_type": "stream",
     "text": [
      "Hello\n"
     ]
    }
   ],
   "source": [
    "# Assign String to a Variable\n",
    "# Assigning a string to a variable is done with the variable name followed by an equal sign and the string:\n",
    "\n",
    "a= \"Hello\"\n",
    "print(a)"
   ]
  },
  {
   "cell_type": "code",
   "execution_count": 16,
   "metadata": {},
   "outputs": [
    {
     "name": "stdout",
     "output_type": "stream",
     "text": [
      "Loremdhadvahdvhadvhadvhadvhagdvahdvhadvhadvahdvhadvahd\n",
      "hjbjhsfbjshfbsjfbjsfbsfbshjfbjsfbsfbjhsfbjaldkakdjhdhadkjahdk\n",
      "bfsjhfshfsjhfhsfshjfgjs\n",
      "shfbjshgfjhsfgjhfsd\n",
      "skjfhskfhfhkjsf\n"
     ]
    }
   ],
   "source": [
    "# Multiline Strings\n",
    "# Yous can assign a multiple string to a variable by using the three quotes:\n",
    "\n",
    "a=\"\"\"Loremdhadvahdvhadvhadvhadvhagdvahdvhadvhadvahdvhadvahd\n",
    "hjbjhsfbjshfbsjfbjsfbsfbshjfbjsfbsfbjhsfbjaldkakdjhdhadkjahdk\"\"\"\n",
    "print(a)\n",
    "\n",
    "# Or single three quotes\n",
    "\n",
    "a= '''bfsjhfshfsjhfhsfshjfgjs\n",
    "shfbjshgfjhsfgjhfsd\n",
    "skjfhskfhfhkjsf'''\n",
    "print(a)\n",
    "\n",
    "\n",
    "#Note: in the result, the line breaks are inserted at the same position as in the code."
   ]
  },
  {
   "cell_type": "code",
   "execution_count": null,
   "metadata": {},
   "outputs": [],
   "source": [
    "# Strings are Arrays\n",
    "'''Like many other popular programming languages, strings in Python are arrays of bytes representing unicode characters.\n",
    "\n",
    "However, Python does not have a character data type, a single character is simply a string with a length of 1.\n",
    "\n",
    "Square brackets can be used to access elements of the string.'''"
   ]
  },
  {
   "cell_type": "code",
   "execution_count": 20,
   "metadata": {},
   "outputs": [
    {
     "name": "stdout",
     "output_type": "stream",
     "text": [
      "e\n"
     ]
    }
   ],
   "source": [
    "# Get the character at position 1 ( remember that the first character has the position 0)\n",
    "\n",
    "a=\"Hello, World\"\n",
    "print(a[1])"
   ]
  },
  {
   "cell_type": "code",
   "execution_count": 23,
   "metadata": {},
   "outputs": [
    {
     "name": "stdout",
     "output_type": "stream",
     "text": [
      "b\n",
      "a\n",
      "n\n",
      "a\n",
      "n\n",
      "a\n"
     ]
    }
   ],
   "source": [
    "# Looping Through a String\n",
    "# Since strings are arrays, we can loop through the character in a string, with a for loop.\n",
    "# Loop through the letters in the word \"banana\":\n",
    "\n",
    "for x in \"banana\":\n",
    "    print(x)"
   ]
  },
  {
   "cell_type": "code",
   "execution_count": 28,
   "metadata": {},
   "outputs": [
    {
     "name": "stdout",
     "output_type": "stream",
     "text": [
      "True\n"
     ]
    }
   ],
   "source": [
    "# Check String\n",
    "# To check if a certain phrases or character is present in a string, we can use the keyword in.\n",
    "\n",
    "txt=\"The best things in life are free!\"\n",
    "print(\"free\" in txt)"
   ]
  },
  {
   "cell_type": "code",
   "execution_count": 30,
   "metadata": {},
   "outputs": [
    {
     "name": "stdout",
     "output_type": "stream",
     "text": [
      "Yes, 'free' is present.\n"
     ]
    }
   ],
   "source": [
    "# Use it in  an if statement:\n",
    "# Print only if \"free\" is present:\n",
    "txt=\" The best thing s in this life are free!\"\n",
    "if 'free' in txt:\n",
    "    print(\"Yes, 'free' is present.\")"
   ]
  },
  {
   "cell_type": "code",
   "execution_count": 31,
   "metadata": {},
   "outputs": [
    {
     "name": "stdout",
     "output_type": "stream",
     "text": [
      "True\n"
     ]
    }
   ],
   "source": [
    "# Check if Not\n",
    "# To check if a certain phrase or character is NOT present in a string, we can use the keyword not in.\n",
    "# Check if \"expensive\" is NOT present in the following test:\n",
    "\n",
    "txt=\" The best things in this life are free!\"\n",
    "print(\"expensive\" not in txt)"
   ]
  },
  {
   "cell_type": "code",
   "execution_count": 32,
   "metadata": {},
   "outputs": [
    {
     "name": "stdout",
     "output_type": "stream",
     "text": [
      "No, 'expensive' is NOT present.\n"
     ]
    }
   ],
   "source": [
    "# Use it in an if statement:\n",
    "# Print only if  \"expensive\" is Not present:\n",
    "if \"expensive\" not in txt:\n",
    "    print(\"No, 'expensive' is NOT present.\")"
   ]
  },
  {
   "cell_type": "code",
   "execution_count": null,
   "metadata": {},
   "outputs": [],
   "source": []
  }
 ],
 "metadata": {
  "kernelspec": {
   "display_name": "Python 3",
   "language": "python",
   "name": "python3"
  },
  "language_info": {
   "codemirror_mode": {
    "name": "ipython",
    "version": 3
   },
   "file_extension": ".py",
   "mimetype": "text/x-python",
   "name": "python",
   "nbconvert_exporter": "python",
   "pygments_lexer": "ipython3",
   "version": "3.13.2"
  }
 },
 "nbformat": 4,
 "nbformat_minor": 2
}
