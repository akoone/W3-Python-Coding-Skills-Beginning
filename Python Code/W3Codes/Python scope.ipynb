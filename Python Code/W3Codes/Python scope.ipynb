{
 "cells": [
  {
   "cell_type": "code",
   "execution_count": 1,
   "id": "4f660db9",
   "metadata": {},
   "outputs": [],
   "source": [
    "#Python Scope: A variable is only available from inside the region it is created. This is called scope:\n"
   ]
  },
  {
   "cell_type": "code",
   "execution_count": 2,
   "id": "5e937c15",
   "metadata": {},
   "outputs": [
    {
     "name": "stdout",
     "output_type": "stream",
     "text": [
      "300\n"
     ]
    }
   ],
   "source": [
    "#Local Scope\n",
    "# A variable created inside a function belongs to local scope of that function ,and can onky be used inside that function.\n",
    "\n",
    "\n",
    "\n",
    "def myfunc():\n",
    "    x=300\n",
    "    print(x)\n",
    "\n",
    "myfunc()"
   ]
  },
  {
   "cell_type": "code",
   "execution_count": 3,
   "id": "d38e6d63",
   "metadata": {},
   "outputs": [
    {
     "name": "stdout",
     "output_type": "stream",
     "text": [
      "300\n"
     ]
    }
   ],
   "source": [
    "# Function Inside Function\n",
    "\n",
    "# The variable x is not available outside the function, but it is available for any function inside the function:\n",
    "\n",
    "\n",
    "\n",
    "def myfunc():\n",
    "    x=300\n",
    "    def myinnerfunc():\n",
    "        print(x)\n",
    "    myinnerfunc()\n",
    "\n",
    "myfunc()"
   ]
  },
  {
   "cell_type": "code",
   "execution_count": 4,
   "id": "40f03a7a",
   "metadata": {},
   "outputs": [
    {
     "name": "stdout",
     "output_type": "stream",
     "text": [
      "300\n",
      "300\n"
     ]
    }
   ],
   "source": [
    "# Global Function\n",
    "# A variable created in the main body of the Python codeis a global variable and belongs to the global scope.\n",
    "\n",
    "# Global variables are available from within and scope, global and local.\n",
    "# A variable created outside of a function is global and can be used by anyone:\n",
    "\n",
    "\n",
    "\n",
    "x=300\n",
    "\n",
    "\n",
    "def myfunc():\n",
    "    print(x)\n",
    "\n",
    "myfunc()\n",
    "\n",
    "print(x)"
   ]
  },
  {
   "cell_type": "code",
   "execution_count": 7,
   "id": "9ba57696",
   "metadata": {},
   "outputs": [
    {
     "name": "stdout",
     "output_type": "stream",
     "text": [
      "200\n",
      "300\n"
     ]
    }
   ],
   "source": [
    "# Naming Variables\n",
    "\n",
    "\n",
    "# If you operate with the same variable name inside and outside of a function, Python will treat them as two separate variable, one variable in the global scope(outside the function) and one available in the local scope (inside the function):\n",
    "\n",
    "\n",
    "x=300\n",
    "\n",
    "\n",
    "def myfunc():\n",
    "    x=200\n",
    "    print(x)\n",
    "\n",
    "myfunc()\n",
    "\n",
    "print(x)"
   ]
  },
  {
   "cell_type": "code",
   "execution_count": 8,
   "id": "5333bc89",
   "metadata": {},
   "outputs": [
    {
     "name": "stdout",
     "output_type": "stream",
     "text": [
      "300\n"
     ]
    }
   ],
   "source": [
    "# Global Keyword\n",
    "# If you need to create a global variable, but are stuck in the local scope, you can use the global keyword.\n",
    "\n",
    "\n",
    "def myfunc():\n",
    "    global x\n",
    "    x=300\n",
    "\n",
    "myfunc()\n",
    "\n",
    "print(x)"
   ]
  },
  {
   "cell_type": "code",
   "execution_count": 9,
   "id": "de3126c7",
   "metadata": {},
   "outputs": [
    {
     "name": "stdout",
     "output_type": "stream",
     "text": [
      "200\n"
     ]
    }
   ],
   "source": [
    "# Also, use the global keyword if you want to make a change to a global variable inside a function.\n",
    "\n",
    "\n",
    "x=300\n",
    "\n",
    "def myfunc():\n",
    "    global x\n",
    "    x=200\n",
    "\n",
    "myfunc()\n",
    "\n",
    "print(x)"
   ]
  },
  {
   "cell_type": "code",
   "execution_count": 10,
   "id": "72c35ab3",
   "metadata": {},
   "outputs": [
    {
     "name": "stdout",
     "output_type": "stream",
     "text": [
      "Hello\n"
     ]
    }
   ],
   "source": [
    "# Nonlocal Keyword\n",
    "# The nonlocal keyword is used to work with variables inside nested functions.\n",
    "# The nonlocal keyword makes the variable belong to the outter function.\n",
    "\n",
    "\n",
    "\n",
    "def myfunc1():\n",
    "    x='Jane'\n",
    "    def myfunc2():\n",
    "        nonlocal x\n",
    "        x='Hello'\n",
    "    myfunc2()\n",
    "    return x\n",
    "\n",
    "print(myfunc1())"
   ]
  },
  {
   "cell_type": "code",
   "execution_count": null,
   "id": "2d21f9db",
   "metadata": {},
   "outputs": [],
   "source": []
  }
 ],
 "metadata": {
  "kernelspec": {
   "display_name": "Python 3",
   "language": "python",
   "name": "python3"
  },
  "language_info": {
   "codemirror_mode": {
    "name": "ipython",
    "version": 3
   },
   "file_extension": ".py",
   "mimetype": "text/x-python",
   "name": "python",
   "nbconvert_exporter": "python",
   "pygments_lexer": "ipython3",
   "version": "3.13.3"
  }
 },
 "nbformat": 4,
 "nbformat_minor": 5
}
