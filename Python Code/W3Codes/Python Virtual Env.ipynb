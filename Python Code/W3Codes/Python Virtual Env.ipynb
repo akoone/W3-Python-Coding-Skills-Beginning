{
 "cells": [
  {
   "cell_type": "code",
   "execution_count": null,
   "id": "a9186584",
   "metadata": {},
   "outputs": [],
   "source": [
    "#Python Virtual Envirionment:\n",
    "\n"
   ]
  }
 ],
 "metadata": {
  "language_info": {
   "name": "python"
  }
 },
 "nbformat": 4,
 "nbformat_minor": 5
}
