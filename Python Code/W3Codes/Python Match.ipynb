{
 "cells": [
  {
   "cell_type": "code",
   "execution_count": 1,
   "metadata": {},
   "outputs": [],
   "source": [
    "# The match statement is used to perform different actions based on different conditions:\n",
    "\n",
    "# Instead of writing many !if..else statements, you can use the match statement.\n",
    "# The !match statement selects the one of many code blocks to be executed.\n",
    "\n",
    "\n",
    "# match expression:\n",
    "# case x: \n",
    "# code block \n",
    "# case y: \n",
    "# code block \n",
    "# case z: \n",
    "# code block\n",
    "\n",
    "# This is how it works: \n",
    "# The match expression is evaluated once. \n",
    "# The value of the expression is compared with the value of each case. \n",
    "# If there is a match, the associated block of the code is executed."
   ]
  },
  {
   "cell_type": "code",
   "execution_count": 5,
   "metadata": {},
   "outputs": [
    {
     "name": "stdout",
     "output_type": "stream",
     "text": [
      "Thursday\n"
     ]
    }
   ],
   "source": [
    "day = 4\n",
    "match day:\n",
    "    case 1:\n",
    "        print('Monday')\n",
    "    case 2:\n",
    "        print('Tuesday')\n",
    "    case 3:\n",
    "        print('Wednesday')\n",
    "    case 4: \n",
    "        print('Thursday')\n",
    "    case 5:\n",
    "        print('Friday')\n",
    "    case 6:\n",
    "        print('Saturday')\n",
    "    case 7:\n",
    "        print('Sunday')"
   ]
  },
  {
   "cell_type": "code",
   "execution_count": null,
   "metadata": {},
   "outputs": [
    {
     "name": "stdout",
     "output_type": "stream",
     "text": [
      "Looking forward to the Weekend\n"
     ]
    }
   ],
   "source": [
    "# Default Value\n",
    "# Use the underscore !_ character as the last case value if you want a code block to execute when there are not other matches:\n",
    "\n",
    "\n",
    "day=4\n",
    "match day:\n",
    "    case 6:\n",
    "        print('Today is Saturday')\n",
    "    case 7:\n",
    "        print('Today is Sunday')\n",
    "    case _:\n",
    "        print('Looking forward to the Weekend')\n",
    "\n",
    "\n",
    "        # The value _ will always match, so it is important to place it as the last case to make it behave as a default case:\n",
    "        "
   ]
  },
  {
   "cell_type": "code",
   "execution_count": 10,
   "metadata": {},
   "outputs": [
    {
     "name": "stdout",
     "output_type": "stream",
     "text": [
      "Today is a weekend\n"
     ]
    }
   ],
   "source": [
    "# Combine Values\n",
    "# Use the | pipe character as an or operator in the case evaluation to check for more than one value match in one case:\n",
    "\n",
    "\n",
    "day=5\n",
    "match day:\n",
    "    case 1|2|3|4|5:\n",
    "        print('Today is a weekend')\n",
    "    case 6|7:\n",
    "        print('I love weekends')"
   ]
  },
  {
   "cell_type": "code",
   "execution_count": 11,
   "metadata": {},
   "outputs": [
    {
     "name": "stdout",
     "output_type": "stream",
     "text": [
      " A weekday in May\n"
     ]
    }
   ],
   "source": [
    "# If Statements as Guards\n",
    "# you can add if statement in the case evaluation as an extra condition check:\n",
    "\n",
    "\n",
    "month=5\n",
    "day =4\n",
    "match day:\n",
    "    case 1|2|3|4|5 if month ==4:\n",
    "        print('A weekday in April')\n",
    "    case 1|2|3|4|5 if month ==5:\n",
    "        print(' A weekday in May')\n",
    "    case _:\n",
    "        print('No Match')"
   ]
  },
  {
   "cell_type": "code",
   "execution_count": null,
   "metadata": {},
   "outputs": [],
   "source": []
  }
 ],
 "metadata": {
  "kernelspec": {
   "display_name": "Python 3",
   "language": "python",
   "name": "python3"
  },
  "language_info": {
   "codemirror_mode": {
    "name": "ipython",
    "version": 3
   },
   "file_extension": ".py",
   "mimetype": "text/x-python",
   "name": "python",
   "nbconvert_exporter": "python",
   "pygments_lexer": "ipython3",
   "version": "3.13.3"
  }
 },
 "nbformat": 4,
 "nbformat_minor": 2
}
