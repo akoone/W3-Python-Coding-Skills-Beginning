{
 "cells": [
  {
   "cell_type": "code",
   "execution_count": null,
   "metadata": {},
   "outputs": [
    {
     "name": "stdout",
     "output_type": "stream",
     "text": [
      "Five is greater than two!\n"
     ]
    }
   ],
   "source": [
    "#Python Identation\n",
    "#Python uses identation to indiccate a block of code.\n",
    "#Python will give you an error if you skip the identation:\n",
    "#The number of space is up to you as a programmer, the most common use is four, but it has to be at least one.\n",
    "if 5>2:\n",
    "    print('Five is greater than two!')"
   ]
  },
  {
   "cell_type": "code",
   "execution_count": 6,
   "metadata": {},
   "outputs": [
    {
     "name": "stdout",
     "output_type": "stream",
     "text": [
      "Five is gresater than two!\n",
      "Five is greater than two!\n"
     ]
    }
   ],
   "source": [
    "# You have to use the same number of spaces in the same block of code, otherwise python will give you an error:\n",
    "if 5>2:\n",
    "    print('Five is gresater than two!')\n",
    "    print('Five is greater than two!')"
   ]
  },
  {
   "cell_type": "code",
   "execution_count": null,
   "metadata": {},
   "outputs": [],
   "source": [
    "# Comments \n",
    "#Python has commenting capability for the pupose of in-code documentation.\n"
   ]
  }
 ],
 "metadata": {
  "kernelspec": {
   "display_name": "Python 3",
   "language": "python",
   "name": "python3"
  },
  "language_info": {
   "codemirror_mode": {
    "name": "ipython",
    "version": 3
   },
   "file_extension": ".py",
   "mimetype": "text/x-python",
   "name": "python",
   "nbconvert_exporter": "python",
   "pygments_lexer": "ipython3",
   "version": "3.13.2"
  }
 },
 "nbformat": 4,
 "nbformat_minor": 2
}
