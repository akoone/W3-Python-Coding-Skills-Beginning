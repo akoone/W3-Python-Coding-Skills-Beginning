{
 "cells": [
  {
   "cell_type": "code",
   "execution_count": 1,
   "id": "a3c0bedf",
   "metadata": {},
   "outputs": [],
   "source": [
    "#Python Try Except\n",
    "# try block lets you test a block of code for errors.\n",
    "# except block lets you handle the error.\n",
    "# else block lets you execute when there is no error\n",
    "# finally block lets you execute code, regardless of the result of try and except block.\n",
    "# \n",
    "# \n",
    "#  "
   ]
  },
  {
   "cell_type": "code",
   "execution_count": 2,
   "id": "5865a8f5",
   "metadata": {},
   "outputs": [
    {
     "name": "stdout",
     "output_type": "stream",
     "text": [
      "An exception occured\n"
     ]
    }
   ],
   "source": [
    "#Exception Handling \n",
    "# when an error occurs, or exception as we call t, Python will normally stop and generate an error message.\n",
    "# these exception can be handled using the try statement:\n",
    "\n",
    "\n",
    "\n",
    "\n",
    "# The try block will generate an exception, becaeuse x is not defined:\n",
    "\n",
    "\n",
    "\n",
    "try:\n",
    "    print(x)\n",
    "except:\n",
    "    print('An exception occured')"
   ]
  },
  {
   "cell_type": "code",
   "execution_count": 3,
   "id": "564b79e1",
   "metadata": {},
   "outputs": [
    {
     "ename": "NameError",
     "evalue": "name 'x' is not defined",
     "output_type": "error",
     "traceback": [
      "\u001b[1;31m---------------------------------------------------------------------------\u001b[0m",
      "\u001b[1;31mNameError\u001b[0m                                 Traceback (most recent call last)",
      "Cell \u001b[1;32mIn[3], line 5\u001b[0m\n\u001b[0;32m      1\u001b[0m \u001b[38;5;66;03m# Since the try block rises an error, the except block will be executed.\u001b[39;00m\n\u001b[0;32m      2\u001b[0m \u001b[38;5;66;03m# Without the try block, the programm will crash and rise an error:\u001b[39;00m\n\u001b[1;32m----> 5\u001b[0m \u001b[38;5;28mprint\u001b[39m(\u001b[43mx\u001b[49m)\n",
      "\u001b[1;31mNameError\u001b[0m: name 'x' is not defined"
     ]
    }
   ],
   "source": [
    "# Since the try block rises an error, the except block will be executed.\n",
    "# Without the try block, the programm will crash and rise an error:\n",
    "\n",
    "\n",
    "print(x)"
   ]
  },
  {
   "cell_type": "code",
   "execution_count": 5,
   "id": "0bfd3a8c",
   "metadata": {},
   "outputs": [
    {
     "name": "stdout",
     "output_type": "stream",
     "text": [
      "Variable x is not defined\n"
     ]
    }
   ],
   "source": [
    "# You can define as many exception blocks as you want, if you want to execute a special block of code for special kinf of error:\n",
    "\n",
    "\n",
    "try:\n",
    "    print(x)\n",
    "except NameError:\n",
    "    print('Variable x is not defined')\n",
    "except:\n",
    "    print('something else went wrong')"
   ]
  },
  {
   "cell_type": "code",
   "execution_count": 7,
   "id": "72397182",
   "metadata": {},
   "outputs": [
    {
     "name": "stdout",
     "output_type": "stream",
     "text": [
      "Hello\n",
      "Nothing went wrong\n"
     ]
    }
   ],
   "source": [
    "# Else \n",
    "\n",
    "# You can use the else keyword to define a block of code to be executed if no errors were rised:\n",
    "\n",
    "\n",
    "try:\n",
    "    print('Hello')\n",
    "except:\n",
    "    print('Something went wrong')\n",
    "else:\n",
    "    print('Nothing went wrong')"
   ]
  },
  {
   "cell_type": "code",
   "execution_count": 8,
   "id": "3c7681ec",
   "metadata": {},
   "outputs": [
    {
     "name": "stdout",
     "output_type": "stream",
     "text": [
      "something went wrong\n",
      "The \"try except\" is finished\n"
     ]
    }
   ],
   "source": [
    "# Finally block, if specified, will be executed regardless if the try block rises an error or not.\n",
    "\n",
    "try:\n",
    "    print(x)\n",
    "except:\n",
    "    print('something went wrong')\n",
    "finally:\n",
    "    print('The \"try except\" is finished')"
   ]
  },
  {
   "cell_type": "code",
   "execution_count": 9,
   "id": "d0e8ce66",
   "metadata": {},
   "outputs": [
    {
     "name": "stdout",
     "output_type": "stream",
     "text": [
      "something went wrong when opening the file\n"
     ]
    }
   ],
   "source": [
    "# Try to open and write to a file that is not writable:\n",
    "\n",
    "\n",
    "try:\n",
    "    f=open('demofile.txt')\n",
    "    try:\n",
    "        f.write('Lorum Isoum')\n",
    "    except:\n",
    "        print('Something went wrong when writing to the file')\n",
    "    finally:\n",
    "        f.close()\n",
    "except:\n",
    "    print('something went wrong when opening the file')"
   ]
  },
  {
   "cell_type": "code",
   "execution_count": 11,
   "id": "b25c57f5",
   "metadata": {},
   "outputs": [
    {
     "ename": "Exception",
     "evalue": "Sorry, no number below zero",
     "output_type": "error",
     "traceback": [
      "\u001b[1;31m---------------------------------------------------------------------------\u001b[0m",
      "\u001b[1;31mException\u001b[0m                                 Traceback (most recent call last)",
      "Cell \u001b[1;32mIn[11], line 11\u001b[0m\n\u001b[0;32m      6\u001b[0m x\u001b[38;5;241m=\u001b[39m\u001b[38;5;241m-\u001b[39m\u001b[38;5;241m1\u001b[39m\n\u001b[0;32m     10\u001b[0m \u001b[38;5;28;01mif\u001b[39;00m x\u001b[38;5;241m<\u001b[39m\u001b[38;5;241m0\u001b[39m:\n\u001b[1;32m---> 11\u001b[0m     \u001b[38;5;28;01mraise\u001b[39;00m \u001b[38;5;167;01mException\u001b[39;00m(\u001b[38;5;124m'\u001b[39m\u001b[38;5;124mSorry, no number below zero\u001b[39m\u001b[38;5;124m'\u001b[39m)\n",
      "\u001b[1;31mException\u001b[0m: Sorry, no number below zero"
     ]
    }
   ],
   "source": [
    "# Rise an exception\n",
    "\n",
    "\n",
    "\n",
    "\n",
    "x=-1\n",
    "\n",
    "\n",
    "\n",
    "if x<0:\n",
    "    raise Exception('Sorry, no number below zero')"
   ]
  },
  {
   "cell_type": "code",
   "execution_count": 12,
   "id": "714a5822",
   "metadata": {},
   "outputs": [
    {
     "ename": "TypeError",
     "evalue": "Only integers are allowed",
     "output_type": "error",
     "traceback": [
      "\u001b[1;31m---------------------------------------------------------------------------\u001b[0m",
      "\u001b[1;31mTypeError\u001b[0m                                 Traceback (most recent call last)",
      "Cell \u001b[1;32mIn[12], line 8\u001b[0m\n\u001b[0;32m      5\u001b[0m x\u001b[38;5;241m=\u001b[39m\u001b[38;5;124m'\u001b[39m\u001b[38;5;124mHello\u001b[39m\u001b[38;5;124m'\u001b[39m\n\u001b[0;32m      7\u001b[0m \u001b[38;5;28;01mif\u001b[39;00m \u001b[38;5;129;01mnot\u001b[39;00m \u001b[38;5;28mtype\u001b[39m(x) \u001b[38;5;129;01mis\u001b[39;00m \u001b[38;5;28mint\u001b[39m:\n\u001b[1;32m----> 8\u001b[0m     \u001b[38;5;28;01mraise\u001b[39;00m \u001b[38;5;167;01mTypeError\u001b[39;00m(\u001b[38;5;124m'\u001b[39m\u001b[38;5;124mOnly integers are allowed\u001b[39m\u001b[38;5;124m'\u001b[39m)\n",
      "\u001b[1;31mTypeError\u001b[0m: Only integers are allowed"
     ]
    }
   ],
   "source": [
    "# You can define what kinf of error to rise, and the text to print to the user:\n",
    "\n",
    "\n",
    "\n",
    "x='Hello'\n",
    "\n",
    "if not type(x) is int:\n",
    "    raise TypeError('Only integers are allowed')"
   ]
  },
  {
   "cell_type": "code",
   "execution_count": null,
   "id": "5172626b",
   "metadata": {},
   "outputs": [],
   "source": []
  }
 ],
 "metadata": {
  "kernelspec": {
   "display_name": "Python 3",
   "language": "python",
   "name": "python3"
  },
  "language_info": {
   "codemirror_mode": {
    "name": "ipython",
    "version": 3
   },
   "file_extension": ".py",
   "mimetype": "text/x-python",
   "name": "python",
   "nbconvert_exporter": "python",
   "pygments_lexer": "ipython3",
   "version": "3.13.3"
  }
 },
 "nbformat": 4,
 "nbformat_minor": 5
}
