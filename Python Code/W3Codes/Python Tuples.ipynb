{
 "cells": [
  {
   "cell_type": "code",
   "execution_count": null,
   "metadata": {},
   "outputs": [],
   "source": [
    "# Python - Tuples\n"
   ]
  },
  {
   "cell_type": "code",
   "execution_count": null,
   "metadata": {},
   "outputs": [],
   "source": [
    "mytuple=('apple','banana','cherry')\n",
    "\n",
    "\n",
    "# Tuples are used to store multiple items in a single variable\n",
    "# Tuple is one of 4 built-in data types in Python used to store \n",
    "# collections of data, the other 3 are List, Set abd Dictionart,\n",
    "#  all with different qualities and usage.\n",
    "# A tuple is a collection which is ordered and unchangable.\n",
    "#Tuples are written with round brackets."
   ]
  },
  {
   "cell_type": "code",
   "execution_count": 1,
   "metadata": {},
   "outputs": [
    {
     "name": "stdout",
     "output_type": "stream",
     "text": [
      "('apple', 'banana', 'cherry')\n"
     ]
    }
   ],
   "source": [
    "thistuple=('apple','banana','cherry')\n",
    "print(thistuple)"
   ]
  },
  {
   "cell_type": "code",
   "execution_count": 3,
   "metadata": {},
   "outputs": [],
   "source": [
    "# Tuple Items\n",
    "\n",
    "# Tuple items are ordered, unchangable, and allow duplicate values.\n",
    "# Tuple items are indexed, the first item has index [0], the second item has index [1] ect.\n",
    "\n",
    "\n",
    "#Ordered\n",
    "\n",
    "# When we say that tuples are ordered, it means that the items have a defined order,\n",
    "#  and that order will not change.\n",
    "\n",
    "\n",
    "# Unchangable\n",
    "\n",
    "# Tuples are unchangable, meaning that we can not change, add or remove items after that\n",
    "#  tuple has been created.\n",
    "\n",
    "\n",
    "# Allow duplicates\n",
    "\n",
    "# Since tuples are indexed, they can have items with same value:\n",
    "thistuple=('apple','banana','cherry','apple','cherry')\n"
   ]
  },
  {
   "cell_type": "code",
   "execution_count": 4,
   "metadata": {},
   "outputs": [
    {
     "name": "stdout",
     "output_type": "stream",
     "text": [
      "3\n"
     ]
    }
   ],
   "source": [
    "# Tuple Length\n",
    "\n",
    "# To determine how many items a tuple has, use the len() function:\n",
    "\n",
    "thistuple=('apple','banana','cherry')\n",
    "print(len(thistuple))"
   ]
  },
  {
   "cell_type": "code",
   "execution_count": 6,
   "metadata": {},
   "outputs": [
    {
     "name": "stdout",
     "output_type": "stream",
     "text": [
      "<class 'tuple'>\n",
      "<class 'str'>\n"
     ]
    }
   ],
   "source": [
    "# Create tuple with one item:\n",
    "\n",
    "# To create a tuple with only one item, you have to add a comma after the item, otherwise Python will not recognize it as a tuple.\n",
    "thistuple=('apple',)\n",
    "print(type(thistuple))\n",
    "\n",
    "# NOT a tuple\n",
    "thistuple=('apple')\n",
    "print(type(thistuple))"
   ]
  },
  {
   "cell_type": "code",
   "execution_count": 7,
   "metadata": {},
   "outputs": [],
   "source": [
    "# Tuple Items - Data Types\n",
    "\n",
    "# Tuple items can be one of any data types.\n",
    "# String, int, boolean data types:\n",
    "typle1=('apple','banana','cherry')\n",
    "tuple2=(1,2,3,4,5,6)\n",
    "tuple3=(True,False,False)\n"
   ]
  },
  {
   "cell_type": "code",
   "execution_count": 9,
   "metadata": {},
   "outputs": [
    {
     "name": "stdout",
     "output_type": "stream",
     "text": [
      "('abc', 34, True, 40, 'male')\n"
     ]
    }
   ],
   "source": [
    "# A tuple can contain different data types:\n",
    "\n",
    "# A tuple with strings, integers and boolean values:\n",
    "tuple1=('abc',34,True,40,'male')\n",
    "print(tuple1)"
   ]
  },
  {
   "cell_type": "code",
   "execution_count": 10,
   "metadata": {},
   "outputs": [
    {
     "name": "stdout",
     "output_type": "stream",
     "text": [
      "<class 'tuple'>\n"
     ]
    }
   ],
   "source": [
    "# type()\n",
    "\n",
    "\n",
    "mytuple=('apple','banana','cherry')\n",
    "print(type(mytuple))"
   ]
  },
  {
   "cell_type": "code",
   "execution_count": 11,
   "metadata": {},
   "outputs": [
    {
     "name": "stdout",
     "output_type": "stream",
     "text": [
      "('apple', 'banana', 'cherry')\n"
     ]
    }
   ],
   "source": [
    "# The tuple() constructor\n",
    "\n",
    "# It is possible to use the tuple() constructor to make a tuple.\n",
    "\n",
    "\n",
    "# Using the tuple( method to make a tuple:\n",
    "thistuple=tuple(('apple','banana','cherry'))  # Note to dubble round-bracket\n",
    "print(thistuple)"
   ]
  },
  {
   "cell_type": "code",
   "execution_count": 12,
   "metadata": {},
   "outputs": [],
   "source": [
    "# Python Collections (Arrays)\n",
    "\n",
    "# There are four collection data types in Python programming language:\n",
    "\n",
    "#List\n",
    "#Tuple\n",
    "#Set\n",
    "#Dictionary\n",
    "\n",
    "\n",
    "\n"
   ]
  },
  {
   "cell_type": "code",
   "execution_count": 13,
   "metadata": {},
   "outputs": [
    {
     "name": "stdout",
     "output_type": "stream",
     "text": [
      "banana\n"
     ]
    }
   ],
   "source": [
    "# Access Tuples\n",
    "\n",
    "\n",
    "# Access Tuple Items\n",
    "# You can access tuple items by reffering to the index number, inside square bracket:\n",
    "\n",
    "thistuple=('apple','banana','cherry')\n",
    "print(thistuple[1])"
   ]
  },
  {
   "cell_type": "code",
   "execution_count": 17,
   "metadata": {},
   "outputs": [
    {
     "name": "stdout",
     "output_type": "stream",
     "text": [
      "Yes, 'apple' is in the fruits list\n"
     ]
    }
   ],
   "source": [
    "# Check If Item Exist\n",
    "\n",
    "# To determine if a specified item is present in a tuple use the in keyword:\n",
    "thistuple=('apple','banana','cherry')\n",
    "if 'apple' in thistuple:\n",
    " print(\"Yes, 'apple' is in the fruits list\")"
   ]
  },
  {
   "cell_type": "code",
   "execution_count": 18,
   "metadata": {},
   "outputs": [],
   "source": [
    "# Python - Update Tuples\n",
    "\n",
    "\n",
    "#Tuples are unchangable, meaning that you can not change, add, or remove items once that tuple is created.\n",
    "# But there are some workarounds:\n",
    "\n",
    "\n",
    "#Change Tuple Values\n",
    "# Once a tuple is created, you can not change its calues. Tuples are unchangable, ot immutable as it also called.\n",
    "# But there are a workaround. You can convert the tuple into a list, and convert the list back into tuple.\n"
   ]
  },
  {
   "cell_type": "code",
   "execution_count": 21,
   "metadata": {},
   "outputs": [
    {
     "name": "stdout",
     "output_type": "stream",
     "text": [
      "<class 'tuple'>\n"
     ]
    }
   ],
   "source": [
    "# Conver the tuple into alist to be able to change it:\n",
    "x=('apple','banana','cherry')\n",
    "y=list(x)\n",
    "y[1]='kiwi'\n",
    "x=tuple\n",
    "\n",
    "print(x)"
   ]
  },
  {
   "cell_type": "code",
   "execution_count": 23,
   "metadata": {},
   "outputs": [
    {
     "name": "stdout",
     "output_type": "stream",
     "text": [
      "<class 'tuple'>\n"
     ]
    }
   ],
   "source": [
    "# Add Items\n",
    "\n",
    "# Since tuples are immutable, they do not have a built-in append() method, but there are other ways to add items to a tuple.\n",
    "\n",
    "# Convert into a list\n",
    "thistuple=('apple','banana','cherry')\n",
    "y=list(thistuple)\n",
    "y.append('orange')\n",
    "thistuple=tuple(y)\n",
    "print(type(thistuple))"
   ]
  },
  {
   "cell_type": "code",
   "execution_count": 24,
   "metadata": {},
   "outputs": [
    {
     "name": "stdout",
     "output_type": "stream",
     "text": [
      "('apple', 'banana', 'cherry', 'orange')\n"
     ]
    }
   ],
   "source": [
    "# Add tuple to a tuple\n",
    "# You are allowed to add tuples to tuples, so if you want to add one item, (or many), \n",
    "# crate a new tuple with the items(s), and add it to the existing tuple:\n",
    "\n",
    "thistuple=('apple','banana','cherry')\n",
    "y=('orange',)\n",
    "thistuple+=y\n",
    "\n",
    "print(thistuple)"
   ]
  },
  {
   "cell_type": "code",
   "execution_count": 25,
   "metadata": {},
   "outputs": [],
   "source": [
    "# Remove Items\n",
    "# You can not remove items in tuples\n",
    "\n",
    "# Tuples are unchangable, so you can not remove items from it,\n",
    "# but you can use the same workaround as we used for changing and adding tuple items:\n"
   ]
  },
  {
   "cell_type": "code",
   "execution_count": 27,
   "metadata": {},
   "outputs": [
    {
     "name": "stdout",
     "output_type": "stream",
     "text": [
      "('banana', 'cherry')\n"
     ]
    }
   ],
   "source": [
    "# Convert the tuple into a list, remove 'apple', and convert it back into a tuple:\n",
    "\n",
    "thistuple=('apple', 'banana','cherry')\n",
    "y=list(thistuple)\n",
    "y.remove('apple')\n",
    "thistuple=tuple(y)\n",
    "\n",
    "print(thistuple)\n"
   ]
  },
  {
   "cell_type": "code",
   "execution_count": 28,
   "metadata": {},
   "outputs": [
    {
     "ename": "NameError",
     "evalue": "name 'thistuple' is not defined",
     "output_type": "error",
     "traceback": [
      "\u001b[1;31m---------------------------------------------------------------------------\u001b[0m",
      "\u001b[1;31mNameError\u001b[0m                                 Traceback (most recent call last)",
      "Cell \u001b[1;32mIn[28], line 5\u001b[0m\n\u001b[0;32m      3\u001b[0m thistuple\u001b[38;5;241m=\u001b[39m(\u001b[38;5;124m'\u001b[39m\u001b[38;5;124mapple\u001b[39m\u001b[38;5;124m'\u001b[39m,\u001b[38;5;124m'\u001b[39m\u001b[38;5;124mbanana\u001b[39m\u001b[38;5;124m'\u001b[39m,\u001b[38;5;124m'\u001b[39m\u001b[38;5;124mcherry\u001b[39m\u001b[38;5;124m'\u001b[39m)\n\u001b[0;32m      4\u001b[0m \u001b[38;5;28;01mdel\u001b[39;00m thistuple\n\u001b[1;32m----> 5\u001b[0m \u001b[38;5;28mprint\u001b[39m(\u001b[43mthistuple\u001b[49m)\n",
      "\u001b[1;31mNameError\u001b[0m: name 'thistuple' is not defined"
     ]
    }
   ],
   "source": [
    "# Or you can delete the tuple completely:\n",
    "\n",
    "thistuple=('apple','banana','cherry')\n",
    "del thistuple\n",
    "print(thistuple)"
   ]
  },
  {
   "cell_type": "code",
   "execution_count": null,
   "metadata": {},
   "outputs": [],
   "source": []
  }
 ],
 "metadata": {
  "kernelspec": {
   "display_name": "Python 3",
   "language": "python",
   "name": "python3"
  },
  "language_info": {
   "codemirror_mode": {
    "name": "ipython",
    "version": 3
   },
   "file_extension": ".py",
   "mimetype": "text/x-python",
   "name": "python",
   "nbconvert_exporter": "python",
   "pygments_lexer": "ipython3",
   "version": "3.13.2"
  }
 },
 "nbformat": 4,
 "nbformat_minor": 2
}
