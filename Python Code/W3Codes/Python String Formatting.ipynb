{
 "cells": [
  {
   "cell_type": "code",
   "execution_count": 1,
   "id": "4a418d61",
   "metadata": {},
   "outputs": [],
   "source": [
    "# Pythong String Formatting \n",
    "\n",
    "# F-string  allows you to format sellected parta of a string.\n",
    "# To specify a string you to format, simply put a f in front of a string literal:\n",
    "\n"
   ]
  },
  {
   "cell_type": "code",
   "execution_count": 3,
   "id": "a02d5203",
   "metadata": {},
   "outputs": [
    {
     "name": "stdout",
     "output_type": "stream",
     "text": [
      "The price is 49 dollars\n"
     ]
    }
   ],
   "source": [
    "txt=f'The price is 49 dollars'\n",
    "print(txt)\n"
   ]
  },
  {
   "cell_type": "code",
   "execution_count": 4,
   "id": "c3260a56",
   "metadata": {},
   "outputs": [
    {
     "name": "stdout",
     "output_type": "stream",
     "text": [
      "The price is 59 dollars\n"
     ]
    }
   ],
   "source": [
    "# Placeholder and Modifiers\n",
    "# To format values in a f-string, add placeholders{}, a placeholder can contain variables, operations, functions, and modifiers to format the values.\n",
    "\n",
    "\n",
    "\n",
    "\n",
    "price=59\n",
    "txt=f'The price is {price} dollars'\n",
    "print(txt)"
   ]
  },
  {
   "cell_type": "code",
   "execution_count": 6,
   "id": "d85e304c",
   "metadata": {},
   "outputs": [
    {
     "name": "stdout",
     "output_type": "stream",
     "text": [
      "The price is 59.00 dollars\n"
     ]
    }
   ],
   "source": [
    "# A palceholder can include a modifier to format the value.\n",
    "# A modifier is included by adding a colon: followed by a legal formatting type, like .2f which means fixed point number with 2 decimals:\n",
    "\n",
    "\n",
    "\n",
    "price=59\n",
    "txt=f'The price is {price:.2f} dollars'\n",
    "print(txt)"
   ]
  },
  {
   "cell_type": "code",
   "execution_count": 8,
   "id": "6aad714f",
   "metadata": {},
   "outputs": [
    {
     "name": "stdout",
     "output_type": "stream",
     "text": [
      "The price is 95.00 dollars\n"
     ]
    }
   ],
   "source": [
    "# You can also format a value directly without keeping it in a variable:\n",
    "\n",
    "\n",
    "txt=f'The price is {95:.2f} dollars'\n",
    "print(txt)"
   ]
  },
  {
   "cell_type": "code",
   "execution_count": 9,
   "id": "e40eab69",
   "metadata": {},
   "outputs": [
    {
     "name": "stdout",
     "output_type": "stream",
     "text": [
      "The price is 1000 dollars\n"
     ]
    }
   ],
   "source": [
    "#Perform Operations in F-Strings\n",
    "# You can perform python operations inside the placeholders.\n",
    "\n",
    "\n",
    "txt=f'The price is {20*50} dollars'\n",
    "print(txt)"
   ]
  },
  {
   "cell_type": "code",
   "execution_count": 12,
   "id": "878864c8",
   "metadata": {},
   "outputs": [
    {
     "name": "stdout",
     "output_type": "stream",
     "text": [
      "The price is 73.75 dollars\n"
     ]
    }
   ],
   "source": [
    "# You can perform math operations on variables:\n",
    "\n",
    "\n",
    "price=59\n",
    "tax=.25\n",
    "txt=f'The price is {price+(price*tax)} dollars'\n",
    "print(txt)"
   ]
  },
  {
   "cell_type": "code",
   "execution_count": 13,
   "id": "594e8c93",
   "metadata": {},
   "outputs": [
    {
     "name": "stdout",
     "output_type": "stream",
     "text": [
      "It is very Cheap\n"
     ]
    }
   ],
   "source": [
    "# You can perform if ... else statements inside the placeholders:\n",
    "\n",
    "\n",
    "price=49\n",
    "txt=f'It is very {'Expensive' if price >50 else 'Cheap'}'\n",
    "\n",
    "print(txt)"
   ]
  },
  {
   "cell_type": "code",
   "execution_count": 14,
   "id": "abc09f9d",
   "metadata": {},
   "outputs": [
    {
     "name": "stdout",
     "output_type": "stream",
     "text": [
      "I love APPLES\n"
     ]
    }
   ],
   "source": [
    "# Execute Functions in F-Strings\n",
    "\n",
    "\n",
    "fruit='apples'\n",
    "txt=f'I love {fruit.upper()}'\n",
    "print(txt)"
   ]
  },
  {
   "cell_type": "code",
   "execution_count": 15,
   "id": "5baa98f0",
   "metadata": {},
   "outputs": [
    {
     "name": "stdout",
     "output_type": "stream",
     "text": [
      "The plane is flying at a 9144.0 meter altitude\n"
     ]
    }
   ],
   "source": [
    "def myconverter(x):\n",
    "    return x*.3048\n",
    "\n",
    "txt=f'The plane is flying at a {myconverter(30000)} meter altitude'\n",
    "print(txt)"
   ]
  },
  {
   "cell_type": "code",
   "execution_count": 16,
   "id": "deb27958",
   "metadata": {},
   "outputs": [
    {
     "name": "stdout",
     "output_type": "stream",
     "text": [
      "The price is 59,000 dollars\n"
     ]
    }
   ],
   "source": [
    "# More Modifiers \n",
    "\n",
    "\n",
    "price=59000\n",
    "txt=f'The price is {price:,} dollars'\n",
    "print(txt)"
   ]
  },
  {
   "cell_type": "code",
   "execution_count": 19,
   "id": "81a84cc9",
   "metadata": {},
   "outputs": [
    {
     "name": "stdout",
     "output_type": "stream",
     "text": [
      "The price is 49 dollars\n"
     ]
    }
   ],
   "source": [
    "# String format()\n",
    "\n",
    "price=49\n",
    "\n",
    "txt=f'The price is {price} dollars'\n",
    "print(txt)   #(txt.format(price))"
   ]
  },
  {
   "cell_type": "code",
   "execution_count": 1,
   "id": "cebf71ec",
   "metadata": {},
   "outputs": [
    {
     "name": "stdout",
     "output_type": "stream",
     "text": [
      "The price is {:.2f} dollars\n"
     ]
    }
   ],
   "source": [
    "txt='The price is {:.2f} dollars'\n",
    "\n",
    "print(txt)"
   ]
  },
  {
   "cell_type": "code",
   "execution_count": 3,
   "id": "d692d15d",
   "metadata": {},
   "outputs": [
    {
     "ename": "NameError",
     "evalue": "name 'price' is not defined",
     "output_type": "error",
     "traceback": [
      "\u001b[1;31m---------------------------------------------------------------------------\u001b[0m",
      "\u001b[1;31mNameError\u001b[0m                                 Traceback (most recent call last)",
      "Cell \u001b[1;32mIn[3], line 4\u001b[0m\n\u001b[0;32m      1\u001b[0m \u001b[38;5;66;03m# Multiple Values\u001b[39;00m\n\u001b[1;32m----> 4\u001b[0m \u001b[38;5;28mprint\u001b[39m(txt\u001b[38;5;241m.\u001b[39mformat(\u001b[43mprice\u001b[49m, itemno, count))\n",
      "\u001b[1;31mNameError\u001b[0m: name 'price' is not defined"
     ]
    }
   ],
   "source": [
    "# Multiple Values\n",
    "\n",
    "\n",
    "print(txt.format(price, itemno, count))\n"
   ]
  },
  {
   "cell_type": "code",
   "execution_count": 5,
   "id": "3acafa53",
   "metadata": {},
   "outputs": [
    {
     "name": "stdout",
     "output_type": "stream",
     "text": [
      "I want 3 price of item number 567 for 49.00 dollars.\n"
     ]
    }
   ],
   "source": [
    "quantity=3\n",
    "itemno=567\n",
    "price=49\n",
    "myorder='I want {} price of item number {} for {:.2f} dollars.'\n",
    "print(myorder.format(quantity,itemno,price))"
   ]
  },
  {
   "cell_type": "code",
   "execution_count": 6,
   "id": "01202c14",
   "metadata": {},
   "outputs": [
    {
     "name": "stdout",
     "output_type": "stream",
     "text": [
      "I want 3 pieces of item number 567 for 49.00 dollars\n"
     ]
    }
   ],
   "source": [
    "# Index Numbers \n",
    "# You can use index numbers ( a number inside the curly brackets {0}) to be sure the value are placed in the correct placeholders:\n",
    "\n",
    "\n",
    "\n",
    "quantity=3\n",
    "itemno=567\n",
    "price=49\n",
    "myorder='I want {0} pieces of item number {1} for {2:.2f} dollars'\n",
    "print(myorder.format(quantity,itemno,price))"
   ]
  },
  {
   "cell_type": "code",
   "execution_count": 7,
   "id": "45a54fc5",
   "metadata": {},
   "outputs": [
    {
     "name": "stdout",
     "output_type": "stream",
     "text": [
      "His name is John. John is 36 years old\n"
     ]
    }
   ],
   "source": [
    "# Also if you want to refer to the same number more than once, use the index number:\n",
    "\n",
    "\n",
    "age=36\n",
    "name='John'\n",
    "txt='His name is {1}. {1} is {0} years old'\n",
    "print (txt.format(age,name))"
   ]
  },
  {
   "cell_type": "code",
   "execution_count": 8,
   "id": "0c2e1f5b",
   "metadata": {},
   "outputs": [
    {
     "name": "stdout",
     "output_type": "stream",
     "text": [
      "I have a Ford, it is a Mustang.\n"
     ]
    }
   ],
   "source": [
    "# Named indexes\n",
    "\n",
    "\n",
    "myorder='I have a {carname}, it is a {model}.'\n",
    "print(myorder.format(carname='Ford',model='Mustang'))"
   ]
  },
  {
   "cell_type": "code",
   "execution_count": null,
   "id": "7a8a8283",
   "metadata": {},
   "outputs": [],
   "source": []
  }
 ],
 "metadata": {
  "kernelspec": {
   "display_name": "Python 3",
   "language": "python",
   "name": "python3"
  },
  "language_info": {
   "codemirror_mode": {
    "name": "ipython",
    "version": 3
   },
   "file_extension": ".py",
   "mimetype": "text/x-python",
   "name": "python",
   "nbconvert_exporter": "python",
   "pygments_lexer": "ipython3",
   "version": "3.13.3"
  }
 },
 "nbformat": 4,
 "nbformat_minor": 5
}
