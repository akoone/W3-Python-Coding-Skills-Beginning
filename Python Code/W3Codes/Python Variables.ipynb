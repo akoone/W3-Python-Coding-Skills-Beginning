{
 "cells": [
  {
   "cell_type": "code",
   "execution_count": 59,
   "metadata": {},
   "outputs": [],
   "source": [
    "#Variables are containers for storing data values\n"
   ]
  },
  {
   "cell_type": "code",
   "execution_count": 60,
   "metadata": {},
   "outputs": [
    {
     "name": "stdout",
     "output_type": "stream",
     "text": [
      "5\n",
      "John\n"
     ]
    }
   ],
   "source": [
    "#Creating Variables\n",
    "#Python has no command for declaring a variable.\n",
    "#A variable is created the moment you first assign a value to it.\n",
    "\n",
    "x=5\n",
    "y='John'\n",
    "print(x)\n",
    "print(y)"
   ]
  },
  {
   "cell_type": "code",
   "execution_count": 61,
   "metadata": {},
   "outputs": [
    {
     "name": "stdout",
     "output_type": "stream",
     "text": [
      "Sally\n"
     ]
    }
   ],
   "source": [
    "# Variables do not need to be decleared with any particular type, and can evem change type after they have been set.\n",
    "\n",
    "\n",
    "x=4 # x is of type int\n",
    "x='Sally' # x is nonw of type str\n",
    "print(x)"
   ]
  },
  {
   "cell_type": "code",
   "execution_count": 62,
   "metadata": {},
   "outputs": [
    {
     "name": "stdout",
     "output_type": "stream",
     "text": [
      "3\n",
      "3\n",
      "3.0\n"
     ]
    }
   ],
   "source": [
    "# Casting\n",
    "# If you want to specify the data type of a variable, this can be done with casting.\n",
    "\n",
    "x=str(3)\n",
    "y=int(3)\n",
    "z=float(3)\n",
    "print(x)\n",
    "print(y)\n",
    "print(z)"
   ]
  },
  {
   "cell_type": "code",
   "execution_count": 63,
   "metadata": {},
   "outputs": [
    {
     "name": "stdout",
     "output_type": "stream",
     "text": [
      "<class 'int'>\n",
      "<class 'str'>\n"
     ]
    }
   ],
   "source": [
    "# You can get the data type of a variable with the type() function:\n",
    "\n",
    "x=5\n",
    "y='John'\n",
    "print(type(x))\n",
    "print(type(y))\n"
   ]
  },
  {
   "cell_type": "code",
   "execution_count": 64,
   "metadata": {},
   "outputs": [
    {
     "name": "stdout",
     "output_type": "stream",
     "text": [
      "Sally\n",
      "4\n"
     ]
    }
   ],
   "source": [
    "# Single or double quote\n",
    "#Cast-Sensitive\n",
    "#Variable names are case-sensitive\n",
    "\n",
    "a=4\n",
    "A='Sally'\n",
    "print(A)\n",
    "print(a)"
   ]
  },
  {
   "cell_type": "code",
   "execution_count": 65,
   "metadata": {},
   "outputs": [
    {
     "data": {
      "text/plain": [
       "'A variable name must start with a letter or the underscore character\\nA variable name cannot start with a number\\nA variable name can only contain alpha-numeric characters and underscores (A-z, 0-9, and _ )\\nVariable names are case-sensitive (age, Age and AGE are three different variables)\\nA variable name cannot be any of the Python keywords '"
      ]
     },
     "execution_count": 65,
     "metadata": {},
     "output_type": "execute_result"
    }
   ],
   "source": [
    "# Python - Variable Names\n",
    "# Variable Names\n",
    "#A variable can have a short name (like x and y) or a more descriptive name (age, carname, total_volume).\n",
    "\"\"\"A variable name must start with a letter or the underscore character\n",
    "A variable name cannot start with a number\n",
    "A variable name can only contain alpha-numeric characters and underscores (A-z, 0-9, and _ )\n",
    "Variable names are case-sensitive (age, Age and AGE are three different variables)\n",
    "A variable name cannot be any of the Python keywords \"\"\""
   ]
  },
  {
   "cell_type": "code",
   "execution_count": 66,
   "metadata": {},
   "outputs": [],
   "source": [
    "# Legal Variable Names\n",
    "\n",
    "myvar = \"John\"\n",
    "my_var='John'\n",
    "_my_var ='John'\n",
    "myVar='John'\n",
    "MYVAR='John'\n",
    "myvar2='John'"
   ]
  },
  {
   "cell_type": "code",
   "execution_count": 67,
   "metadata": {},
   "outputs": [
    {
     "ename": "SyntaxError",
     "evalue": "invalid decimal literal (2250148682.py, line 2)",
     "output_type": "error",
     "traceback": [
      "\u001b[1;36m  Cell \u001b[1;32mIn[67], line 2\u001b[1;36m\u001b[0m\n\u001b[1;33m    2myvar = 'John'\u001b[0m\n\u001b[1;37m    ^\u001b[0m\n\u001b[1;31mSyntaxError\u001b[0m\u001b[1;31m:\u001b[0m invalid decimal literal\n"
     ]
    }
   ],
   "source": [
    "# Illegal variable names:\n",
    "2myvar = 'John'\n",
    "my-var = 'John'\n",
    "my var = 'John'"
   ]
  },
  {
   "cell_type": "code",
   "execution_count": null,
   "metadata": {},
   "outputs": [
    {
     "data": {
      "text/plain": [
       "'Variable names are case-sensitive\\nMulti Words Variable Names\\nVariable names with more than one word can be difficult to read.\\nThere are several techniques you can use to make them more readable:'"
      ]
     },
     "execution_count": 17,
     "metadata": {},
     "output_type": "execute_result"
    }
   ],
   "source": [
    "\"\"\"Variable names are case-sensitive\n",
    "Multi Words Variable Names\n",
    "Variable names with more than one word can be difficult to read.\n",
    "There are several techniques you can use to make them more readable:\"\"\"\n"
   ]
  },
  {
   "cell_type": "code",
   "execution_count": null,
   "metadata": {},
   "outputs": [],
   "source": [
    "#Camel Case\n",
    "#Each word, except the first, starts witha capital letter\n",
    "myVariableName = 'John'\n"
   ]
  },
  {
   "cell_type": "code",
   "execution_count": null,
   "metadata": {},
   "outputs": [],
   "source": [
    "#Pascal Case\n",
    "#Each word starts with a capital letter\n",
    "MyVariableName = 'John'"
   ]
  },
  {
   "cell_type": "code",
   "execution_count": null,
   "metadata": {},
   "outputs": [],
   "source": [
    "# Snake Case\n",
    "# Eaxh word is separated by an underscore character:\n",
    "\n",
    "my_variable_name = 'John'"
   ]
  },
  {
   "cell_type": "code",
   "execution_count": null,
   "metadata": {},
   "outputs": [],
   "source": [
    "# Assign Multiple Values\n",
    "\n",
    "# Many Values to Multiple Variables\n",
    "# Python Allows you to assign values to multiple variables in one line:\n",
    "\n"
   ]
  },
  {
   "cell_type": "code",
   "execution_count": null,
   "metadata": {},
   "outputs": [
    {
     "name": "stdout",
     "output_type": "stream",
     "text": [
      "Orange\n",
      "Banaba\n",
      "Cherry\n"
     ]
    },
    {
     "data": {
      "text/plain": [
       "'Note: Make sure the number of variables matches the number of values, or else you will get an error.'"
      ]
     },
     "execution_count": 19,
     "metadata": {},
     "output_type": "execute_result"
    }
   ],
   "source": [
    "x,y,z='Orange','Banaba', 'Cherry'\n",
    "print(x)\n",
    "print(y)\n",
    "print(z)\n",
    "\"\"\"Note: Make sure the number of variables matches the number of values, or else you will get an error.\"\"\""
   ]
  },
  {
   "cell_type": "code",
   "execution_count": null,
   "metadata": {},
   "outputs": [
    {
     "name": "stdout",
     "output_type": "stream",
     "text": [
      "Orange\n",
      "Orange\n",
      "Orange\n"
     ]
    }
   ],
   "source": [
    "# One Value to Multiple Variables\n",
    "# You can assign the same value to multiple variables in one line:\n",
    "\n",
    "x=y=z='Orange'\n",
    "print(x)\n",
    "print(y)\n",
    "print(z)"
   ]
  },
  {
   "cell_type": "code",
   "execution_count": null,
   "metadata": {},
   "outputs": [
    {
     "name": "stdout",
     "output_type": "stream",
     "text": [
      "apple\n",
      "banana\n",
      "cherry\n"
     ]
    }
   ],
   "source": [
    "# Unpack a Collection\n",
    "\n",
    "# If you have a collection of values in a list, tuple etc. Python allows you to extract the values into variables. This is called unpacking.\n",
    "\n",
    "# Unpack a list:\n",
    "\n",
    "fruits=['apple', 'banana', 'cherry']\n",
    "x,y,z=fruits\n",
    "print(x)\n",
    "print(y)\n",
    "print(z)"
   ]
  },
  {
   "cell_type": "code",
   "execution_count": null,
   "metadata": {},
   "outputs": [
    {
     "name": "stdout",
     "output_type": "stream",
     "text": [
      "Python is awesome\n"
     ]
    }
   ],
   "source": [
    "#Python - Output Variables\n",
    "\n",
    "# The Python print() function is often used to output variables\n",
    "\n",
    "x= 'Python is awesome'\n",
    "print(x)"
   ]
  },
  {
   "cell_type": "code",
   "execution_count": null,
   "metadata": {},
   "outputs": [
    {
     "name": "stdout",
     "output_type": "stream",
     "text": [
      "Python is awesome\n"
     ]
    }
   ],
   "source": [
    "# In the print() function, you output multiple variables, separated by comma:\n",
    "\n",
    "x = 'Python'\n",
    "y='is'\n",
    "z='awesome'\n",
    "print(x,y,z)"
   ]
  },
  {
   "cell_type": "code",
   "execution_count": null,
   "metadata": {},
   "outputs": [
    {
     "name": "stdout",
     "output_type": "stream",
     "text": [
      "Pythonisawesome\n"
     ]
    },
    {
     "data": {
      "text/plain": [
       "'Notice the space character after \"Python \" and \"is \", without them the result would be \"Pythonisawesome\".'"
      ]
     },
     "execution_count": 26,
     "metadata": {},
     "output_type": "execute_result"
    }
   ],
   "source": [
    "# You can also use the + operator to output multiple variables:\n",
    "\n",
    "x= 'Python'\n",
    "y = 'is'\n",
    "z = 'awesome'\n",
    "print(x+y+z)\n",
    "\n",
    "'''Notice the space character after \"Python \" and \"is \", without them the result would be \"Pythonisawesome\".'''"
   ]
  },
  {
   "cell_type": "code",
   "execution_count": null,
   "metadata": {},
   "outputs": [
    {
     "name": "stdout",
     "output_type": "stream",
     "text": [
      "15\n"
     ]
    }
   ],
   "source": [
    "# For numbers, the + character works as a mathematical operator:\n",
    "\n",
    "x=5\n",
    "y=10\n",
    "print(x+y)"
   ]
  },
  {
   "cell_type": "code",
   "execution_count": null,
   "metadata": {},
   "outputs": [
    {
     "ename": "TypeError",
     "evalue": "unsupported operand type(s) for +: 'int' and 'str'",
     "output_type": "error",
     "traceback": [
      "\u001b[1;31m---------------------------------------------------------------------------\u001b[0m",
      "\u001b[1;31mTypeError\u001b[0m                                 Traceback (most recent call last)",
      "Cell \u001b[1;32mIn[28], line 5\u001b[0m\n\u001b[0;32m      3\u001b[0m x\u001b[38;5;241m=\u001b[39m\u001b[38;5;241m5\u001b[39m\n\u001b[0;32m      4\u001b[0m y\u001b[38;5;241m=\u001b[39m\u001b[38;5;124m'\u001b[39m\u001b[38;5;124mJohn\u001b[39m\u001b[38;5;124m'\u001b[39m\n\u001b[1;32m----> 5\u001b[0m \u001b[38;5;28mprint\u001b[39m(\u001b[43mx\u001b[49m\u001b[38;5;241;43m+\u001b[39;49m\u001b[43my\u001b[49m)\n",
      "\u001b[1;31mTypeError\u001b[0m: unsupported operand type(s) for +: 'int' and 'str'"
     ]
    }
   ],
   "source": [
    "# In the print() function, when you try to combine a string and a number with the + operator, Python will give you an error:\n",
    "\n",
    "x=5\n",
    "y='John'\n",
    "print(x+y)"
   ]
  },
  {
   "cell_type": "code",
   "execution_count": null,
   "metadata": {},
   "outputs": [
    {
     "name": "stdout",
     "output_type": "stream",
     "text": [
      "5 John\n"
     ]
    }
   ],
   "source": [
    "# The best way to output multiple variables in the prints() function is to separate them with commas, which even support different data types:\n",
    "\n",
    "x=5\n",
    "y='John'\n",
    "print(x,y)"
   ]
  },
  {
   "cell_type": "code",
   "execution_count": null,
   "metadata": {},
   "outputs": [
    {
     "name": "stdout",
     "output_type": "stream",
     "text": [
      "Python is awesome\n"
     ]
    }
   ],
   "source": [
    "# Python - Global Variables\n",
    "# Global Variables\n",
    "# Variables that are created outside of a function (as in all of the examples in the previous pages) are known as global variables.\n",
    "# Global variables can be used by everyone, both inside of functions and outside.\n",
    "# Create a variable outside of a function, and use it inside the function\n",
    "\n",
    "x='awesome'\n",
    "def myfunc():\n",
    "        print('Python is ' + x)\n",
    "myfunc()"
   ]
  },
  {
   "cell_type": "code",
   "execution_count": null,
   "metadata": {},
   "outputs": [
    {
     "name": "stdout",
     "output_type": "stream",
     "text": [
      "Python is fantastic\n",
      "Python is awesome\n"
     ]
    }
   ],
   "source": [
    "# If you create a variable with the same name inside a function, this variable will be local, and can only be used inside the function.\\n \n",
    "# The global variable with the same name will remain as it was, global and with the original value.\n",
    "# Create a variable inside a function, with the same name as the global variable.\n",
    "\n",
    "x='awesome'\n",
    "def myfunc():\n",
    "    x='fantastic'\n",
    "    print('Python is ' + x)\n",
    "myfunc()\n",
    "\n",
    "print('Python is ' + x)"
   ]
  },
  {
   "cell_type": "code",
   "execution_count": null,
   "metadata": {},
   "outputs": [
    {
     "name": "stdout",
     "output_type": "stream",
     "text": [
      "Python is awesome\n"
     ]
    }
   ],
   "source": [
    "# The Global Keyword\n",
    "# Normally, when you create a variable inside a function, that variable is local, and only be used inside that function.\n",
    "# To create a global variable inside a function, you can use the global keyword.\n",
    "# If you used the global keyword, the variable belongs to the global scope:\n",
    "\n",
    "def myfunct():\n",
    "    global x\n",
    "    x='fantastic'\n",
    "    myfunc()\n",
    "print('Python is '+x)"
   ]
  },
  {
   "cell_type": "code",
   "execution_count": 68,
   "metadata": {},
   "outputs": [
    {
     "name": "stdout",
     "output_type": "stream",
     "text": [
      "Python is awesome\n"
     ]
    }
   ],
   "source": [
    "# Als0, use the global keyword if you want to change a global variable inside a function.\n",
    "# To change the value of a global variable inside a function, refer to the variable by using the global keyword:\n",
    "\n",
    "\n",
    "\n",
    "x= 'awesome'\n",
    "\n",
    "def myfunc():\n",
    "    global x\n",
    "    x = 'fantastic'\n",
    "    myfunc()\n",
    "\n",
    "print('Python is '+ x)"
   ]
  },
  {
   "cell_type": "code",
   "execution_count": null,
   "metadata": {},
   "outputs": [],
   "source": []
  }
 ],
 "metadata": {
  "kernelspec": {
   "display_name": "Python 3",
   "language": "python",
   "name": "python3"
  },
  "language_info": {
   "codemirror_mode": {
    "name": "ipython",
    "version": 3
   },
   "file_extension": ".py",
   "mimetype": "text/x-python",
   "name": "python",
   "nbconvert_exporter": "python",
   "pygments_lexer": "ipython3",
   "version": "3.13.2"
  }
 },
 "nbformat": 4,
 "nbformat_minor": 2
}
