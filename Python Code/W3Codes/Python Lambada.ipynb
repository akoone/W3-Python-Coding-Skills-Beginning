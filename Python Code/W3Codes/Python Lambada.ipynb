{
 "cells": [
  {
   "cell_type": "code",
   "execution_count": null,
   "id": "d5bf7b8c",
   "metadata": {},
   "outputs": [],
   "source": [
    "# A  lambda functions is a small anonymous function.\n",
    "# A lambda functions can take any number of arguments, but can only have one expression.\n",
    "# Synatax\n",
    "# \n",
    "# lambda arguments : expression\n",
    "# the expression is executed and result is returned:\n"
   ]
  },
  {
   "cell_type": "code",
   "execution_count": 2,
   "id": "ff004282",
   "metadata": {},
   "outputs": [
    {
     "name": "stdout",
     "output_type": "stream",
     "text": [
      "15\n"
     ]
    }
   ],
   "source": [
    "# Add 10 arguments a, and return the result:\n",
    "\n",
    "\n",
    "x=lambda a:a+10\n",
    "print(x(5))"
   ]
  },
  {
   "cell_type": "code",
   "execution_count": null,
   "id": "4fffeb9c",
   "metadata": {},
   "outputs": [
    {
     "name": "stdout",
     "output_type": "stream",
     "text": [
      "30\n"
     ]
    }
   ],
   "source": [
    "# Lambda function can take any number of arguments:\n",
    "# Multiply argument a with b amd returm the result:\n",
    "# \n",
    "x= lambda a,b:a*b\n",
    "print(x(5,6))\n"
   ]
  },
  {
   "cell_type": "code",
   "execution_count": 4,
   "id": "4e2c5356",
   "metadata": {},
   "outputs": [
    {
     "name": "stdout",
     "output_type": "stream",
     "text": [
      "13\n"
     ]
    }
   ],
   "source": [
    "# Summarize argument a,b and c and return the result:\n",
    "\n",
    "x= lambda a, b, c : a+b+c\n",
    "print(x(5,6,2))"
   ]
  },
  {
   "cell_type": "code",
   "execution_count": 6,
   "id": "9827c93c",
   "metadata": {},
   "outputs": [],
   "source": [
    "# Why use the lambda functions?\n",
    "\n",
    "\n",
    "#The power of lambda is better shown when you use them as an anonymous function inside another function.\n",
    "# Say you have a function defination that taakes one argument, and that argument will be multiplied with unknown number:\n",
    "# \n",
    "\n",
    "\n",
    "def myfuntion(n):\n",
    "        return lambda a: a*n\n",
    "\n",
    "# Use that function defination to make a function that always doubles the number you send in:\n"
   ]
  },
  {
   "cell_type": "code",
   "execution_count": null,
   "id": "69d90a34",
   "metadata": {},
   "outputs": [
    {
     "name": "stdout",
     "output_type": "stream",
     "text": [
      "22\n"
     ]
    }
   ],
   "source": [
    "def myfunction(n):\n",
    " return lambda a: a*n\n",
    "\n",
    "\n",
    "mydoubler =myfunction(2)\n",
    "\n",
    "print(mydoubler(11))\n",
    "\n",
    "# Or use the same function defination to make a function that always triples the number that you send in:\n",
    "\n"
   ]
  },
  {
   "cell_type": "code",
   "execution_count": 9,
   "id": "7e4835d9",
   "metadata": {},
   "outputs": [
    {
     "name": "stdout",
     "output_type": "stream",
     "text": [
      "33\n"
     ]
    }
   ],
   "source": [
    "def myfunct(n):\n",
    "    return lambda a:a*n\n",
    "\n",
    "mytripler=myfunction(3)\n",
    "\n",
    "print(mytripler(11))\n",
    "\n",
    "# Or use the same function defination to make both functions, in the same program:\n"
   ]
  },
  {
   "cell_type": "code",
   "execution_count": null,
   "id": "33b3038f",
   "metadata": {},
   "outputs": [
    {
     "name": "stdout",
     "output_type": "stream",
     "text": [
      "22\n",
      "33\n"
     ]
    },
    {
     "ename": "",
     "evalue": "",
     "output_type": "error",
     "traceback": [
      "\u001b[1;31mThe Kernel crashed while executing code in the current cell or a previous cell. \n",
      "\u001b[1;31mPlease review the code in the cell(s) to identify a possible cause of the failure. \n",
      "\u001b[1;31mClick <a href='https://aka.ms/vscodeJupyterKernelCrash'>here</a> for more info. \n",
      "\u001b[1;31mView Jupyter <a href='command:jupyter.viewOutput'>log</a> for further details."
     ]
    }
   ],
   "source": [
    "def myfunct(n):\n",
    "    return lambda a:a*n\n",
    "\n",
    "mydoubler=myfunct(2)\n",
    "mytripler=myfunct(3)\n",
    "\n",
    "print(mydoubler(11))\n",
    "print(mytripler(11))\n"
   ]
  },
  {
   "cell_type": "code",
   "execution_count": null,
   "id": "3e4569cf",
   "metadata": {},
   "outputs": [],
   "source": []
  }
 ],
 "metadata": {
  "kernelspec": {
   "display_name": "Python 3",
   "language": "python",
   "name": "python3"
  },
  "language_info": {
   "codemirror_mode": {
    "name": "ipython",
    "version": 3
   },
   "file_extension": ".py",
   "mimetype": "text/x-python",
   "name": "python",
   "nbconvert_exporter": "python",
   "pygments_lexer": "ipython3",
   "version": "3.13.3"
  }
 },
 "nbformat": 4,
 "nbformat_minor": 5
}
