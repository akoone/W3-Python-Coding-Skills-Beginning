{
 "cells": [
  {
   "cell_type": "code",
   "execution_count": 1,
   "metadata": {},
   "outputs": [],
   "source": [
    "# Sets are used to store multiple items in a singke variable\n",
    "# A set is a collections which is unordered, unchangable, and unindexed.\n",
    "# Set items are unchangable, but you can remove items and add new items.\n",
    "# Sets are written with curly brackets.\n",
    "\n"
   ]
  },
  {
   "cell_type": "code",
   "execution_count": 2,
   "metadata": {},
   "outputs": [],
   "source": [
    "# Set items are unordered, unchangable, and do not allow duplicate values.\n",
    "# Unordered means that the items in a ser do not have a defined order.\n",
    "# Set items can appera in a different order every time you use them, and can not be reffered to by index or key.\n"
   ]
  },
  {
   "cell_type": "code",
   "execution_count": 3,
   "metadata": {},
   "outputs": [],
   "source": [
    "# Unchangable - Set items are unchangable, meaning that we can not change the items after the set has been created.\n",
    "# Once set is created, you can not cange its items, but you can remove items and add new items.\n"
   ]
  },
  {
   "cell_type": "code",
   "execution_count": 4,
   "metadata": {},
   "outputs": [],
   "source": [
    "#Duplicates are not allowed "
   ]
  },
  {
   "cell_type": "code",
   "execution_count": 8,
   "metadata": {},
   "outputs": [
    {
     "name": "stdout",
     "output_type": "stream",
     "text": [
      "{True, 2, 'cherry', 'banana', 'apple'}\n",
      "{False, True, 'cherry', 'banana', 'apple'}\n"
     ]
    }
   ],
   "source": [
    "# True and 1 is considered the same value in sets, also 0 and False are considered the same value:\n",
    "thisset={'apple','banana','cherry', True,1,2}\n",
    "print(thisset)\n",
    "\n",
    "thisset={'apple','banana','cherry',False,True,0}\n",
    "print(thisset)"
   ]
  },
  {
   "cell_type": "code",
   "execution_count": 11,
   "metadata": {},
   "outputs": [
    {
     "name": "stdout",
     "output_type": "stream",
     "text": [
      "cherry\n",
      "apple\n",
      "banana\n"
     ]
    }
   ],
   "source": [
    "# Python - Access Set Items\n",
    "\n",
    "# You can not access items in a set by reffering to an index or a key.\n",
    "# But, you can loop through set items using a for loop, or ask if a specified value is present in a set. by using in keyword.\n",
    "\n",
    "thisset={'apple','banana','cherry'}\n",
    "\n",
    "for x in thisset:\n",
    " print(x)\n"
   ]
  },
  {
   "cell_type": "code",
   "execution_count": 12,
   "metadata": {},
   "outputs": [
    {
     "name": "stdout",
     "output_type": "stream",
     "text": [
      "True\n"
     ]
    }
   ],
   "source": [
    "thisset={'apple','banana','cherry'}\n",
    "\n",
    "print('banana' in thisset)"
   ]
  },
  {
   "cell_type": "code",
   "execution_count": 15,
   "metadata": {},
   "outputs": [
    {
     "name": "stdout",
     "output_type": "stream",
     "text": [
      "False\n"
     ]
    }
   ],
   "source": [
    "thisset={'apple','banana','cherry'}\n",
    "print('banana' not in thisset)"
   ]
  },
  {
   "cell_type": "code",
   "execution_count": 16,
   "metadata": {},
   "outputs": [
    {
     "name": "stdout",
     "output_type": "stream",
     "text": [
      "{'pineapple', 'cherry', 'banana', 'papaya', 'mango', 'apple'}\n"
     ]
    }
   ],
   "source": [
    "# Python - Add Set Items\n",
    "\n",
    "# To add items from another ser into the current set ,use the update() method:\n",
    "\n",
    "thisset= {'apple','banana','cherry'}\n",
    "tropical={'pineapple','mango','papaya'}\n",
    "\n",
    "thisset.update(tropical)\n",
    "print(thisset)"
   ]
  },
  {
   "cell_type": "code",
   "execution_count": 17,
   "metadata": {},
   "outputs": [
    {
     "name": "stdout",
     "output_type": "stream",
     "text": [
      "{'cherry', 'banana', 'kiwi', 'orange', 'apple'}\n"
     ]
    }
   ],
   "source": [
    "# Add any iterables\n",
    "# the object in the update() method does not have to be a set, it can be any iterable objects (tuple,list, dictionaries)\n",
    "\n",
    "thisset={'apple','banana','cherry'}\n",
    "mylist=['kiwi','orange']\n",
    "\n",
    "thisset.update(mylist)\n",
    "print(thisset)"
   ]
  },
  {
   "cell_type": "code",
   "execution_count": null,
   "metadata": {},
   "outputs": [
    {
     "name": "stdout",
     "output_type": "stream",
     "text": [
      "cherry\n",
      "{'apple', 'banana'}\n"
     ]
    }
   ],
   "source": [
    "thisset={'apple','banana','cherry'}\n",
    "x=thisset.pop()\n",
    "\n",
    "print(x)\n",
    "print(thisset)\n",
    "\n",
    "\n"
   ]
  },
  {
   "cell_type": "code",
   "execution_count": 20,
   "metadata": {},
   "outputs": [
    {
     "name": "stdout",
     "output_type": "stream",
     "text": [
      "set()\n"
     ]
    }
   ],
   "source": [
    "thisset={'apple','banana','cherry'}\n",
    "thisset.clear()\n",
    "print(thisset)"
   ]
  },
  {
   "cell_type": "code",
   "execution_count": 21,
   "metadata": {},
   "outputs": [
    {
     "ename": "NameError",
     "evalue": "name 'thisset' is not defined",
     "output_type": "error",
     "traceback": [
      "\u001b[1;31m---------------------------------------------------------------------------\u001b[0m",
      "\u001b[1;31mNameError\u001b[0m                                 Traceback (most recent call last)",
      "Cell \u001b[1;32mIn[21], line 4\u001b[0m\n\u001b[0;32m      1\u001b[0m thisset\u001b[38;5;241m=\u001b[39m{\u001b[38;5;124m'\u001b[39m\u001b[38;5;124mapple\u001b[39m\u001b[38;5;124m'\u001b[39m,\u001b[38;5;124m'\u001b[39m\u001b[38;5;124mbanana\u001b[39m\u001b[38;5;124m'\u001b[39m,\u001b[38;5;124m'\u001b[39m\u001b[38;5;124mcherry\u001b[39m\u001b[38;5;124m'\u001b[39m}\n\u001b[0;32m      2\u001b[0m \u001b[38;5;28;01mdel\u001b[39;00m thisset\n\u001b[1;32m----> 4\u001b[0m \u001b[38;5;28mprint\u001b[39m(\u001b[43mthisset\u001b[49m)\n",
      "\u001b[1;31mNameError\u001b[0m: name 'thisset' is not defined"
     ]
    }
   ],
   "source": [
    "thisset={'apple','banana','cherry'}\n",
    "del thisset\n",
    "\n",
    "print(thisset)"
   ]
  },
  {
   "cell_type": "code",
   "execution_count": 22,
   "metadata": {},
   "outputs": [
    {
     "name": "stdout",
     "output_type": "stream",
     "text": [
      "cherry\n",
      "apple\n",
      "banana\n"
     ]
    }
   ],
   "source": [
    "# Loop Items\n",
    "# You can loop through the set items by using a for loop:\n",
    "\n",
    "thisset={'apple','banana','cherry'}\n",
    "\n",
    "for x in thisset:\n",
    "    print(x)"
   ]
  },
  {
   "cell_type": "code",
   "execution_count": 23,
   "metadata": {},
   "outputs": [
    {
     "data": {
      "text/plain": [
       "' \\nThere are several ways to join two or more sets in Python.\\n\\nThe union() and update() methods joins all items from both sets.\\n\\nThe intersection() method keeps ONLY the duplicates.\\n\\nThe difference() method keeps the items from the first set that are not in the other set(s).\\n\\nThe symmetric_difference() method keeps all items EXCEPT the duplicates.\\n\\n'"
      ]
     },
     "execution_count": 23,
     "metadata": {},
     "output_type": "execute_result"
    }
   ],
   "source": [
    "# Python Join Sets\n",
    "\n",
    "\"\"\" \n",
    "There are several ways to join two or more sets in Python.\n",
    "\n",
    "The union() and update() methods joins all items from both sets.\n",
    "\n",
    "The intersection() method keeps ONLY the duplicates.\n",
    "\n",
    "The difference() method keeps the items from the first set that are not in the other set(s).\n",
    "\n",
    "The symmetric_difference() method keeps all items EXCEPT the duplicates.\n",
    "\n",
    "\"\"\""
   ]
  },
  {
   "cell_type": "code",
   "execution_count": 25,
   "metadata": {},
   "outputs": [
    {
     "name": "stdout",
     "output_type": "stream",
     "text": [
      "{1, 2, 3, 'c', 'b', 'a'}\n"
     ]
    }
   ],
   "source": [
    "# Union - union() method returns a new set with all items from both sets.\n",
    "\n",
    "\n",
    "set1={'a','b','c'}\n",
    "set2={1,2,3}\n",
    "\n",
    "set3=set1.union(set2)\n",
    "print(set3)"
   ]
  },
  {
   "cell_type": "code",
   "execution_count": 26,
   "metadata": {},
   "outputs": [
    {
     "name": "stdout",
     "output_type": "stream",
     "text": [
      "{1, 2, 3, 'c', 'b', 'a'}\n"
     ]
    }
   ],
   "source": [
    "# You can use | operator instead of the union(), and you will get the same result.\n",
    "\n",
    "set1={'a','b','c'}\n",
    "set2={1,2,3}\n",
    "\n",
    "set3=set1|set2\n",
    "print(set3)"
   ]
  },
  {
   "cell_type": "code",
   "execution_count": 27,
   "metadata": {},
   "outputs": [
    {
     "name": "stdout",
     "output_type": "stream",
     "text": [
      "{1, 2, 3, 'Elena', 'cherry', 'banana', 'c', 'John', 'b', 'a', 'apple'}\n"
     ]
    }
   ],
   "source": [
    "# Join Multiple Sets\n",
    "\n",
    "\n",
    "# Union operator\n",
    "\n",
    "set1={'a','b','c'}\n",
    "set2={1,2,3}\n",
    "set3={'John','Elena'}\n",
    "set4={'apple','banana','cherry'}\n",
    "\n",
    "myset=set1.union(set2,set3,set4)\n",
    "print(myset)"
   ]
  },
  {
   "cell_type": "code",
   "execution_count": 28,
   "metadata": {},
   "outputs": [
    {
     "name": "stdout",
     "output_type": "stream",
     "text": [
      "{1, 2, 3, 'Elena', 'cherry', 'banana', 'c', 'John', 'b', 'a', 'apple'}\n"
     ]
    }
   ],
   "source": [
    "# When using | operator, separate the sets with more | operators:\n",
    "\n",
    "set1={'a','b','c'}\n",
    "set2={1,2,3}\n",
    "set3={'John','Elena'}\n",
    "set4={'apple','banana','cherry'}\n",
    "\n",
    "myset=set1|set2|set3|set4\n",
    "print(myset)"
   ]
  },
  {
   "cell_type": "code",
   "execution_count": 31,
   "metadata": {},
   "outputs": [
    {
     "name": "stdout",
     "output_type": "stream",
     "text": [
      "{1, 2, 3, 'c', 'b', 'a'}\n"
     ]
    }
   ],
   "source": [
    "# Join a set and tuple\n",
    "# The union() method allows you to join a set with other data types, like list or tuple.\n",
    "\n",
    "x={'a','b','c'}\n",
    "y=(1,2,3)\n",
    "\n",
    "z=x.union(y)\n",
    "print(z)"
   ]
  },
  {
   "cell_type": "code",
   "execution_count": 32,
   "metadata": {},
   "outputs": [],
   "source": [
    "# Note: | operator only allows you to join sets. and not with other data types like you can with the union() method.\n",
    "\n"
   ]
  },
  {
   "cell_type": "code",
   "execution_count": 34,
   "metadata": {},
   "outputs": [
    {
     "name": "stdout",
     "output_type": "stream",
     "text": [
      "{1, 2, 3, 'c', 'b', 'a'}\n"
     ]
    }
   ],
   "source": [
    "# Update \n",
    "\n",
    "# the update() method inserts all items from one set into another.\n",
    "# the update() changes the original set, and does not return a new set.\n",
    "\n",
    "\n",
    "set1={'a','b','c'}\n",
    "set2={1,2,3}\n",
    "\n",
    "\n",
    "set1.update(set2)\n",
    "print(set1)\n"
   ]
  },
  {
   "cell_type": "code",
   "execution_count": 35,
   "metadata": {},
   "outputs": [],
   "source": [
    "# both union() and update() commands will exclude any duplicate items.\n",
    "\n"
   ]
  },
  {
   "cell_type": "code",
   "execution_count": 37,
   "metadata": {},
   "outputs": [
    {
     "name": "stdout",
     "output_type": "stream",
     "text": [
      "{'apple'}\n"
     ]
    }
   ],
   "source": [
    "# Intersection - Keeps only duplicates\n",
    "\n",
    "# The intersection() method will return to a new set, that only contains the items that are present in both sets.\n",
    "\n",
    "\n",
    "set1={'apple','banana','cherry'}\n",
    "set2={'google','microsoft','apple'}\n",
    "\n",
    "set3=set1.intersection(set2)\n",
    "\n",
    "print(set3)"
   ]
  },
  {
   "cell_type": "code",
   "execution_count": 38,
   "metadata": {},
   "outputs": [
    {
     "name": "stdout",
     "output_type": "stream",
     "text": [
      "{'apple'}\n"
     ]
    }
   ],
   "source": [
    "# You can use & operator instead of the intersection() operator, and you will get the same result:\n",
    "\n",
    "set1={'apple','banana','cherry'}\n",
    "set2={'google','microsoft','apple'}\n",
    "\n",
    "set3=set1&set2\n",
    "print(set3)"
   ]
  },
  {
   "cell_type": "code",
   "execution_count": 39,
   "metadata": {},
   "outputs": [],
   "source": [
    "# the & operator only allows you to join sets with sets, and not with other data types like you can with intersection() method.\n"
   ]
  },
  {
   "cell_type": "code",
   "execution_count": 40,
   "metadata": {},
   "outputs": [
    {
     "name": "stdout",
     "output_type": "stream",
     "text": [
      "{'apple'}\n"
     ]
    }
   ],
   "source": [
    "# the intersection_update() method will also keep only the duplicates, but will change the original set instead of returning a new set.\n",
    "\n",
    "set1={'apple','banana','cherry'}\n",
    "set2={'google','microsoft','apple'}\n",
    "\n",
    "set1.intersection_update(set2)\n",
    "print(set1)"
   ]
  },
  {
   "cell_type": "code",
   "execution_count": 41,
   "metadata": {},
   "outputs": [
    {
     "name": "stdout",
     "output_type": "stream",
     "text": [
      "{False, 1, 'apple'}\n"
     ]
    }
   ],
   "source": [
    "# The values True and 1 are considered the same value. The same goes for False 0.\n",
    "\n",
    "set1={'apple',1,'banana',0,'cherry'}\n",
    "set2={False,'google',1,'apple',2,True}\n",
    "set3=set1.intersection(set2)\n",
    "print(set3)"
   ]
  },
  {
   "cell_type": "code",
   "execution_count": 43,
   "metadata": {},
   "outputs": [
    {
     "name": "stdout",
     "output_type": "stream",
     "text": [
      "{'banana', 'cherry'}\n"
     ]
    }
   ],
   "source": [
    "# Difference\n",
    "\n",
    "# The difference() method will return a new set that will contain only the items from the first set that are not presentin the other set.\n",
    "\n",
    "set1={'apple','banana','cherry'}\n",
    "set2={'google','microsoft','apple'}\n",
    "\n",
    "set3=set1.difference(set2)\n",
    "\n",
    "print(set3)"
   ]
  },
  {
   "cell_type": "code",
   "execution_count": 44,
   "metadata": {},
   "outputs": [
    {
     "name": "stdout",
     "output_type": "stream",
     "text": [
      "{'banana', 'cherry'}\n"
     ]
    }
   ],
   "source": [
    "# You can use the operator - instead of the difference method, and you will get the same result.\n",
    "\n",
    "set1={'apple','banana','cherry'}\n",
    "set2={'google','microsoft','apple'}\n",
    "\n",
    "set3=set1-set2\n",
    "print(set3)"
   ]
  },
  {
   "cell_type": "code",
   "execution_count": 45,
   "metadata": {},
   "outputs": [
    {
     "name": "stdout",
     "output_type": "stream",
     "text": [
      "{'cherry', 'banana'}\n"
     ]
    }
   ],
   "source": [
    "# The difference_update() method to keep the items that are not present in both sets:\n",
    "\n",
    "set1={'apple','banana','cherry'}\n",
    "set2={'google','microsoft','apple'}\n",
    "set1.difference_update(set2)\n",
    "\n",
    "print(set1)"
   ]
  },
  {
   "cell_type": "code",
   "execution_count": 46,
   "metadata": {},
   "outputs": [
    {
     "name": "stdout",
     "output_type": "stream",
     "text": [
      "{'cherry', 'banana', 'microsoft', 'google'}\n"
     ]
    }
   ],
   "source": [
    "# Symmetric Differeences\n",
    "# The symmetric_differences() method will keep only the elements that are not present in both cases:\n",
    "\n",
    "set1={'apple','banana','cherry'}\n",
    "set2={'google','microsoft','apple'}\n",
    "\n",
    "set3=set1.symmetric_difference(set2)\n",
    "print(set3)"
   ]
  },
  {
   "cell_type": "code",
   "execution_count": 48,
   "metadata": {},
   "outputs": [
    {
     "name": "stdout",
     "output_type": "stream",
     "text": [
      "{'cherry', 'banana', 'microsoft', 'google'}\n"
     ]
    }
   ],
   "source": [
    "# You can use ^ operator instead of the symetric_difference() method, and you will get the same result.\n",
    "\n",
    "set1={'apple','banana','cherry'}\n",
    "set2={'google','microsoft','apple'}\n",
    "\n",
    "set3=set1^set2\n",
    "print(set3)"
   ]
  },
  {
   "cell_type": "code",
   "execution_count": 49,
   "metadata": {},
   "outputs": [
    {
     "name": "stdout",
     "output_type": "stream",
     "text": [
      "{'cherry', 'banana', 'microsoft', 'google'}\n"
     ]
    }
   ],
   "source": [
    "# The symmetric_difference_update method will also keep all but duplicates, but will change the original set instead of returning a new set.\n",
    "\n",
    "set1={'apple','banana','cherry'}\n",
    "set2={'google','microsoft','apple'}\n",
    "\n",
    "set1.symmetric_difference_update(set2)\n",
    "print(set1)"
   ]
  },
  {
   "cell_type": "code",
   "execution_count": null,
   "metadata": {},
   "outputs": [],
   "source": []
  }
 ],
 "metadata": {
  "kernelspec": {
   "display_name": "Python 3",
   "language": "python",
   "name": "python3"
  },
  "language_info": {
   "codemirror_mode": {
    "name": "ipython",
    "version": 3
   },
   "file_extension": ".py",
   "mimetype": "text/x-python",
   "name": "python",
   "nbconvert_exporter": "python",
   "pygments_lexer": "ipython3",
   "version": "3.13.2"
  }
 },
 "nbformat": 4,
 "nbformat_minor": 2
}
