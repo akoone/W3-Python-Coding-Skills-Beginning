{
 "cells": [
  {
   "cell_type": "code",
   "execution_count": 2,
   "id": "3c53af99",
   "metadata": {},
   "outputs": [
    {
     "name": "stdout",
     "output_type": "stream",
     "text": [
      "The square root of 10 is 3.1622776601683795\n"
     ]
    }
   ],
   "source": [
    "# Input Number \n",
    "\n",
    "import math\n",
    "\n",
    "x= input ('Enter a number:')\n",
    "\n",
    "y=math.sqrt(float(x))\n",
    "\n",
    "\n",
    "print(f'The square root of {x} is {y}')"
   ]
  },
  {
   "cell_type": "code",
   "execution_count": null,
   "id": "2d061a4e",
   "metadata": {},
   "outputs": [
    {
     "ename": "SyntaxError",
     "evalue": "invalid syntax (3225612930.py, line 7)",
     "output_type": "error",
     "traceback": [
      "\u001b[1;36m  Cell \u001b[1;32mIn[4], line 7\u001b[1;36m\u001b[0m\n\u001b[1;33m    x=float(x):\u001b[0m\n\u001b[1;37m              ^\u001b[0m\n\u001b[1;31mSyntaxError\u001b[0m\u001b[1;31m:\u001b[0m invalid syntax\n"
     ]
    }
   ],
   "source": [
    "# Validate Input\n",
    "\n",
    "y=True\n",
    "while y== True:\n",
    "    x=input('Enter a number:')\n",
    "    try:\n",
    "        x=float(x);\n",
    "    except:\n",
    "        print('Wrong input, please try again.')\n",
    "\n",
    "        print('Thank you!!!')\n",
    "    except:\n",
    "        print('You got wrong number, Please try again!!!')"
   ]
  },
  {
   "cell_type": "code",
   "execution_count": null,
   "id": "3c0ce98e",
   "metadata": {},
   "outputs": [],
   "source": []
  }
 ],
 "metadata": {
  "kernelspec": {
   "display_name": "Python 3",
   "language": "python",
   "name": "python3"
  },
  "language_info": {
   "codemirror_mode": {
    "name": "ipython",
    "version": 3
   },
   "file_extension": ".py",
   "mimetype": "text/x-python",
   "name": "python",
   "nbconvert_exporter": "python",
   "pygments_lexer": "ipython3",
   "version": "3.13.3"
  }
 },
 "nbformat": 4,
 "nbformat_minor": 5
}
