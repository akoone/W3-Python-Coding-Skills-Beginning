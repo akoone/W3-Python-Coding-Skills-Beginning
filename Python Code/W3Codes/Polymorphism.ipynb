{
 "cells": [
  {
   "cell_type": "code",
   "execution_count": 1,
   "id": "f52681e4",
   "metadata": {},
   "outputs": [],
   "source": [
    "# Python Polymorphism \n",
    "# The word polymorphism means 'many forms', and in programming it refers to methods/functions/operators with the samne name that can be executed on many objects or classes.\n",
    "\n",
    "\n",
    "# Function polymorphism\n",
    "\n"
   ]
  },
  {
   "cell_type": "code",
   "execution_count": 3,
   "id": "3d2f22fe",
   "metadata": {},
   "outputs": [
    {
     "name": "stdout",
     "output_type": "stream",
     "text": [
      "12\n"
     ]
    }
   ],
   "source": [
    "# String\n",
    "x= 'Hello Wordl!'\n",
    "\n",
    "print(len(x))"
   ]
  },
  {
   "cell_type": "code",
   "execution_count": 5,
   "id": "839d285e",
   "metadata": {},
   "outputs": [
    {
     "name": "stdout",
     "output_type": "stream",
     "text": [
      "3\n"
     ]
    }
   ],
   "source": [
    "# Tuple\n",
    "mytuple=('apple','banana','cherry')\n",
    "print(len(mytuple))"
   ]
  },
  {
   "cell_type": "code",
   "execution_count": 7,
   "id": "6e032bb8",
   "metadata": {},
   "outputs": [
    {
     "name": "stdout",
     "output_type": "stream",
     "text": [
      "3\n"
     ]
    }
   ],
   "source": [
    "# Dictionary\n",
    "\n",
    "thisdic={\n",
    "    'brand':'Ford',\n",
    "    'model':'Mustang',\n",
    "    'year':'1964'\n",
    "}\n",
    "print(len(thisdic))"
   ]
  },
  {
   "cell_type": "code",
   "execution_count": null,
   "id": "3b269f9b",
   "metadata": {},
   "outputs": [
    {
     "name": "stdout",
     "output_type": "stream",
     "text": [
      "Drive!\n",
      "Sail!\n",
      "Fly!\n"
     ]
    }
   ],
   "source": [
    "# Class Polymorphism\n",
    "\n",
    "\n",
    "# Polymorphism is often used in Class method, where we can have multiple classes with the same method name:\n",
    "# For example:   say we have three classes: Car,Boat, and Plane, and they all have method called move():\n",
    "\n",
    "\n",
    "# Different classes with the same method:\n",
    "\n",
    "class Car:\n",
    "    def __init__(self, brand, model):\n",
    "        self.brand=brand\n",
    "        self.model=model\n",
    "\n",
    "    def move(self):\n",
    "        print('Drive!')\n",
    "\n",
    "\n",
    "\n",
    "\n",
    "class Boat:\n",
    "    def __init__(self,brand,model):\n",
    "        self.brand=brand\n",
    "        self.model=model\n",
    "\n",
    "    \n",
    "\n",
    "    def move(self):\n",
    "        print(\"Sail!\")\n",
    "\n",
    "\n",
    "\n",
    "\n",
    "class Plane:\n",
    "    def __init__(self,brand,model):\n",
    "        self.brand=brand\n",
    "        self.model=model\n",
    "\n",
    "    def move(self):\n",
    "        print('Fly!')\n",
    "\n",
    "\n",
    "\n",
    "car1=Car('Ford','Mustang')  #Create a Car object\n",
    "boat1=Boat('Ibiza','Touring 20')  # Create a Boat object\n",
    "plane1=Plane('Boing','747')  # Create a Plane object\n",
    "\n",
    "\n",
    "\n",
    "for x in (car1, boat1, plane1):\n",
    "    x.move()\n",
    "\n",
    "\n",
    "    #Look at the for loop at the end. because of polymorphism we can execute the same ,ethod for all three element:\n"
   ]
  },
  {
   "cell_type": "code",
   "execution_count": 9,
   "id": "c606f063",
   "metadata": {},
   "outputs": [
    {
     "name": "stdout",
     "output_type": "stream",
     "text": [
      "Ford\n",
      "Mustang\n",
      "Ibiza\n",
      "Touring 20\n",
      "Boing\n",
      "747\n",
      "Fly!\n"
     ]
    }
   ],
   "source": [
    "# Inheritance Class Polymorphism\n",
    "\n",
    "class Vehicle:\n",
    "    def __init__(self,brand,model):\n",
    "        self.brand=brand\n",
    "        self.model=model\n",
    "\n",
    "\n",
    "\n",
    "    def move(self):\n",
    "        print('Move!')\n",
    "\n",
    "class Car(Vehicle):\n",
    "    pass\n",
    "\n",
    "class Boat(Vehicle):\n",
    "    def move(self):\n",
    "        print('Sail!')\n",
    "\n",
    "class Plane(Vehicle):\n",
    "    def move(self):\n",
    "        print('Fly!')\n",
    "\n",
    "\n",
    "car1=Car('Ford', 'Mustang')\n",
    "boat1=Boat('Ibiza','Touring 20')\n",
    "plane1=Plane('Boing','747')\n",
    "\n",
    "\n",
    "\n",
    "for x in (car1,boat1,plane1):\n",
    "    print(x.brand)\n",
    "    print(x.model)\n",
    "\n",
    "x.move()"
   ]
  },
  {
   "cell_type": "code",
   "execution_count": null,
   "id": "c2a41281",
   "metadata": {},
   "outputs": [],
   "source": []
  }
 ],
 "metadata": {
  "kernelspec": {
   "display_name": "Python 3",
   "language": "python",
   "name": "python3"
  },
  "language_info": {
   "codemirror_mode": {
    "name": "ipython",
    "version": 3
   },
   "file_extension": ".py",
   "mimetype": "text/x-python",
   "name": "python",
   "nbconvert_exporter": "python",
   "pygments_lexer": "ipython3",
   "version": "3.13.3"
  }
 },
 "nbformat": 4,
 "nbformat_minor": 5
}
