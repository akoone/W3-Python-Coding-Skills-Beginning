{
 "cells": [
  {
   "cell_type": "code",
   "execution_count": 79,
   "id": "8307847c",
   "metadata": {},
   "outputs": [],
   "source": [
    "\n",
    "#Note: Python does not have built-in support for Arrays, but Python lists can be used instead.\n",
    "\n",
    "# Arrays\n",
    "# Note: This page shows how to use Lists as Arrays, however, to work with arrays in python you will have to import a library, like the Numpy Library:\n",
    "# \n",
    "# \n",
    "# Arrays are used to store multiple values in one single variable:\n",
    "# \n",
    "# Create an array containing car names:\n",
    "\n",
    "\n",
    "\n",
    "cars=['Ford','Volvo','BMW']\n",
    "\n"
   ]
  },
  {
   "cell_type": "code",
   "execution_count": 80,
   "id": "1d23874b",
   "metadata": {},
   "outputs": [
    {
     "name": "stdout",
     "output_type": "stream",
     "text": [
      "Ford\n"
     ]
    }
   ],
   "source": [
    "# What is an Array?\n",
    "\n",
    "# An array is a special variable, which can hold more thanone value at a time.\n",
    "# If you have a list of items ( a list of cars), storing the cars in a single variable could look like this:\n",
    "\n",
    "car1='Ford'\n",
    "car2='Volvo'\n",
    "car3='BMW' \n",
    "\n",
    "\n",
    "# However, what if you want to loop through the cars and find a specific one? And what if you had not 3 cars, but 300.as_integer_ratio\n",
    "\n",
    "# The solution is an array!\n",
    "# An array can hold many values under a single name, and you can access the value by reffering to an index number.\n",
    "# Access the elements of an array \n",
    "# You can refer to an array element by refering to index number.\n",
    "# Get the value of the first item:\n",
    "# \n",
    "#\n",
    "# \n",
    "x= cars[0] \n",
    "print(x)"
   ]
  },
  {
   "cell_type": "code",
   "execution_count": 81,
   "id": "e5be443e",
   "metadata": {},
   "outputs": [],
   "source": [
    "cars[0]='Toyota'"
   ]
  },
  {
   "cell_type": "code",
   "execution_count": 82,
   "id": "bd3859bb",
   "metadata": {},
   "outputs": [
    {
     "name": "stdout",
     "output_type": "stream",
     "text": [
      "3\n"
     ]
    }
   ],
   "source": [
    "# the length of an Array\n",
    "# use the len() method to return the length of an array ( The number of elements in an array):\n",
    "\n",
    "x= len(cars)\n",
    "print(x)\n",
    "\n",
    "\n",
    "# Note: The length of an array is always one more than hieghst array index.\n",
    "\n"
   ]
  },
  {
   "cell_type": "code",
   "execution_count": 83,
   "id": "edd27117",
   "metadata": {},
   "outputs": [
    {
     "name": "stdout",
     "output_type": "stream",
     "text": [
      "Toyota\n",
      "Volvo\n",
      "BMW\n"
     ]
    }
   ],
   "source": [
    "# Looping Arary Elements\n",
    "# You can use the for in loop to loop therough all the elements of an array.\n",
    "\n",
    "# Print each item in the cars array.\n",
    "\n",
    "\n",
    "for x in cars:\n",
    "    print(x)"
   ]
  },
  {
   "cell_type": "code",
   "execution_count": 84,
   "id": "8d34d136",
   "metadata": {},
   "outputs": [],
   "source": [
    "# Adding  Array Elements\n",
    "# You can use the append() method to add element to an array.\n",
    "\n",
    "cars.append('Honda')"
   ]
  },
  {
   "cell_type": "code",
   "execution_count": 85,
   "id": "9504c1d3",
   "metadata": {},
   "outputs": [
    {
     "data": {
      "text/plain": [
       "'Volvo'"
      ]
     },
     "execution_count": 85,
     "metadata": {},
     "output_type": "execute_result"
    }
   ],
   "source": [
    "# Removing Array Elements\n",
    "# You can use the pop() method to remove an element from the array.\n",
    "\n",
    "\n",
    "\n",
    "\n",
    "cars.pop(1) \n",
    "\n",
    "# You can also use the remove method to remove an element from the array:\n",
    "\n",
    "#cars.remove('Volvo')"
   ]
  },
  {
   "cell_type": "code",
   "execution_count": 86,
   "id": "7fcfb321",
   "metadata": {},
   "outputs": [
    {
     "name": "stdout",
     "output_type": "stream",
     "text": [
      "['Toyota', 'BMW', 'Honda']\n"
     ]
    }
   ],
   "source": [
    "print(cars)"
   ]
  },
  {
   "cell_type": "code",
   "execution_count": 87,
   "id": "9e3ef427",
   "metadata": {},
   "outputs": [
    {
     "name": "stdout",
     "output_type": "stream",
     "text": [
      "['Toyota', 'BMW', 'Honda']\n"
     ]
    }
   ],
   "source": [
    "\n",
    "\n",
    "print(cars)"
   ]
  },
  {
   "cell_type": "code",
   "execution_count": null,
   "id": "f82f9939",
   "metadata": {},
   "outputs": [
    {
     "name": "stdout",
     "output_type": "stream",
     "text": [
      "['Honda', 'BMW', 'Toyota']\n"
     ]
    },
    {
     "ename": "",
     "evalue": "",
     "output_type": "error",
     "traceback": [
      "\u001b[1;31mThe Kernel crashed while executing code in the current cell or a previous cell. \n",
      "\u001b[1;31mPlease review the code in the cell(s) to identify a possible cause of the failure. \n",
      "\u001b[1;31mClick <a href='https://aka.ms/vscodeJupyterKernelCrash'>here</a> for more info. \n",
      "\u001b[1;31mView Jupyter <a href='command:jupyter.viewOutput'>log</a> for further details."
     ]
    }
   ],
   "source": [
    "cars.reverse()\n",
    "print(cars)\n",
    "\n",
    "cars.sort( )"
   ]
  },
  {
   "cell_type": "code",
   "execution_count": null,
   "id": "ae84b76d",
   "metadata": {},
   "outputs": [],
   "source": []
  }
 ],
 "metadata": {
  "kernelspec": {
   "display_name": "Python 3",
   "language": "python",
   "name": "python3"
  },
  "language_info": {
   "codemirror_mode": {
    "name": "ipython",
    "version": 3
   },
   "file_extension": ".py",
   "mimetype": "text/x-python",
   "name": "python",
   "nbconvert_exporter": "python",
   "pygments_lexer": "ipython3",
   "version": "3.13.3"
  }
 },
 "nbformat": 4,
 "nbformat_minor": 5
}
