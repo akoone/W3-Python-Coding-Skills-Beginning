{
 "cells": [
  {
   "cell_type": "code",
   "execution_count": 33,
   "id": "3480e42b",
   "metadata": {},
   "outputs": [],
   "source": [
    "# Python Classes and Objects\n",
    "# \n",
    "# \n",
    "# Python is a object oriented programming language.\n",
    "# Almost everything in python is an object, with its propertires and methods.\n",
    "# A Class is loke an object constructor, or a \"blueprint\" for creating objects.\n",
    " "
   ]
  },
  {
   "cell_type": "code",
   "execution_count": 34,
   "id": "8fc6bee9",
   "metadata": {},
   "outputs": [
    {
     "name": "stdout",
     "output_type": "stream",
     "text": [
      "5\n"
     ]
    }
   ],
   "source": [
    "#Create a Class\n",
    "\n",
    "\n",
    "class MyClass:\n",
    "    x=5\n",
    "    print(x)"
   ]
  },
  {
   "cell_type": "code",
   "execution_count": 35,
   "id": "5a516f01",
   "metadata": {},
   "outputs": [
    {
     "name": "stdout",
     "output_type": "stream",
     "text": [
      "5\n"
     ]
    }
   ],
   "source": [
    "# Create a Object\n",
    "\n",
    "p1=MyClass()\n",
    "print(p1.x)"
   ]
  },
  {
   "cell_type": "code",
   "execution_count": null,
   "id": "f394bb41",
   "metadata": {},
   "outputs": [
    {
     "ename": "TypeError",
     "evalue": "Person() takes no arguments",
     "output_type": "error",
     "traceback": [
      "\u001b[1;31m---------------------------------------------------------------------------\u001b[0m",
      "\u001b[1;31mTypeError\u001b[0m                                 Traceback (most recent call last)",
      "Cell \u001b[1;32mIn[72], line 21\u001b[0m\n\u001b[0;32m     15\u001b[0m         \u001b[38;5;28mself\u001b[39m\u001b[38;5;241m.\u001b[39mname\u001b[38;5;241m=\u001b[39m name\n\u001b[0;32m     16\u001b[0m         \u001b[38;5;28mself\u001b[39m\u001b[38;5;241m.\u001b[39mage\u001b[38;5;241m=\u001b[39m age\n\u001b[1;32m---> 21\u001b[0m p1 \u001b[38;5;241m=\u001b[39m \u001b[43mPerson\u001b[49m\u001b[43m(\u001b[49m\u001b[38;5;124;43m\"\u001b[39;49m\u001b[38;5;124;43mJohn\u001b[39;49m\u001b[38;5;124;43m\"\u001b[39;49m\u001b[43m,\u001b[49m\u001b[43m \u001b[49m\u001b[38;5;241;43m36\u001b[39;49m\u001b[43m)\u001b[49m \n\u001b[0;32m     24\u001b[0m \u001b[38;5;28mprint\u001b[39m(p1\u001b[38;5;241m.\u001b[39mname)\n\u001b[0;32m     25\u001b[0m \u001b[38;5;28mprint\u001b[39m(p1\u001b[38;5;241m.\u001b[39mage)\n",
      "\u001b[1;31mTypeError\u001b[0m: Person() takes no arguments"
     ]
    },
    {
     "ename": "",
     "evalue": "",
     "output_type": "error",
     "traceback": [
      "\u001b[1;31mThe Kernel crashed while executing code in the current cell or a previous cell. \n",
      "\u001b[1;31mPlease review the code in the cell(s) to identify a possible cause of the failure. \n",
      "\u001b[1;31mClick <a href='https://aka.ms/vscodeJupyterKernelCrash'>here</a> for more info. \n",
      "\u001b[1;31mView Jupyter <a href='command:jupyter.viewOutput'>log</a> for further details."
     ]
    }
   ],
   "source": [
    "# The_init_()Function\n",
    "# The examples above are classes and objects in their simplest form, and are not really useful in real life application.\n",
    "# \n",
    "# To understand the meaning of classes we have to understand the vuilt-in _init_() function.\n",
    "# \n",
    "# All classes have a function called _init_(), which is always executed when the class is being initiated.\n",
    "# \n",
    "# Use the _init_() function to assign values to object properties, or other operations that are necessary to do when object is being created.\n",
    "# \n",
    "# \n",
    "\n",
    "\n",
    "class Person:\n",
    "    def _init_(self, name, age):\n",
    "        self.name= name\n",
    "        self.age= age\n",
    "        \n",
    "        \n",
    "        \n",
    "        \n",
    "p1 = Person(\"John\", 36) \n",
    "\n",
    "\n",
    "print(p1.name)\n",
    "print(p1.age)\n",
    "\n",
    "\n",
    "# The Note: __init__() function is called automatically everytime the class is being used to create a new object:\n"
   ]
  },
  {
   "cell_type": "code",
   "execution_count": null,
   "id": "0fd10520",
   "metadata": {},
   "outputs": [
    {
     "name": "stdout",
     "output_type": "stream",
     "text": [
      "<__main__.Person object at 0x000001BAB5C17ED0>\n"
     ]
    }
   ],
   "source": [
    "# The__str__() Functions\n",
    "# \n",
    "# The __str__() function controls what should be returned when the class object as a string.\n",
    "# \n",
    "# If the __str__() function is not set, the string representation of the object is returned:\n",
    "# \n",
    "\n",
    "\n",
    "class Person:\n",
    "    def __init__(self, name, age):\n",
    "        self.name=name\n",
    "        self.age=age\n",
    "\n",
    "    p1=Person('John',36)\n",
    "\n",
    "    print(p1)"
   ]
  },
  {
   "cell_type": "code",
   "execution_count": 44,
   "id": "78c6452f",
   "metadata": {},
   "outputs": [
    {
     "name": "stdout",
     "output_type": "stream",
     "text": [
      "John(36)\n"
     ]
    }
   ],
   "source": [
    "class Person:\n",
    "    def __init__(self, name, age):\n",
    "        self.name= name\n",
    "        self.age= age\n",
    "\n",
    "    def __str__(self):\n",
    "        return f\"{self.name}({self.age})\"\n",
    "    \n",
    "p1=Person(\"John\", 36)\n",
    "\n",
    "print(p1)"
   ]
  },
  {
   "cell_type": "code",
   "execution_count": null,
   "id": "c50855ac",
   "metadata": {},
   "outputs": [
    {
     "name": "stdout",
     "output_type": "stream",
     "text": [
      "Hello my name is John\n"
     ]
    }
   ],
   "source": [
    "#Object Methods\n",
    "# Objects can also contain methods. Methods in objects are functions that belong to the object\n",
    "# \n",
    "# \n",
    "# \n",
    "\n",
    "class Person:\n",
    "    def __init__(self, name, age):\n",
    "        self.name=name\n",
    "        self.age=age\n",
    "\n",
    "\n",
    "\n",
    "    def myfunc(self):\n",
    "     print(\"Hello my name is \" + self.name)\n",
    "\n",
    "p1= Person(\"John\", 36) \n",
    "p1.myfunc()\n",
    "\n",
    "\n",
    "\n",
    "# The self parameter is a reference to the current instance of the class, and is used to access variables that belong to the class.\n",
    "# It does not to be named self, you can call it whatever you like, but it has to be first parameter of any function in the class:\n"
   ]
  },
  {
   "cell_type": "code",
   "execution_count": 60,
   "id": "0a0de09d",
   "metadata": {},
   "outputs": [
    {
     "name": "stdout",
     "output_type": "stream",
     "text": [
      "Hello my name is John\n"
     ]
    }
   ],
   "source": [
    "class Person:\n",
    "    def __init__(mysillyobject, name,age):\n",
    "        mysillyobject.name=name\n",
    "        mysillyobject.age=age\n",
    "\n",
    "\n",
    "    def myfunc(abc):\n",
    "        print(\"Hello my name is \" + abc.name)\n",
    "\n",
    "p1=Person(\"John\", 36)\n",
    "p1.myfunc()"
   ]
  },
  {
   "cell_type": "code",
   "execution_count": 61,
   "id": "dd58d05e",
   "metadata": {},
   "outputs": [],
   "source": [
    "# Modify object properties\n",
    "\n",
    "p1.age=40"
   ]
  },
  {
   "cell_type": "code",
   "execution_count": 62,
   "id": "98a9ac82",
   "metadata": {},
   "outputs": [],
   "source": [
    "# You can delete properties on objects  by using del keyword:\n",
    "\n",
    "\n",
    "\n",
    "del p1.age"
   ]
  },
  {
   "cell_type": "code",
   "execution_count": 66,
   "id": "a00b04a5",
   "metadata": {},
   "outputs": [],
   "source": [
    "# Delete Objects\n",
    "\n",
    "del p1"
   ]
  },
  {
   "cell_type": "code",
   "execution_count": 68,
   "id": "20c0d002",
   "metadata": {},
   "outputs": [],
   "source": [
    "# The pass statement\n",
    "# class definations can not be empty, but if you for some reason have a class defination with no content , put in the pass statement to avoid hetting an error.\n",
    "\n",
    "class Peron:\n",
    "    pass"
   ]
  },
  {
   "cell_type": "code",
   "execution_count": null,
   "id": "d3b69109",
   "metadata": {},
   "outputs": [],
   "source": []
  }
 ],
 "metadata": {
  "kernelspec": {
   "display_name": "Python 3",
   "language": "python",
   "name": "python3"
  },
  "language_info": {
   "codemirror_mode": {
    "name": "ipython",
    "version": 3
   },
   "file_extension": ".py",
   "mimetype": "text/x-python",
   "name": "python",
   "nbconvert_exporter": "python",
   "pygments_lexer": "ipython3",
   "version": "3.13.3"
  }
 },
 "nbformat": 4,
 "nbformat_minor": 5
}
